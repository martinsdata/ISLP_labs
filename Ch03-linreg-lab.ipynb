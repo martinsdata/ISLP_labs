{
 "cells": [
  {
   "cell_type": "markdown",
   "id": "18156290",
   "metadata": {},
   "source": [
    "# Linear Regression\n",
    "\n",
    "<a target=\"_blank\" href=\"https://colab.research.google.com/github/intro-stat-learning/ISLP_labs/blob/v2.2/Ch03-linreg-lab.ipynb\">\n",
    "<img src=\"https://colab.research.google.com/assets/colab-badge.svg\" alt=\"Open In Colab\"/>\n",
    "</a>\n",
    "\n",
    "[![Binder](https://mybinder.org/badge_logo.svg)](https://mybinder.org/v2/gh/intro-stat-learning/ISLP_labs/v2.2?labpath=Ch03-linreg-lab.ipynb)\n"
   ]
  },
  {
   "cell_type": "markdown",
   "id": "7c62aa70",
   "metadata": {},
   "source": [
    "## Importing packages\n",
    "We import our standard libraries at this top\n",
    "level."
   ]
  },
  {
   "cell_type": "code",
   "execution_count": 2,
   "id": "c5fcfd8f",
   "metadata": {
    "execution": {
     "iopub.execute_input": "2025-04-03T19:32:49.534485Z",
     "iopub.status.busy": "2025-04-03T19:32:49.534275Z",
     "iopub.status.idle": "2025-04-03T19:32:50.010417Z",
     "shell.execute_reply": "2025-04-03T19:32:50.010150Z"
    },
    "lines_to_next_cell": 2
   },
   "outputs": [],
   "source": [
    "import numpy as np\n",
    "import pandas as pd\n",
    "from matplotlib.pyplot import subplots"
   ]
  },
  {
   "cell_type": "markdown",
   "id": "bc3e353a",
   "metadata": {},
   "source": [
    "### New imports\n",
    "Throughout this lab we will introduce new functions and libraries. However,\n",
    "we will import them here to emphasize these are the new\n",
    "code objects in this lab. Keeping imports near the top\n",
    "of a notebook makes the code more readable, since scanning the first few\n",
    "lines tells us what libraries are used."
   ]
  },
  {
   "cell_type": "code",
   "execution_count": 3,
   "id": "42cfb62e",
   "metadata": {
    "execution": {
     "iopub.execute_input": "2025-04-03T19:32:50.011974Z",
     "iopub.status.busy": "2025-04-03T19:32:50.011862Z",
     "iopub.status.idle": "2025-04-03T19:32:50.564863Z",
     "shell.execute_reply": "2025-04-03T19:32:50.564550Z"
    },
    "lines_to_next_cell": 0
   },
   "outputs": [],
   "source": [
    "import statsmodels.api as sm"
   ]
  },
  {
   "cell_type": "markdown",
   "id": "dd7ce405",
   "metadata": {},
   "source": [
    " We will provide relevant details about the\n",
    "functions below as they are needed.\n",
    "\n",
    "Besides importing whole modules, it is also possible\n",
    "to import only a few items from a given module. This\n",
    "will help keep the  *namespace* clean.\n",
    "We will use a few specific objects from the `statsmodels` package\n",
    "which we import here."
   ]
  },
  {
   "cell_type": "code",
   "execution_count": 4,
   "id": "b387d3ac",
   "metadata": {
    "execution": {
     "iopub.execute_input": "2025-04-03T19:32:50.566473Z",
     "iopub.status.busy": "2025-04-03T19:32:50.566349Z",
     "iopub.status.idle": "2025-04-03T19:32:50.568873Z",
     "shell.execute_reply": "2025-04-03T19:32:50.568660Z"
    }
   },
   "outputs": [],
   "source": [
    "from statsmodels.stats.outliers_influence \\\n",
    "     import variance_inflation_factor as VIF\n",
    "from statsmodels.stats.anova import anova_lm"
   ]
  },
  {
   "cell_type": "markdown",
   "id": "b4713b12",
   "metadata": {},
   "source": [
    "As one of the import statements above is quite a long line, we inserted a line break `\\` to\n",
    "ease readability.\n",
    "\n",
    "We will also use some functions written for the labs in this book in the `ISLP`\n",
    "package."
   ]
  },
  {
   "cell_type": "code",
   "execution_count": 5,
   "id": "307b7e22",
   "metadata": {
    "execution": {
     "iopub.execute_input": "2025-04-03T19:32:50.570051Z",
     "iopub.status.busy": "2025-04-03T19:32:50.569963Z",
     "iopub.status.idle": "2025-04-03T19:32:50.713742Z",
     "shell.execute_reply": "2025-04-03T19:32:50.713496Z"
    }
   },
   "outputs": [],
   "source": [
    "from ISLP import load_data\n",
    "from ISLP.models import (ModelSpec as MS,\n",
    "                         summarize,\n",
    "                         poly)"
   ]
  },
  {
   "cell_type": "markdown",
   "id": "81d778fb",
   "metadata": {},
   "source": [
    "### Inspecting Objects and Namespaces\n",
    "The\n",
    "function  `dir()`\n",
    "provides a list of\n",
    "objects in a namespace."
   ]
  },
  {
   "cell_type": "code",
   "execution_count": 6,
   "id": "79099069",
   "metadata": {
    "execution": {
     "iopub.execute_input": "2025-04-03T19:32:50.715171Z",
     "iopub.status.busy": "2025-04-03T19:32:50.715043Z",
     "iopub.status.idle": "2025-04-03T19:32:50.717952Z",
     "shell.execute_reply": "2025-04-03T19:32:50.717720Z"
    },
    "lines_to_next_cell": 0
   },
   "outputs": [
    {
     "data": {
      "text/plain": [
       "['In',\n",
       " 'MS',\n",
       " 'Out',\n",
       " 'VIF',\n",
       " '_',\n",
       " '__',\n",
       " '___',\n",
       " '__builtin__',\n",
       " '__builtins__',\n",
       " '__doc__',\n",
       " '__loader__',\n",
       " '__name__',\n",
       " '__package__',\n",
       " '__spec__',\n",
       " '__vsc_ipynb_file__',\n",
       " '_dh',\n",
       " '_i',\n",
       " '_i1',\n",
       " '_i2',\n",
       " '_i3',\n",
       " '_i4',\n",
       " '_i5',\n",
       " '_i6',\n",
       " '_ih',\n",
       " '_ii',\n",
       " '_iii',\n",
       " '_oh',\n",
       " 'anova_lm',\n",
       " 'exit',\n",
       " 'get_ipython',\n",
       " 'load_data',\n",
       " 'np',\n",
       " 'open',\n",
       " 'pd',\n",
       " 'poly',\n",
       " 'quit',\n",
       " 'sm',\n",
       " 'subplots',\n",
       " 'summarize']"
      ]
     },
     "execution_count": 6,
     "metadata": {},
     "output_type": "execute_result"
    }
   ],
   "source": [
    "dir()"
   ]
  },
  {
   "cell_type": "markdown",
   "id": "237f9711",
   "metadata": {},
   "source": [
    " This shows you everything that `Python` can find at the top level.\n",
    "There are certain objects like `__builtins__` that contain references to built-in\n",
    "functions like `print()`.\n",
    "\n",
    "Every python object has its own notion of\n",
    "namespace, also accessible with `dir()`. This will include\n",
    "both the attributes of the object\n",
    "as well as any methods associated with it. For instance, we see `'sum'` in the listing for an\n",
    "array."
   ]
  },
  {
   "cell_type": "code",
   "execution_count": 7,
   "id": "3f99195f",
   "metadata": {
    "execution": {
     "iopub.execute_input": "2025-04-03T19:32:50.719063Z",
     "iopub.status.busy": "2025-04-03T19:32:50.718985Z",
     "iopub.status.idle": "2025-04-03T19:32:50.721371Z",
     "shell.execute_reply": "2025-04-03T19:32:50.721167Z"
    },
    "lines_to_next_cell": 0
   },
   "outputs": [
    {
     "data": {
      "text/plain": [
       "['T',\n",
       " '__abs__',\n",
       " '__add__',\n",
       " '__and__',\n",
       " '__array__',\n",
       " '__array_finalize__',\n",
       " '__array_function__',\n",
       " '__array_interface__',\n",
       " '__array_prepare__',\n",
       " '__array_priority__',\n",
       " '__array_struct__',\n",
       " '__array_ufunc__',\n",
       " '__array_wrap__',\n",
       " '__bool__',\n",
       " '__class__',\n",
       " '__class_getitem__',\n",
       " '__complex__',\n",
       " '__contains__',\n",
       " '__copy__',\n",
       " '__deepcopy__',\n",
       " '__delattr__',\n",
       " '__delitem__',\n",
       " '__dir__',\n",
       " '__divmod__',\n",
       " '__dlpack__',\n",
       " '__dlpack_device__',\n",
       " '__doc__',\n",
       " '__eq__',\n",
       " '__float__',\n",
       " '__floordiv__',\n",
       " '__format__',\n",
       " '__ge__',\n",
       " '__getattribute__',\n",
       " '__getitem__',\n",
       " '__getstate__',\n",
       " '__gt__',\n",
       " '__hash__',\n",
       " '__iadd__',\n",
       " '__iand__',\n",
       " '__ifloordiv__',\n",
       " '__ilshift__',\n",
       " '__imatmul__',\n",
       " '__imod__',\n",
       " '__imul__',\n",
       " '__index__',\n",
       " '__init__',\n",
       " '__init_subclass__',\n",
       " '__int__',\n",
       " '__invert__',\n",
       " '__ior__',\n",
       " '__ipow__',\n",
       " '__irshift__',\n",
       " '__isub__',\n",
       " '__iter__',\n",
       " '__itruediv__',\n",
       " '__ixor__',\n",
       " '__le__',\n",
       " '__len__',\n",
       " '__lshift__',\n",
       " '__lt__',\n",
       " '__matmul__',\n",
       " '__mod__',\n",
       " '__mul__',\n",
       " '__ne__',\n",
       " '__neg__',\n",
       " '__new__',\n",
       " '__or__',\n",
       " '__pos__',\n",
       " '__pow__',\n",
       " '__radd__',\n",
       " '__rand__',\n",
       " '__rdivmod__',\n",
       " '__reduce__',\n",
       " '__reduce_ex__',\n",
       " '__repr__',\n",
       " '__rfloordiv__',\n",
       " '__rlshift__',\n",
       " '__rmatmul__',\n",
       " '__rmod__',\n",
       " '__rmul__',\n",
       " '__ror__',\n",
       " '__rpow__',\n",
       " '__rrshift__',\n",
       " '__rshift__',\n",
       " '__rsub__',\n",
       " '__rtruediv__',\n",
       " '__rxor__',\n",
       " '__setattr__',\n",
       " '__setitem__',\n",
       " '__setstate__',\n",
       " '__sizeof__',\n",
       " '__str__',\n",
       " '__sub__',\n",
       " '__subclasshook__',\n",
       " '__truediv__',\n",
       " '__xor__',\n",
       " 'all',\n",
       " 'any',\n",
       " 'argmax',\n",
       " 'argmin',\n",
       " 'argpartition',\n",
       " 'argsort',\n",
       " 'astype',\n",
       " 'base',\n",
       " 'byteswap',\n",
       " 'choose',\n",
       " 'clip',\n",
       " 'compress',\n",
       " 'conj',\n",
       " 'conjugate',\n",
       " 'copy',\n",
       " 'ctypes',\n",
       " 'cumprod',\n",
       " 'cumsum',\n",
       " 'data',\n",
       " 'diagonal',\n",
       " 'dot',\n",
       " 'dtype',\n",
       " 'dump',\n",
       " 'dumps',\n",
       " 'fill',\n",
       " 'flags',\n",
       " 'flat',\n",
       " 'flatten',\n",
       " 'getfield',\n",
       " 'imag',\n",
       " 'item',\n",
       " 'itemset',\n",
       " 'itemsize',\n",
       " 'max',\n",
       " 'mean',\n",
       " 'min',\n",
       " 'nbytes',\n",
       " 'ndim',\n",
       " 'newbyteorder',\n",
       " 'nonzero',\n",
       " 'partition',\n",
       " 'prod',\n",
       " 'ptp',\n",
       " 'put',\n",
       " 'ravel',\n",
       " 'real',\n",
       " 'repeat',\n",
       " 'reshape',\n",
       " 'resize',\n",
       " 'round',\n",
       " 'searchsorted',\n",
       " 'setfield',\n",
       " 'setflags',\n",
       " 'shape',\n",
       " 'size',\n",
       " 'sort',\n",
       " 'squeeze',\n",
       " 'std',\n",
       " 'strides',\n",
       " 'sum',\n",
       " 'swapaxes',\n",
       " 'take',\n",
       " 'tobytes',\n",
       " 'tofile',\n",
       " 'tolist',\n",
       " 'tostring',\n",
       " 'trace',\n",
       " 'transpose',\n",
       " 'var',\n",
       " 'view']"
      ]
     },
     "execution_count": 7,
     "metadata": {},
     "output_type": "execute_result"
    }
   ],
   "source": [
    "A = np.array([3,5,11])\n",
    "dir(A)"
   ]
  },
  {
   "cell_type": "markdown",
   "id": "9d776f61",
   "metadata": {},
   "source": [
    " This indicates that the object `A.sum` exists. In this case it is a method\n",
    "that can be used to compute the sum of the array `A` as can be seen by typing `A.sum?`."
   ]
  },
  {
   "cell_type": "code",
   "execution_count": 8,
   "id": "f3f913ca",
   "metadata": {
    "execution": {
     "iopub.execute_input": "2025-04-03T19:32:50.722431Z",
     "iopub.status.busy": "2025-04-03T19:32:50.722351Z",
     "iopub.status.idle": "2025-04-03T19:32:50.724233Z",
     "shell.execute_reply": "2025-04-03T19:32:50.724037Z"
    },
    "lines_to_next_cell": 0
   },
   "outputs": [
    {
     "data": {
      "text/plain": [
       "19"
      ]
     },
     "execution_count": 8,
     "metadata": {},
     "output_type": "execute_result"
    }
   ],
   "source": [
    "A.sum()"
   ]
  },
  {
   "cell_type": "markdown",
   "id": "0b212f1f",
   "metadata": {},
   "source": [
    "## Simple Linear Regression\n",
    "In this section we will  construct model \n",
    "matrices (also called design matrices) using the `ModelSpec()`  transform from `ISLP.models`.\n",
    "\n",
    "We  will use the `Boston` housing data set, which is contained in the `ISLP` package.  The `Boston` dataset records  `medv`  (median house value) for $506$ neighborhoods\n",
    "around Boston.  We will build a regression model to predict  `medv`  using $13$\n",
    "predictors such as  `rm`  (average number of rooms per house),\n",
    " `age`  (proportion of owner-occupied units built prior to 1940), and  `lstat`  (percent of\n",
    "households with low socioeconomic status).  We will use `statsmodels` for this\n",
    "task, a `Python` package that implements several commonly used\n",
    "regression methods.\n",
    "\n",
    "We have included a simple loading function `load_data()` in the\n",
    "`ISLP` package:"
   ]
  },
  {
   "cell_type": "code",
   "execution_count": 9,
   "id": "d720e2c5",
   "metadata": {
    "execution": {
     "iopub.execute_input": "2025-04-03T19:32:50.725318Z",
     "iopub.status.busy": "2025-04-03T19:32:50.725239Z",
     "iopub.status.idle": "2025-04-03T19:32:50.729860Z",
     "shell.execute_reply": "2025-04-03T19:32:50.729670Z"
    }
   },
   "outputs": [
    {
     "data": {
      "text/html": [
       "<div>\n",
       "<style scoped>\n",
       "    .dataframe tbody tr th:only-of-type {\n",
       "        vertical-align: middle;\n",
       "    }\n",
       "\n",
       "    .dataframe tbody tr th {\n",
       "        vertical-align: top;\n",
       "    }\n",
       "\n",
       "    .dataframe thead th {\n",
       "        text-align: right;\n",
       "    }\n",
       "</style>\n",
       "<table border=\"1\" class=\"dataframe\">\n",
       "  <thead>\n",
       "    <tr style=\"text-align: right;\">\n",
       "      <th></th>\n",
       "      <th>crim</th>\n",
       "      <th>zn</th>\n",
       "      <th>indus</th>\n",
       "      <th>chas</th>\n",
       "      <th>nox</th>\n",
       "      <th>rm</th>\n",
       "      <th>age</th>\n",
       "      <th>dis</th>\n",
       "      <th>rad</th>\n",
       "      <th>tax</th>\n",
       "      <th>ptratio</th>\n",
       "      <th>lstat</th>\n",
       "      <th>medv</th>\n",
       "    </tr>\n",
       "  </thead>\n",
       "  <tbody>\n",
       "    <tr>\n",
       "      <th>0</th>\n",
       "      <td>0.00632</td>\n",
       "      <td>18.0</td>\n",
       "      <td>2.31</td>\n",
       "      <td>0</td>\n",
       "      <td>0.538</td>\n",
       "      <td>6.575</td>\n",
       "      <td>65.2</td>\n",
       "      <td>4.0900</td>\n",
       "      <td>1</td>\n",
       "      <td>296</td>\n",
       "      <td>15.3</td>\n",
       "      <td>4.98</td>\n",
       "      <td>24.0</td>\n",
       "    </tr>\n",
       "    <tr>\n",
       "      <th>1</th>\n",
       "      <td>0.02731</td>\n",
       "      <td>0.0</td>\n",
       "      <td>7.07</td>\n",
       "      <td>0</td>\n",
       "      <td>0.469</td>\n",
       "      <td>6.421</td>\n",
       "      <td>78.9</td>\n",
       "      <td>4.9671</td>\n",
       "      <td>2</td>\n",
       "      <td>242</td>\n",
       "      <td>17.8</td>\n",
       "      <td>9.14</td>\n",
       "      <td>21.6</td>\n",
       "    </tr>\n",
       "    <tr>\n",
       "      <th>2</th>\n",
       "      <td>0.02729</td>\n",
       "      <td>0.0</td>\n",
       "      <td>7.07</td>\n",
       "      <td>0</td>\n",
       "      <td>0.469</td>\n",
       "      <td>7.185</td>\n",
       "      <td>61.1</td>\n",
       "      <td>4.9671</td>\n",
       "      <td>2</td>\n",
       "      <td>242</td>\n",
       "      <td>17.8</td>\n",
       "      <td>4.03</td>\n",
       "      <td>34.7</td>\n",
       "    </tr>\n",
       "    <tr>\n",
       "      <th>3</th>\n",
       "      <td>0.03237</td>\n",
       "      <td>0.0</td>\n",
       "      <td>2.18</td>\n",
       "      <td>0</td>\n",
       "      <td>0.458</td>\n",
       "      <td>6.998</td>\n",
       "      <td>45.8</td>\n",
       "      <td>6.0622</td>\n",
       "      <td>3</td>\n",
       "      <td>222</td>\n",
       "      <td>18.7</td>\n",
       "      <td>2.94</td>\n",
       "      <td>33.4</td>\n",
       "    </tr>\n",
       "    <tr>\n",
       "      <th>4</th>\n",
       "      <td>0.06905</td>\n",
       "      <td>0.0</td>\n",
       "      <td>2.18</td>\n",
       "      <td>0</td>\n",
       "      <td>0.458</td>\n",
       "      <td>7.147</td>\n",
       "      <td>54.2</td>\n",
       "      <td>6.0622</td>\n",
       "      <td>3</td>\n",
       "      <td>222</td>\n",
       "      <td>18.7</td>\n",
       "      <td>5.33</td>\n",
       "      <td>36.2</td>\n",
       "    </tr>\n",
       "  </tbody>\n",
       "</table>\n",
       "</div>"
      ],
      "text/plain": [
       "      crim    zn  indus  chas    nox     rm   age     dis  rad  tax  ptratio  \\\n",
       "0  0.00632  18.0   2.31     0  0.538  6.575  65.2  4.0900    1  296     15.3   \n",
       "1  0.02731   0.0   7.07     0  0.469  6.421  78.9  4.9671    2  242     17.8   \n",
       "2  0.02729   0.0   7.07     0  0.469  7.185  61.1  4.9671    2  242     17.8   \n",
       "3  0.03237   0.0   2.18     0  0.458  6.998  45.8  6.0622    3  222     18.7   \n",
       "4  0.06905   0.0   2.18     0  0.458  7.147  54.2  6.0622    3  222     18.7   \n",
       "\n",
       "   lstat  medv  \n",
       "0   4.98  24.0  \n",
       "1   9.14  21.6  \n",
       "2   4.03  34.7  \n",
       "3   2.94  33.4  \n",
       "4   5.33  36.2  "
      ]
     },
     "execution_count": 9,
     "metadata": {},
     "output_type": "execute_result"
    }
   ],
   "source": [
    "Boston = load_data(\"Boston\")\n",
    "Boston.head()\n",
    "\n",
    "# 'medv' (median house value - output variable) for 506 neighborhoods around Boston.\n",
    "\n",
    "#  We will build a regression model to predict 'medv' using 13 predictors such as:  \n",
    "\n",
    "# - 'rm': average number of rooms per house\n",
    "# - 'age': proportion of owner-occupied units built prior to 1940  \n",
    "# - 'lstat': percent of households with low socioeconomic status  \n",
    "\n",
    "# We will use `statsmodels` for this task, a package that implements several commonly used regression methods."
   ]
  },
  {
   "cell_type": "markdown",
   "id": "27b9c8f5",
   "metadata": {},
   "source": [
    "Type `Boston?` to find out more about these data.\n",
    "\n",
    "We start by using the `sm.OLS()`  function to fit a\n",
    "simple linear regression model.  Our response will be\n",
    " `medv`  and  `lstat`  will be the single predictor.\n",
    "For this model, we can create the model matrix by hand.\n"
   ]
  },
  {
   "cell_type": "code",
   "execution_count": 10,
   "id": "b0de921c",
   "metadata": {},
   "outputs": [],
   "source": [
    "# help(Boston)"
   ]
  },
  {
   "cell_type": "code",
   "execution_count": 11,
   "id": "40e9b0d5",
   "metadata": {
    "execution": {
     "iopub.execute_input": "2025-04-03T19:32:50.730951Z",
     "iopub.status.busy": "2025-04-03T19:32:50.730869Z",
     "iopub.status.idle": "2025-04-03T19:32:50.735144Z",
     "shell.execute_reply": "2025-04-03T19:32:50.734950Z"
    }
   },
   "outputs": [
    {
     "data": {
      "text/html": [
       "<div>\n",
       "<style scoped>\n",
       "    .dataframe tbody tr th:only-of-type {\n",
       "        vertical-align: middle;\n",
       "    }\n",
       "\n",
       "    .dataframe tbody tr th {\n",
       "        vertical-align: top;\n",
       "    }\n",
       "\n",
       "    .dataframe thead th {\n",
       "        text-align: right;\n",
       "    }\n",
       "</style>\n",
       "<table border=\"1\" class=\"dataframe\">\n",
       "  <thead>\n",
       "    <tr style=\"text-align: right;\">\n",
       "      <th></th>\n",
       "      <th>intercept</th>\n",
       "      <th>lstat</th>\n",
       "    </tr>\n",
       "  </thead>\n",
       "  <tbody>\n",
       "    <tr>\n",
       "      <th>0</th>\n",
       "      <td>1.0</td>\n",
       "      <td>4.98</td>\n",
       "    </tr>\n",
       "    <tr>\n",
       "      <th>1</th>\n",
       "      <td>1.0</td>\n",
       "      <td>9.14</td>\n",
       "    </tr>\n",
       "    <tr>\n",
       "      <th>2</th>\n",
       "      <td>1.0</td>\n",
       "      <td>4.03</td>\n",
       "    </tr>\n",
       "    <tr>\n",
       "      <th>3</th>\n",
       "      <td>1.0</td>\n",
       "      <td>2.94</td>\n",
       "    </tr>\n",
       "    <tr>\n",
       "      <th>4</th>\n",
       "      <td>1.0</td>\n",
       "      <td>5.33</td>\n",
       "    </tr>\n",
       "  </tbody>\n",
       "</table>\n",
       "</div>"
      ],
      "text/plain": [
       "   intercept  lstat\n",
       "0        1.0   4.98\n",
       "1        1.0   9.14\n",
       "2        1.0   4.03\n",
       "3        1.0   2.94\n",
       "4        1.0   5.33"
      ]
     },
     "execution_count": 11,
     "metadata": {},
     "output_type": "execute_result"
    }
   ],
   "source": [
    "# Let's try out fitting simpler regression between 'medv' and 'lstat' first.\n",
    "# Create a new dataframe with just the intercept and 'lstat' columns\n",
    "\n",
    "X = pd.DataFrame(\n",
    "    {\n",
    "    'intercept': np.ones(Boston.shape[0]), # intercept is a column of ones as long as the data, this is usful for regression \n",
    "    'lstat': Boston['lstat'] # lstat is the percentage of lower status of the population\n",
    "    }\n",
    ")\n",
    "\n",
    "X.head()"
   ]
  },
  {
   "cell_type": "markdown",
   "id": "162d93ef",
   "metadata": {},
   "source": [
    "We extract the response, and fit the model."
   ]
  },
  {
   "cell_type": "code",
   "execution_count": 12,
   "id": "c1d544d6",
   "metadata": {
    "execution": {
     "iopub.execute_input": "2025-04-03T19:32:50.736270Z",
     "iopub.status.busy": "2025-04-03T19:32:50.736186Z",
     "iopub.status.idle": "2025-04-03T19:32:50.738112Z",
     "shell.execute_reply": "2025-04-03T19:32:50.737910Z"
    },
    "lines_to_next_cell": 0
   },
   "outputs": [],
   "source": [
    "y = Boston['medv']    # output variable 'medv', the median value of homes\n",
    "model = sm.OLS(y, X)  # We create a model object from statsmodels ordinary least squares regression\n",
    "results = model.fit() # We fit the model (i.e. 'learn' parameters e.g., scaling, encoding) to the data"
   ]
  },
  {
   "cell_type": "markdown",
   "id": "2a1d62f2",
   "metadata": {},
   "source": [
    "Note that `sm.OLS()` does\n",
    "not fit the model; it specifies the model, and then `model.fit()` does the actual fitting.  \n",
    "\n",
    "Our `ISLP` function `summarize()` produces a simple table of the parameter estimates,\n",
    "their standard errors, t-statistics and p-values.\n",
    "The function takes a single argument, such as the object `results` \n",
    "returned here by the `fit`\n",
    "method, and returns such a summary."
   ]
  },
  {
   "cell_type": "code",
   "execution_count": 13,
   "id": "3d340a07",
   "metadata": {
    "execution": {
     "iopub.execute_input": "2025-04-03T19:32:50.739181Z",
     "iopub.status.busy": "2025-04-03T19:32:50.739096Z",
     "iopub.status.idle": "2025-04-03T19:32:50.753432Z",
     "shell.execute_reply": "2025-04-03T19:32:50.753220Z"
    },
    "lines_to_next_cell": 2
   },
   "outputs": [
    {
     "data": {
      "text/plain": [
       "(              coef  std err       t  P>|t|\n",
       " intercept  34.5538    0.563  61.415    0.0\n",
       " lstat      -0.9500    0.039 -24.528    0.0,\n",
       " <class 'statsmodels.iolib.summary.Summary'>\n",
       " \"\"\"\n",
       "                             OLS Regression Results                            \n",
       " ==============================================================================\n",
       " Dep. Variable:                   medv   R-squared:                       0.544\n",
       " Model:                            OLS   Adj. R-squared:                  0.543\n",
       " Method:                 Least Squares   F-statistic:                     601.6\n",
       " Date:                Sun, 25 May 2025   Prob (F-statistic):           5.08e-88\n",
       " Time:                        09:10:55   Log-Likelihood:                -1641.5\n",
       " No. Observations:                 506   AIC:                             3287.\n",
       " Df Residuals:                     504   BIC:                             3295.\n",
       " Df Model:                           1                                         \n",
       " Covariance Type:            nonrobust                                         \n",
       " ==============================================================================\n",
       "                  coef    std err          t      P>|t|      [0.025      0.975]\n",
       " ------------------------------------------------------------------------------\n",
       " intercept     34.5538      0.563     61.415      0.000      33.448      35.659\n",
       " lstat         -0.9500      0.039    -24.528      0.000      -1.026      -0.874\n",
       " ==============================================================================\n",
       " Omnibus:                      137.043   Durbin-Watson:                   0.892\n",
       " Prob(Omnibus):                  0.000   Jarque-Bera (JB):              291.373\n",
       " Skew:                           1.453   Prob(JB):                     5.36e-64\n",
       " Kurtosis:                       5.319   Cond. No.                         29.7\n",
       " ==============================================================================\n",
       " \n",
       " Notes:\n",
       " [1] Standard Errors assume that the covariance matrix of the errors is correctly specified.\n",
       " \"\"\")"
      ]
     },
     "execution_count": 13,
     "metadata": {},
     "output_type": "execute_result"
    }
   ],
   "source": [
    "summarize(results),results.summary()"
   ]
  },
  {
   "cell_type": "markdown",
   "id": "31d6b202",
   "metadata": {},
   "source": [
    "Before we describe other methods for working with fitted models, we outline a more useful and general framework for constructing a model matrix~`X`.\n",
    "### Using Transformations: Fit and Transform\n",
    "Our model above has a single predictor, and constructing `X` was straightforward. \n",
    "In practice  we often fit models with more than one predictor, typically selected from an array or data frame.\n",
    "We may wish to introduce transformations to the variables before fitting the model, specify interactions between variables, and expand some particular variables into sets of variables (e.g. polynomials).\n",
    "The `sklearn`  package has a particular notion\n",
    "for this type of task: a *transform*. A transform is an object\n",
    "that is created with some parameters as arguments. The\n",
    "object has two main methods: `fit()` and `transform()`.\n",
    "\n",
    "We provide a general approach for specifying models and constructing\n",
    "the model matrix through the transform `ModelSpec()` in the `ISLP` library.\n",
    "`ModelSpec()`\n",
    "(renamed `MS()` in the preamble) creates a\n",
    "transform object, and then a pair of methods\n",
    "`transform()` and `fit()` are used to construct a\n",
    "corresponding model matrix.\n",
    "\n",
    "We first describe this process for our simple regression model  using a single predictor `lstat` in\n",
    "the `Boston` data frame, but will use it repeatedly in more\n",
    "complex tasks in this and other labs in this book.\n",
    "In our case the transform is created by the expression\n",
    "`design = MS(['lstat'])`.\n",
    "\n",
    "The `fit()`  method takes the original array and may do some\n",
    "initial computations on it, as specified in the transform object.\n",
    "For example, it may compute means and standard deviations for centering and scaling.\n",
    "The `transform()` \n",
    "method applies the fitted transformation to the array of data, and produces the model matrix.\n",
    "\n",
    "\n",
    "*when we talk about the 'model' matrix or 'design' matrix are we talking about a matrix that is composed solely of the x's (the predictors) with whatever transformations are applicable to them, excluding the weights (the βs), and then when we 'fit' the model what's happening is that we calculate the βs that minimize the 'distance' between 'modelled' values that fall along the model line, and the actual observations themselves*"
   ]
  },
  {
   "cell_type": "code",
   "execution_count": 14,
   "id": "11b07af0",
   "metadata": {
    "execution": {
     "iopub.execute_input": "2025-04-03T19:32:50.754563Z",
     "iopub.status.busy": "2025-04-03T19:32:50.754462Z",
     "iopub.status.idle": "2025-04-03T19:32:50.759448Z",
     "shell.execute_reply": "2025-04-03T19:32:50.759257Z"
    },
    "lines_to_next_cell": 0
   },
   "outputs": [
    {
     "data": {
      "text/html": [
       "<div>\n",
       "<style scoped>\n",
       "    .dataframe tbody tr th:only-of-type {\n",
       "        vertical-align: middle;\n",
       "    }\n",
       "\n",
       "    .dataframe tbody tr th {\n",
       "        vertical-align: top;\n",
       "    }\n",
       "\n",
       "    .dataframe thead th {\n",
       "        text-align: right;\n",
       "    }\n",
       "</style>\n",
       "<table border=\"1\" class=\"dataframe\">\n",
       "  <thead>\n",
       "    <tr style=\"text-align: right;\">\n",
       "      <th></th>\n",
       "      <th>intercept</th>\n",
       "      <th>lstat</th>\n",
       "    </tr>\n",
       "  </thead>\n",
       "  <tbody>\n",
       "    <tr>\n",
       "      <th>0</th>\n",
       "      <td>1.0</td>\n",
       "      <td>4.98</td>\n",
       "    </tr>\n",
       "    <tr>\n",
       "      <th>1</th>\n",
       "      <td>1.0</td>\n",
       "      <td>9.14</td>\n",
       "    </tr>\n",
       "    <tr>\n",
       "      <th>2</th>\n",
       "      <td>1.0</td>\n",
       "      <td>4.03</td>\n",
       "    </tr>\n",
       "    <tr>\n",
       "      <th>3</th>\n",
       "      <td>1.0</td>\n",
       "      <td>2.94</td>\n",
       "    </tr>\n",
       "    <tr>\n",
       "      <th>4</th>\n",
       "      <td>1.0</td>\n",
       "      <td>5.33</td>\n",
       "    </tr>\n",
       "  </tbody>\n",
       "</table>\n",
       "</div>"
      ],
      "text/plain": [
       "   intercept  lstat\n",
       "0        1.0   4.98\n",
       "1        1.0   9.14\n",
       "2        1.0   4.03\n",
       "3        1.0   2.94\n",
       "4        1.0   5.33"
      ]
     },
     "execution_count": 14,
     "metadata": {},
     "output_type": "execute_result"
    }
   ],
   "source": [
    "design = MS(['lstat'])\n",
    "design = design.fit(Boston) # Learn parameters (e.g., scaling, encoding)\n",
    "\n",
    "\"\"\"\n",
    "Learns what needs to be done — for example:\n",
    "    If you're standardizing: it computes the mean and std from the data.\n",
    "    If you're applying splines, it figures out where to place the knots.\n",
    "    If you're doing encoding: it learns categories.\n",
    "\"\"\"\n",
    "\n",
    "\n",
    "X = design.transform(Boston) \n",
    "# Applies that transformation using the learned parameters from above.\n",
    "\n",
    "\n",
    "# This will malke sense with more complex models when specifying transformations is required\n",
    "X.head()"
   ]
  },
  {
   "cell_type": "code",
   "execution_count": 15,
   "id": "08683ea7",
   "metadata": {},
   "outputs": [
    {
     "data": {
      "text/plain": [
       "0      4.98\n",
       "1      9.14\n",
       "2      4.03\n",
       "3      2.94\n",
       "4      5.33\n",
       "       ... \n",
       "501    9.67\n",
       "502    9.08\n",
       "503    5.64\n",
       "504    6.48\n",
       "505    7.88\n",
       "Name: lstat, Length: 506, dtype: float64"
      ]
     },
     "execution_count": 15,
     "metadata": {},
     "output_type": "execute_result"
    }
   ],
   "source": [
    "Boston['lstat']"
   ]
  },
  {
   "cell_type": "markdown",
   "id": "f35e5292",
   "metadata": {},
   "source": [
    "In this simple case, the `fit()`  method does very little; it simply checks that the variable `'lstat'` specified in `design` exists in `Boston`. Then `transform()` constructs the model matrix with two columns: an `intercept` and the variable `lstat`.\n",
    "\n",
    "These two operations can be  combined with the\n",
    "`fit_transform()`  method."
   ]
  },
  {
   "cell_type": "code",
   "execution_count": 16,
   "id": "d5c7b370",
   "metadata": {
    "execution": {
     "iopub.execute_input": "2025-04-03T19:32:50.760748Z",
     "iopub.status.busy": "2025-04-03T19:32:50.760686Z",
     "iopub.status.idle": "2025-04-03T19:32:50.765340Z",
     "shell.execute_reply": "2025-04-03T19:32:50.765092Z"
    },
    "lines_to_next_cell": 0
   },
   "outputs": [
    {
     "data": {
      "text/html": [
       "<div>\n",
       "<style scoped>\n",
       "    .dataframe tbody tr th:only-of-type {\n",
       "        vertical-align: middle;\n",
       "    }\n",
       "\n",
       "    .dataframe tbody tr th {\n",
       "        vertical-align: top;\n",
       "    }\n",
       "\n",
       "    .dataframe thead th {\n",
       "        text-align: right;\n",
       "    }\n",
       "</style>\n",
       "<table border=\"1\" class=\"dataframe\">\n",
       "  <thead>\n",
       "    <tr style=\"text-align: right;\">\n",
       "      <th></th>\n",
       "      <th>intercept</th>\n",
       "      <th>lstat</th>\n",
       "    </tr>\n",
       "  </thead>\n",
       "  <tbody>\n",
       "    <tr>\n",
       "      <th>0</th>\n",
       "      <td>1.0</td>\n",
       "      <td>4.98</td>\n",
       "    </tr>\n",
       "    <tr>\n",
       "      <th>1</th>\n",
       "      <td>1.0</td>\n",
       "      <td>9.14</td>\n",
       "    </tr>\n",
       "    <tr>\n",
       "      <th>2</th>\n",
       "      <td>1.0</td>\n",
       "      <td>4.03</td>\n",
       "    </tr>\n",
       "    <tr>\n",
       "      <th>3</th>\n",
       "      <td>1.0</td>\n",
       "      <td>2.94</td>\n",
       "    </tr>\n",
       "    <tr>\n",
       "      <th>4</th>\n",
       "      <td>1.0</td>\n",
       "      <td>5.33</td>\n",
       "    </tr>\n",
       "  </tbody>\n",
       "</table>\n",
       "</div>"
      ],
      "text/plain": [
       "   intercept  lstat\n",
       "0        1.0   4.98\n",
       "1        1.0   9.14\n",
       "2        1.0   4.03\n",
       "3        1.0   2.94\n",
       "4        1.0   5.33"
      ]
     },
     "execution_count": 16,
     "metadata": {},
     "output_type": "execute_result"
    }
   ],
   "source": [
    "design = MS(['lstat'])\n",
    "X = design.fit_transform(Boston)\n",
    "X.head()"
   ]
  },
  {
   "cell_type": "markdown",
   "id": "8f09689d",
   "metadata": {},
   "source": [
    "Note that, as in the previous code chunk when the two steps were done separately, the `design` object is changed as a result of the `fit()` operation. The power of this pipeline will become clearer when we fit more complex models that involve interactions and transformations."
   ]
  },
  {
   "cell_type": "markdown",
   "id": "94a7c0aa",
   "metadata": {},
   "source": [
    "Let's return to our fitted regression model.\n",
    "The object\n",
    "`results` has several methods that can be used for inference.\n",
    "We already presented a function `summarize()` for showing the essentials of the fit.\n",
    "For a full and somewhat exhaustive summary of the fit, we can use the `summary()` \n",
    "method."
   ]
  },
  {
   "cell_type": "code",
   "execution_count": 17,
   "id": "5b205c0b",
   "metadata": {
    "execution": {
     "iopub.execute_input": "2025-04-03T19:32:50.766508Z",
     "iopub.status.busy": "2025-04-03T19:32:50.766438Z",
     "iopub.status.idle": "2025-04-03T19:32:50.773880Z",
     "shell.execute_reply": "2025-04-03T19:32:50.773683Z"
    }
   },
   "outputs": [
    {
     "data": {
      "text/html": [
       "<table class=\"simpletable\">\n",
       "<caption>OLS Regression Results</caption>\n",
       "<tr>\n",
       "  <th>Dep. Variable:</th>          <td>medv</td>       <th>  R-squared:         </th> <td>   0.544</td>\n",
       "</tr>\n",
       "<tr>\n",
       "  <th>Model:</th>                   <td>OLS</td>       <th>  Adj. R-squared:    </th> <td>   0.543</td>\n",
       "</tr>\n",
       "<tr>\n",
       "  <th>Method:</th>             <td>Least Squares</td>  <th>  F-statistic:       </th> <td>   601.6</td>\n",
       "</tr>\n",
       "<tr>\n",
       "  <th>Date:</th>             <td>Sun, 25 May 2025</td> <th>  Prob (F-statistic):</th> <td>5.08e-88</td>\n",
       "</tr>\n",
       "<tr>\n",
       "  <th>Time:</th>                 <td>09:10:55</td>     <th>  Log-Likelihood:    </th> <td> -1641.5</td>\n",
       "</tr>\n",
       "<tr>\n",
       "  <th>No. Observations:</th>      <td>   506</td>      <th>  AIC:               </th> <td>   3287.</td>\n",
       "</tr>\n",
       "<tr>\n",
       "  <th>Df Residuals:</th>          <td>   504</td>      <th>  BIC:               </th> <td>   3295.</td>\n",
       "</tr>\n",
       "<tr>\n",
       "  <th>Df Model:</th>              <td>     1</td>      <th>                     </th>     <td> </td>   \n",
       "</tr>\n",
       "<tr>\n",
       "  <th>Covariance Type:</th>      <td>nonrobust</td>    <th>                     </th>     <td> </td>   \n",
       "</tr>\n",
       "</table>\n",
       "<table class=\"simpletable\">\n",
       "<tr>\n",
       "      <td></td>         <th>coef</th>     <th>std err</th>      <th>t</th>      <th>P>|t|</th>  <th>[0.025</th>    <th>0.975]</th>  \n",
       "</tr>\n",
       "<tr>\n",
       "  <th>intercept</th> <td>   34.5538</td> <td>    0.563</td> <td>   61.415</td> <td> 0.000</td> <td>   33.448</td> <td>   35.659</td>\n",
       "</tr>\n",
       "<tr>\n",
       "  <th>lstat</th>     <td>   -0.9500</td> <td>    0.039</td> <td>  -24.528</td> <td> 0.000</td> <td>   -1.026</td> <td>   -0.874</td>\n",
       "</tr>\n",
       "</table>\n",
       "<table class=\"simpletable\">\n",
       "<tr>\n",
       "  <th>Omnibus:</th>       <td>137.043</td> <th>  Durbin-Watson:     </th> <td>   0.892</td>\n",
       "</tr>\n",
       "<tr>\n",
       "  <th>Prob(Omnibus):</th> <td> 0.000</td>  <th>  Jarque-Bera (JB):  </th> <td> 291.373</td>\n",
       "</tr>\n",
       "<tr>\n",
       "  <th>Skew:</th>          <td> 1.453</td>  <th>  Prob(JB):          </th> <td>5.36e-64</td>\n",
       "</tr>\n",
       "<tr>\n",
       "  <th>Kurtosis:</th>      <td> 5.319</td>  <th>  Cond. No.          </th> <td>    29.7</td>\n",
       "</tr>\n",
       "</table><br/><br/>Notes:<br/>[1] Standard Errors assume that the covariance matrix of the errors is correctly specified."
      ],
      "text/latex": [
       "\\begin{center}\n",
       "\\begin{tabular}{lclc}\n",
       "\\toprule\n",
       "\\textbf{Dep. Variable:}    &       medv       & \\textbf{  R-squared:         } &     0.544   \\\\\n",
       "\\textbf{Model:}            &       OLS        & \\textbf{  Adj. R-squared:    } &     0.543   \\\\\n",
       "\\textbf{Method:}           &  Least Squares   & \\textbf{  F-statistic:       } &     601.6   \\\\\n",
       "\\textbf{Date:}             & Sun, 25 May 2025 & \\textbf{  Prob (F-statistic):} &  5.08e-88   \\\\\n",
       "\\textbf{Time:}             &     09:10:55     & \\textbf{  Log-Likelihood:    } &   -1641.5   \\\\\n",
       "\\textbf{No. Observations:} &         506      & \\textbf{  AIC:               } &     3287.   \\\\\n",
       "\\textbf{Df Residuals:}     &         504      & \\textbf{  BIC:               } &     3295.   \\\\\n",
       "\\textbf{Df Model:}         &           1      & \\textbf{                     } &             \\\\\n",
       "\\textbf{Covariance Type:}  &    nonrobust     & \\textbf{                     } &             \\\\\n",
       "\\bottomrule\n",
       "\\end{tabular}\n",
       "\\begin{tabular}{lcccccc}\n",
       "                   & \\textbf{coef} & \\textbf{std err} & \\textbf{t} & \\textbf{P$> |$t$|$} & \\textbf{[0.025} & \\textbf{0.975]}  \\\\\n",
       "\\midrule\n",
       "\\textbf{intercept} &      34.5538  &        0.563     &    61.415  &         0.000        &       33.448    &       35.659     \\\\\n",
       "\\textbf{lstat}     &      -0.9500  &        0.039     &   -24.528  &         0.000        &       -1.026    &       -0.874     \\\\\n",
       "\\bottomrule\n",
       "\\end{tabular}\n",
       "\\begin{tabular}{lclc}\n",
       "\\textbf{Omnibus:}       & 137.043 & \\textbf{  Durbin-Watson:     } &    0.892  \\\\\n",
       "\\textbf{Prob(Omnibus):} &   0.000 & \\textbf{  Jarque-Bera (JB):  } &  291.373  \\\\\n",
       "\\textbf{Skew:}          &   1.453 & \\textbf{  Prob(JB):          } & 5.36e-64  \\\\\n",
       "\\textbf{Kurtosis:}      &   5.319 & \\textbf{  Cond. No.          } &     29.7  \\\\\n",
       "\\bottomrule\n",
       "\\end{tabular}\n",
       "%\\caption{OLS Regression Results}\n",
       "\\end{center}\n",
       "\n",
       "Notes: \\newline\n",
       " [1] Standard Errors assume that the covariance matrix of the errors is correctly specified."
      ],
      "text/plain": [
       "<class 'statsmodels.iolib.summary.Summary'>\n",
       "\"\"\"\n",
       "                            OLS Regression Results                            \n",
       "==============================================================================\n",
       "Dep. Variable:                   medv   R-squared:                       0.544\n",
       "Model:                            OLS   Adj. R-squared:                  0.543\n",
       "Method:                 Least Squares   F-statistic:                     601.6\n",
       "Date:                Sun, 25 May 2025   Prob (F-statistic):           5.08e-88\n",
       "Time:                        09:10:55   Log-Likelihood:                -1641.5\n",
       "No. Observations:                 506   AIC:                             3287.\n",
       "Df Residuals:                     504   BIC:                             3295.\n",
       "Df Model:                           1                                         \n",
       "Covariance Type:            nonrobust                                         \n",
       "==============================================================================\n",
       "                 coef    std err          t      P>|t|      [0.025      0.975]\n",
       "------------------------------------------------------------------------------\n",
       "intercept     34.5538      0.563     61.415      0.000      33.448      35.659\n",
       "lstat         -0.9500      0.039    -24.528      0.000      -1.026      -0.874\n",
       "==============================================================================\n",
       "Omnibus:                      137.043   Durbin-Watson:                   0.892\n",
       "Prob(Omnibus):                  0.000   Jarque-Bera (JB):              291.373\n",
       "Skew:                           1.453   Prob(JB):                     5.36e-64\n",
       "Kurtosis:                       5.319   Cond. No.                         29.7\n",
       "==============================================================================\n",
       "\n",
       "Notes:\n",
       "[1] Standard Errors assume that the covariance matrix of the errors is correctly specified.\n",
       "\"\"\""
      ]
     },
     "execution_count": 17,
     "metadata": {},
     "output_type": "execute_result"
    }
   ],
   "source": [
    "results.summary()"
   ]
  },
  {
   "cell_type": "markdown",
   "id": "6c30baa4",
   "metadata": {},
   "source": [
    "The fitted coefficients can also be retrieved as the\n",
    "`params` attribute of `results`."
   ]
  },
  {
   "cell_type": "code",
   "execution_count": 18,
   "id": "4b024467",
   "metadata": {
    "execution": {
     "iopub.execute_input": "2025-04-03T19:32:50.775002Z",
     "iopub.status.busy": "2025-04-03T19:32:50.774938Z",
     "iopub.status.idle": "2025-04-03T19:32:50.777080Z",
     "shell.execute_reply": "2025-04-03T19:32:50.776870Z"
    },
    "lines_to_next_cell": 2
   },
   "outputs": [
    {
     "data": {
      "text/plain": [
       "intercept    34.553841\n",
       "lstat        -0.950049\n",
       "dtype: float64"
      ]
     },
     "execution_count": 18,
     "metadata": {},
     "output_type": "execute_result"
    }
   ],
   "source": [
    "results.params"
   ]
  },
  {
   "cell_type": "markdown",
   "id": "fb7bbd4c",
   "metadata": {},
   "source": [
    "The `get_prediction()`  method can be used to obtain predictions, and produce confidence intervals and\n",
    "prediction intervals for the prediction of  `medv`  for  given values of  `lstat`.\n",
    "\n",
    "We first create a new data frame, in this case containing only the variable `lstat`, with the values for this variable at which we wish to make predictions.\n",
    "We then use the `transform()` method of `design` to create the corresponding model matrix."
   ]
  },
  {
   "cell_type": "code",
   "execution_count": 19,
   "id": "195e0ace",
   "metadata": {
    "execution": {
     "iopub.execute_input": "2025-04-03T19:32:50.778190Z",
     "iopub.status.busy": "2025-04-03T19:32:50.778121Z",
     "iopub.status.idle": "2025-04-03T19:32:50.781279Z",
     "shell.execute_reply": "2025-04-03T19:32:50.781079Z"
    }
   },
   "outputs": [
    {
     "name": "stdout",
     "output_type": "stream",
     "text": [
      "new_df    lstat\n",
      "0      5\n",
      "1     10\n",
      "2     15\n",
      "newX    intercept  lstat\n",
      "0        1.0      5\n",
      "1        1.0     10\n",
      "2        1.0     15\n"
     ]
    }
   ],
   "source": [
    "new_df = pd.DataFrame({'lstat':[5, 10, 15]})\n",
    "newX = design.transform(new_df) # again, this makes sense with more complex models\n",
    "print(\"new_df\",new_df) \n",
    "print(\"newX\",newX)"
   ]
  },
  {
   "cell_type": "markdown",
   "id": "43565f15",
   "metadata": {},
   "source": [
    "Next we compute the predictions at `newX`, and view them by extracting the `predicted_mean` attribute."
   ]
  },
  {
   "cell_type": "markdown",
   "id": "5f1371b9",
   "metadata": {},
   "source": [
    "The formula for the predicted mean is $\\hat{y}_{new} = \\hat{\\beta}_0 + \\hat{\\beta}_1 x_{new}$."
   ]
  },
  {
   "cell_type": "code",
   "execution_count": 20,
   "id": "768374f6",
   "metadata": {
    "execution": {
     "iopub.execute_input": "2025-04-03T19:32:50.782396Z",
     "iopub.status.busy": "2025-04-03T19:32:50.782327Z",
     "iopub.status.idle": "2025-04-03T19:32:50.784385Z",
     "shell.execute_reply": "2025-04-03T19:32:50.784190Z"
    },
    "lines_to_next_cell": 0
   },
   "outputs": [
    {
     "name": "stdout",
     "output_type": "stream",
     "text": [
      "[29.80359411 25.05334734 20.30310057]\n",
      "29.803596\n",
      "25.053351\n",
      "20.303106\n"
     ]
    }
   ],
   "source": [
    "new_predictions = results.get_prediction(newX)\n",
    "print(new_predictions.predicted_mean)\n",
    "\n",
    "\n",
    "# y_hat          =         B0            +         B1         *        x\n",
    "# predicted_medv = intercept_coefficient + (lstat_coefficient * new_lstat_value)\n",
    "# intercept    34.553841\n",
    "# lstat        -0.950049\n",
    "\n",
    "print(34.553841 + (-0.950049 * 5))\n",
    "print(34.553841 + (-0.950049 * 10))\n",
    "print(34.553841 + (-0.950049 * 15))"
   ]
  },
  {
   "cell_type": "markdown",
   "id": "313c1720",
   "metadata": {},
   "source": [
    "We can produce confidence intervals for the predicted values."
   ]
  },
  {
   "cell_type": "markdown",
   "id": "344863cf",
   "metadata": {},
   "source": [
    "The formula for the confidence interval of the predicted mean is: \n",
    "$$ \\hat{y}_{new} \\pm t_{\\alpha/2, n-2} \\times s_e \\times \\sqrt{\\frac{1}{n} + \\frac{(x_{new} - \\bar{x})^2}{\\sum_{i=1}^{n} (x_i - \\bar{x})^2}} $$"
   ]
  },
  {
   "cell_type": "code",
   "execution_count": 21,
   "id": "1a86b943",
   "metadata": {
    "execution": {
     "iopub.execute_input": "2025-04-03T19:32:50.785520Z",
     "iopub.status.busy": "2025-04-03T19:32:50.785454Z",
     "iopub.status.idle": "2025-04-03T19:32:50.787492Z",
     "shell.execute_reply": "2025-04-03T19:32:50.787305Z"
    },
    "lines_to_next_cell": 0
   },
   "outputs": [
    {
     "data": {
      "text/plain": [
       "array([[29.00741194, 30.59977628],\n",
       "       [24.47413202, 25.63256267],\n",
       "       [19.73158815, 20.87461299]])"
      ]
     },
     "execution_count": 21,
     "metadata": {},
     "output_type": "execute_result"
    }
   ],
   "source": [
    "new_predictions.conf_int(alpha=0.05)"
   ]
  },
  {
   "cell_type": "code",
   "execution_count": 22,
   "id": "13d8fdb4",
   "metadata": {},
   "outputs": [
    {
     "data": {
      "text/plain": [
       "38.63567741731436"
      ]
     },
     "execution_count": 22,
     "metadata": {},
     "output_type": "execute_result"
    }
   ],
   "source": [
    "results.mse_resid"
   ]
  },
  {
   "cell_type": "code",
   "execution_count": 23,
   "id": "6b7d897c",
   "metadata": {},
   "outputs": [
    {
     "data": {
      "text/plain": [
       "intercept    34.553841\n",
       "lstat        -0.950049\n",
       "dtype: float64"
      ]
     },
     "execution_count": 23,
     "metadata": {},
     "output_type": "execute_result"
    }
   ],
   "source": [
    "results.params"
   ]
  },
  {
   "cell_type": "code",
   "execution_count": 24,
   "id": "10357792",
   "metadata": {},
   "outputs": [
    {
     "name": "stdout",
     "output_type": "stream",
     "text": [
      "Manual 95% CI for x_new=5: (29.00931119561108, 30.597880804388918)\n"
     ]
    }
   ],
   "source": [
    "new_predictions.conf_int(alpha=0.05)\n",
    "\n",
    "# y_hat +/- 1.96 * se sqrt(1/(X['intercept'].count() + (x_new - x_bar)^2) / sum((x_i - x_bar)^2))\n",
    "\n",
    "# hat{y}_{new} +/-  t_{alpha/2, n-2} * s_e * sqrt{{1}/{n} + frac{(x_{new} - \\bar{x})^2}{\\sum_{i=1}^{n} (x_i - \\bar{x})^2}} \n",
    "\n",
    "\n",
    "# Calculate the standard error for the mean prediction at x_new = 5\n",
    "\n",
    "x_new = 5    # <----------- x_{new}\n",
    "x_bar = X['lstat'].mean()    # <----------- bar{x}\n",
    "n = X['lstat'].count()   # <----------- {n}\n",
    "Sxx = ((X['lstat'] - x_bar) ** 2).sum()   # <----------- sum(x_i - x_bar)^2\n",
    "se = np.sqrt(results.mse_resid * (1/n + (x_new - x_bar)**2 / Sxx))   # <----------- s_e = np.sqrt(s_e^2) therefore 'results.mse_resid' is within the root\n",
    "\n",
    "# 95% confidence interval for the mean prediction at x_new = 5\n",
    "\n",
    "y_hat = 34.553841 + (-0.950049 * x_new)\n",
    "ci_lower = y_hat - 1.96 * se   # <-----------  hat{y}_{new} +/-  t_{alpha/2, n-2} * se\n",
    "ci_upper = y_hat + 1.96 * se   # <-----------  hat{y}_{new} +/-  t_{alpha/2, n-2} * se\n",
    "\n",
    "print(f\"Manual 95% CI for x_new={x_new}: ({ci_lower}, {ci_upper})\")"
   ]
  },
  {
   "cell_type": "code",
   "execution_count": 25,
   "id": "b606797c",
   "metadata": {},
   "outputs": [
    {
     "name": "stdout",
     "output_type": "stream",
     "text": [
      "Manual 95% CI for x_new=5: (29.009309306204205, 30.597878914982044)\n",
      "Manual 95% CI for x_new=10: (24.47551233583688, 25.631182347769457)\n",
      "Manual 95% CI for x_new=15: (19.732950113916843, 20.87325103210958)\n"
     ]
    }
   ],
   "source": [
    "E = (5,10,15)\n",
    "\n",
    "for i in E:\n",
    "    x_new = i\n",
    "    se = np.sqrt(results.mse_resid * (1/n + (x_new - x_bar)**2 / Sxx))\n",
    "    y_hat = results.params['intercept'] + (results.params['lstat'] * x_new)\n",
    "    ci_lower = y_hat - 1.96 * se\n",
    "    ci_upper = y_hat + 1.96 * se\n",
    "    print(f\"Manual 95% CI for x_new={x_new}: ({ci_lower}, {ci_upper})\")"
   ]
  },
  {
   "cell_type": "markdown",
   "id": "3595344e",
   "metadata": {},
   "source": [
    "Prediction intervals are computed by setting `obs=True`:"
   ]
  },
  {
   "cell_type": "code",
   "execution_count": 26,
   "id": "ea9727ca",
   "metadata": {
    "execution": {
     "iopub.execute_input": "2025-04-03T19:32:50.788600Z",
     "iopub.status.busy": "2025-04-03T19:32:50.788538Z",
     "iopub.status.idle": "2025-04-03T19:32:50.790459Z",
     "shell.execute_reply": "2025-04-03T19:32:50.790248Z"
    },
    "lines_to_next_cell": 0
   },
   "outputs": [
    {
     "data": {
      "text/plain": [
       "array([[17.56567478, 42.04151344],\n",
       "       [12.82762635, 37.27906833],\n",
       "       [ 8.0777421 , 32.52845905]])"
      ]
     },
     "execution_count": 26,
     "metadata": {},
     "output_type": "execute_result"
    }
   ],
   "source": [
    "# Confidence Interval (CI) for the Predicted Mean (conf_int(obs=False))\n",
    "# Prediction Interval (PI) for a New Observation (conf_int(obs=True))\n",
    "\n",
    "\"\"\"This extra '1' accounts for the inherent variability of a single data point around the true mean. \n",
    "Even if we knew the true regression line perfectly, a new observation wouldn't fall exactly on it due to the random error term (ϵ). \n",
    "The prediction interval thus incorporates both the uncertainty in estimating the mean and the natural scatter of the data. \n",
    "This is why prediction intervals are always wider than confidence intervals for the mean. \"\"\"\n",
    "\n",
    "# Intuitively:\n",
    "# The prediction interval is wider because it accounts for the variability of individual data points, \n",
    "# The confidence interval for the mean only accounts for the uncertainty in estimating the average.\n",
    "\n",
    "new_predictions.conf_int(obs=True, alpha=0.05)"
   ]
  },
  {
   "cell_type": "code",
   "execution_count": 27,
   "id": "2ee67f03",
   "metadata": {},
   "outputs": [
    {
     "name": "stdout",
     "output_type": "stream",
     "text": [
      "Manual 95% CI for x_new=5: (17.59483878022312, 42.01234944096313)\n",
      "Manual 95% CI for x_new=10: (12.856761276002832, 37.24993340760351)\n",
      "Manual 95% CI for x_new=15: (8.106876160828813, 32.49932498519761)\n"
     ]
    }
   ],
   "source": [
    "# Prediction Interval for a New Observation (conf_int(obs=True)) \n",
    "\n",
    "E = (5,10,15)\n",
    "\n",
    "for i in E:                         # | this is the extra 1 that makes the prediction interval wider than the confidence interval\n",
    "    x_new = i                       # V\n",
    "    se = np.sqrt(results.mse_resid * (1 + 1/n + (x_new - x_bar)**2 / Sxx))\n",
    "    y_hat = results.params['intercept'] + (results.params['lstat'] * x_new)\n",
    "    ci_lower = y_hat - 1.96 * se\n",
    "    ci_upper = y_hat + 1.96 * se\n",
    "    print(f\"Manual 95% CI for x_new={x_new}: ({ci_lower}, {ci_upper})\")"
   ]
  },
  {
   "cell_type": "code",
   "execution_count": 28,
   "id": "698107e6",
   "metadata": {},
   "outputs": [
    {
     "data": {
      "image/png": "[encoded data removed]",
      "text/plain": [
       "<Figure size 1000x600 with 1 Axes>"
      ]
     },
     "metadata": {},
     "output_type": "display_data"
    }
   ],
   "source": [
    "import statsmodels.formula.api as smf\n",
    "import matplotlib.pyplot as plt\n",
    "\n",
    "# Assuming you have already loaded the Boston dataset and fitted a model\n",
    "# For demonstration, let's fit a simple linear regression of 'medv' on 'lstat'\n",
    "\n",
    "results = smf.ols('medv ~ lstat', data=Boston).fit()\n",
    "\n",
    "# 1. Create the new dataframe\n",
    "new_df = pd.DataFrame({'lstat': [5, 10, 15]})\n",
    "newX = design.transform(new_df) # Assuming 'design' is still your ModelSpec object\n",
    "\n",
    "# 2. Get predictions and confidence intervals for the mean\n",
    "new_predictions_mean = results.get_prediction(newX)\n",
    "predicted_mean = new_predictions_mean.predicted_mean\n",
    "conf_int_mean = new_predictions_mean.conf_int(alpha=0.05)\n",
    "\n",
    "# 4. Get prediction intervals\n",
    "new_predictions_obs = results.get_prediction(newX)\n",
    "summary_obs = new_predictions_obs.summary_frame(alpha=0.05)\n",
    "conf_int_obs = summary_obs[['obs_ci_lower', 'obs_ci_upper']].values\n",
    "\n",
    "# Create the scatterplot\n",
    "plt.figure(figsize=(10, 6))\n",
    "\n",
    "# Scatter plot of the original data (optional, for context)\n",
    "plt.scatter(Boston['lstat'], Boston['medv'], alpha=0.5, label='Original Data')\n",
    "\n",
    "# Plot the regression line\n",
    "# Need to create a range of lstat values for the line\n",
    "lstat_range = np.linspace(Boston['lstat'].min(), Boston['lstat'].max(), 100)\n",
    "newX_range = design.transform(pd.DataFrame({'lstat': lstat_range}))\n",
    "predictions_range = results.predict(newX_range)\n",
    "plt.plot(lstat_range, predictions_range, 'r-', label='Regression Line')\n",
    "\n",
    "# Plot the predicted means for the new data points\n",
    "plt.scatter(new_df['lstat'], predicted_mean, color='blue', marker='o', label='Predicted Mean (New)')\n",
    "\n",
    "# Plot the confidence intervals for the mean\n",
    "plt.errorbar(new_df['lstat'], predicted_mean, yerr=[predicted_mean - conf_int_mean[:, 0], conf_int_mean[:, 1] - predicted_mean],\n",
    "             fmt='none', color='green', capsize=5, label='95% Confidence Interval (Mean)')\n",
    "\n",
    "# Plot the prediction intervals\n",
    "plt.errorbar(new_df['lstat'], predicted_mean, yerr=[predicted_mean - conf_int_obs[:, 0], conf_int_obs[:, 1] - predicted_mean],\n",
    "             fmt='none', color='orange', capsize=5, label='95% Prediction Interval (Observation)')\n",
    "\n",
    "# For confidence interval\n",
    "predict_ci = results.get_prediction(newX_range).summary_frame(alpha=0.05)\n",
    "plt.fill_between(lstat_range, predict_ci['mean_ci_lower'], predict_ci['mean_ci_upper'], color='lightgreen', alpha=0.3, label='95% CI (Mean) Region')\n",
    "\n",
    "# For prediction interval\n",
    "plt.fill_between(lstat_range, predict_ci['obs_ci_lower'], predict_ci['obs_ci_upper'], color='lightcoral', alpha=0.1, label='95% PI (Observation) Region')\n",
    "\n",
    "plt.xlabel('lstat')\n",
    "plt.ylabel('medv')\n",
    "plt.title('Regression with Confidence and Prediction Intervals')\n",
    "plt.legend()\n",
    "plt.grid(True)\n",
    "plt.show()"
   ]
  },
  {
   "cell_type": "markdown",
   "id": "b157334d",
   "metadata": {},
   "source": [
    " For instance, the 95% confidence interval associated with an\n",
    " `lstat`  value of 10 is (24.47, 25.63), and the 95% prediction\n",
    "interval is (12.82, 37.28).  As expected, the confidence and\n",
    "prediction intervals are centered around the same point (a predicted\n",
    "value of 25.05 for  `medv`  when  `lstat`  equals\n",
    "10), but the latter are substantially wider.\n",
    "\n",
    "Next we will plot  `medv`  and  `lstat` \n",
    "using `DataFrame.plot.scatter()`\n",
    "and wish to\n",
    "add the regression line to the resulting plot."
   ]
  },
  {
   "cell_type": "markdown",
   "id": "05f5b29a",
   "metadata": {},
   "source": [
    "### Defining Functions\n",
    "While there is a function\n",
    "within the `ISLP` package that adds a line to an existing plot, we take this opportunity\n",
    "to define our first function to do so."
   ]
  },
  {
   "cell_type": "code",
   "execution_count": 29,
   "id": "796c20f6",
   "metadata": {
    "execution": {
     "iopub.execute_input": "2025-04-03T19:32:50.791606Z",
     "iopub.status.busy": "2025-04-03T19:32:50.791541Z",
     "iopub.status.idle": "2025-04-03T19:32:50.793223Z",
     "shell.execute_reply": "2025-04-03T19:32:50.793036Z"
    },
    "lines_to_next_cell": 0
   },
   "outputs": [],
   "source": [
    "def abline(ax, b, m):\n",
    "    \"Add a line with slope m and intercept b to ax\"\n",
    "    xlim = ax.get_xlim() # get the x limits of the current axes\n",
    "    ylim = [m * xlim[0] + b, m * xlim[1] + b] # \n",
    "    ax.plot(xlim, ylim)"
   ]
  },
  {
   "cell_type": "markdown",
   "id": "5eb99e73",
   "metadata": {},
   "source": [
    " A few things are illustrated above. First we see the syntax for defining a function:\n",
    "`def funcname(...)`. The function has arguments `ax, b, m`\n",
    "where `ax` is an axis object for an existing plot, `b` is the intercept and\n",
    "`m` is the slope of the desired line. Other plotting  options can be passed on to\n",
    "`ax.plot` by including additional optional arguments as follows:"
   ]
  },
  {
   "cell_type": "code",
   "execution_count": 30,
   "id": "a258b8c0",
   "metadata": {
    "execution": {
     "iopub.execute_input": "2025-04-03T19:32:50.794312Z",
     "iopub.status.busy": "2025-04-03T19:32:50.794246Z",
     "iopub.status.idle": "2025-04-03T19:32:50.795895Z",
     "shell.execute_reply": "2025-04-03T19:32:50.795688Z"
    },
    "lines_to_next_cell": 0
   },
   "outputs": [],
   "source": [
    "def abline(ax, b, m, *args, **kwargs): # just like above but with arguments\n",
    "    \"Add a line with slope m and intercept b to ax\"\n",
    "    xlim = ax.get_xlim()\n",
    "    ylim = [m * xlim[0] + b, m * xlim[1] + b]\n",
    "    ax.plot(xlim, ylim, *args, **kwargs) # *args (non-named arguments), **kwargs (named arguments)"
   ]
  },
  {
   "cell_type": "markdown",
   "id": "be8f4615",
   "metadata": {},
   "source": [
    "The addition of `*args` allows any number of\n",
    "non-named arguments to `abline`, while `**kwargs` allows any\n",
    "number of named arguments (such as `linewidth=3`) to `abline`.\n",
    "In our function, we pass\n",
    "these arguments verbatim to `ax.plot` above. Readers\n",
    "interested in learning more about\n",
    "functions are referred to the section on\n",
    "defining functions in [docs.python.org/tutorial](https://docs.python.org/3/tutorial/controlflow.html#defining-functions).\n",
    "\n",
    "Let’s use our new function to add this regression line to a plot of\n",
    "`medv` vs. `lstat`."
   ]
  },
  {
   "cell_type": "code",
   "execution_count": 31,
   "id": "6bdb4589",
   "metadata": {},
   "outputs": [
    {
     "data": {
      "image/png": "[encoded data removed]",
      "text/plain": [
       "<Figure size 640x480 with 1 Axes>"
      ]
     },
     "metadata": {},
     "output_type": "display_data"
    }
   ],
   "source": [
    "ax = Boston.plot.scatter('lstat', 'medv')\n",
    "abline(ax,\n",
    "       results.params[0], # b: intercept\n",
    "       results.params[1], # m: slope\n",
    "       'r--', # *args: non-named argument - red dashed line\n",
    "       linewidth=3) # **kwargs: named argument - line thickness "
   ]
  },
  {
   "cell_type": "code",
   "execution_count": 32,
   "id": "edad2bc8",
   "metadata": {},
   "outputs": [
    {
     "data": {
      "text/plain": [
       "Intercept    34.553841\n",
       "lstat        -0.950049\n",
       "dtype: float64"
      ]
     },
     "execution_count": 32,
     "metadata": {},
     "output_type": "execute_result"
    }
   ],
   "source": [
    "results.params"
   ]
  },
  {
   "cell_type": "code",
   "execution_count": 33,
   "id": "72ea49a6",
   "metadata": {},
   "outputs": [
    {
     "name": "stdout",
     "output_type": "stream",
     "text": [
      "(-2.0752, 41.7752)\n",
      "[1.73, 37.97]\n"
     ]
    }
   ],
   "source": [
    "print(ax.get_xlim()) # get the x limits of the current axes\n",
    "\n",
    "# print(ax.get_xlim()[0])\n",
    "# print(ax.get_xlim()[1])\n",
    "\n",
    "print([Boston['lstat'].min(),Boston['lstat'].max()])\n",
    "\n",
    "\n",
    "# These limits are automatically determined by the data in column 'lstat'\n",
    "\n",
    "# get_xlim() gets the x-limits for the fitted line, \n",
    "# while Boston['lstat'].min() and .max() are just the actual values in the column"
   ]
  },
  {
   "cell_type": "code",
   "execution_count": 34,
   "id": "28afccd9",
   "metadata": {},
   "outputs": [
    {
     "name": "stdout",
     "output_type": "stream",
     "text": [
      "(-5.903073637408202, 52.662051125590864)\n",
      "[5.0, 50.0]\n"
     ]
    }
   ],
   "source": [
    "print(ax.get_ylim())\n",
    "\n",
    "# print(ax.get_ylim()[0])\n",
    "# print(ax.get_ylim()[1])\n",
    "\n",
    "print([Boston['medv'].min(),Boston['medv'].max()])\n",
    "\n",
    "# get_ylim() gets the limits for the fitted line, \n",
    "# while Boston['medv'].min() and .max() are just the actual values in the column"
   ]
  },
  {
   "cell_type": "code",
   "execution_count": 35,
   "id": "6748ea90",
   "metadata": {},
   "outputs": [
    {
     "name": "stdout",
     "output_type": "stream",
     "text": [
      "[36.52538329830166, -5.134660883727761]\n",
      "[36.52538329830166, -5.134660883727761]\n"
     ]
    }
   ],
   "source": [
    "# ylim = [m * xlim[0] + b, m * xlim[1] + b]\n",
    "\n",
    "\"\"\"\n",
    "When predicting 'medv' (y) using only 'lstat' (X) \n",
    "We fit statsmodels OLS regression model to the data in the 2 columns:\n",
    "model = sm.OLS(y, X) ---> sm.OLS('medv', 'lstat')\n",
    "\n",
    "\n",
    "The .fit() method of sm.OLS gives us 'results':\n",
    "\n",
    "results = model.fit() \n",
    "\n",
    "the 'results' object contains the fitted parameters (coefficients) of the regression model:\n",
    "intercept    34.553841 (β₀)\n",
    "lstat        -0.950049 (β₁)\n",
    "\n",
    "b: intercept: β₀ - given by results.params[0]\n",
    "m: slope: β₁     - given by results.params[1]\n",
    "x0: x_min \n",
    "x1: x_max\n",
    "y0: y_min\n",
    "y1: y_max\n",
    "\n",
    "\n",
    "So esentially we’re plotting the line segment that spans from 2 points:\n",
    "(x_min, y_min) to (x_max, y_max)\n",
    "\n",
    "ylim = [\n",
    "    m * xlim[0] + b,\n",
    "    m * xlim[1] + b\n",
    "]\n",
    "\n",
    "\"\"\"\n",
    "\n",
    "ylim = [\n",
    "\n",
    "#          β₁                x_min                β₀\n",
    "    results.params[1] * ax.get_xlim()[0] + results.params[0], \n",
    "\n",
    "#          β₁                x_max                β₀\n",
    "    results.params[1] * ax.get_xlim()[1] + results.params[0]\n",
    "]\n",
    "\n",
    "# This is precisely:\n",
    "\n",
    "# y0 = β₁ * x0 + β₀\n",
    "# y1 = β₁ * x1 + β₀\n",
    "\n",
    "# or the way it's typically expressed:\n",
    "\n",
    "ylim = [\n",
    "\n",
    "#          β₀                 β₁                x_min                \n",
    "    results.params[0] + results.params[1] * ax.get_xlim()[0], \n",
    "\n",
    "#          β₀                 β₁                x_max \n",
    "    results.params[0] + results.params[1] * ax.get_xlim()[1]\n",
    "]\n",
    "\n",
    "# This is precisely:\n",
    "\n",
    "# ylim = [b + m * xlim[0], b + m * xlim[1]]\n",
    "# y0 = β₀ + β₁ * x0\n",
    "# y1 = β₀ + β₁ * x1\n",
    "\n",
    "print(ylim)\n",
    "print([ylim[0],ylim[1]])\n",
    "\n",
    "# UNDERSTOOD, MOVING ON.    "
   ]
  },
  {
   "cell_type": "markdown",
   "id": "04a1e56f",
   "metadata": {},
   "source": [
    "Thus, the final call to `ax.plot()` is `ax.plot(xlim, ylim, 'r--', linewidth=3)`.\n",
    "We have used the argument `'r--'` to produce a red dashed line, and added\n",
    "an argument to make it of width 3.\n",
    "There is some evidence for non-linearity in the relationship between  `lstat`  and  `medv`. We will explore this issue later in this lab.\n",
    "\n",
    "As mentioned above, there is an existing function to add a line to a plot --- `ax.axline()` --- but knowing how to write such functions empowers us to create more expressive displays.\n",
    "\n"
   ]
  },
  {
   "cell_type": "markdown",
   "id": "1a083307",
   "metadata": {},
   "source": [
    "Next we examine some diagnostic plots, several of which were discussed\n",
    "in Section 3.3.3.\n",
    "We can find the fitted values and residuals\n",
    "of the fit as attributes of the `results` object.\n",
    "Various influence measures describing the regression model\n",
    "are computed with the `get_influence()` method.\n",
    "As we will not use the `fig` component returned\n",
    "as the first value from `subplots()`, we simply\n",
    "capture the second returned value in `ax` below."
   ]
  },
  {
   "cell_type": "code",
   "execution_count": 36,
   "id": "83a7d2af",
   "metadata": {},
   "outputs": [
    {
     "name": "stdout",
     "output_type": "stream",
     "text": [
      "25.87038978603504\n",
      "-4.2703897860350395\n"
     ]
    }
   ],
   "source": [
    "print(results.fittedvalues[1])\n",
    "print(results.resid[1])"
   ]
  },
  {
   "cell_type": "code",
   "execution_count": 37,
   "id": "74be2100",
   "metadata": {
    "execution": {
     "iopub.execute_input": "2025-04-03T19:32:50.888362Z",
     "iopub.status.busy": "2025-04-03T19:32:50.887998Z",
     "iopub.status.idle": "2025-04-03T19:32:50.983668Z",
     "shell.execute_reply": "2025-04-03T19:32:50.983019Z"
    },
    "lines_to_next_cell": 0
   },
   "outputs": [
    {
     "data": {
      "image/png": "[encoded data removed]",
      "text/plain": [
       "<Figure size 800x800 with 1 Axes>"
      ]
     },
     "metadata": {},
     "output_type": "display_data"
    }
   ],
   "source": [
    "# DIAGNOSTICS!!!\n",
    "\n",
    "# plt.subplots() returns a tuple (fig, ax), so [1] = ax\n",
    "\n",
    "ax = subplots(figsize=(8,8))[1]\n",
    "ax.scatter(results.fittedvalues, results.resid) # residuals distribution for fitted values\n",
    "ax.set_xlabel('Fitted value')\n",
    "ax.set_ylabel('Residual')\n",
    "ax.axhline(0, c='k', ls='--'); # horizontal line at 0. c='k' (black) ls='--' (dashed line)"
   ]
  },
  {
   "cell_type": "markdown",
   "id": "c00db5a1",
   "metadata": {},
   "source": [
    " We add a horizontal line at 0 for reference using the\n",
    " `ax.axhline()`   method, indicating\n",
    "it should be black (`c='k'`) and have a dashed linestyle (`ls='--'`).\n",
    "\n",
    "On the basis of the residual plot, there is some evidence of non-linearity.\n",
    "Leverage statistics can be computed for any number of predictors using the\n",
    "`hat_matrix_diag` attribute of the value returned by the\n",
    "`get_influence()`  method.\n",
    "\n",
    "\n",
    "*If throughout the range of values residuals oscillate below and above zero following a regular pattern, it's a sign of non-linearity, if the pattern is not regular is just noise*"
   ]
  },
  {
   "cell_type": "code",
   "execution_count": 38,
   "id": "db8bc925",
   "metadata": {
    "execution": {
     "iopub.execute_input": "2025-04-03T19:32:50.987634Z",
     "iopub.status.busy": "2025-04-03T19:32:50.987335Z",
     "iopub.status.idle": "2025-04-03T19:32:51.093124Z",
     "shell.execute_reply": "2025-04-03T19:32:51.092860Z"
    },
    "lines_to_next_cell": 0
   },
   "outputs": [
    {
     "data": {
      "text/plain": [
       "374"
      ]
     },
     "execution_count": 38,
     "metadata": {},
     "output_type": "execute_result"
    },
    {
     "data": {
      "image/png": "[encoded data removed]",
      "text/plain": [
       "<Figure size 800x800 with 1 Axes>"
      ]
     },
     "metadata": {},
     "output_type": "display_data"
    }
   ],
   "source": [
    "infl = results.get_influence()\n",
    "ax = subplots(figsize=(8,8))[1]\n",
    "ax.scatter(np.arange(X.shape[0]), infl.hat_matrix_diag)\n",
    "ax.set_xlabel('Index')\n",
    "ax.set_ylabel('Leverage')\n",
    "np.argmax(infl.hat_matrix_diag)"
   ]
  },
  {
   "cell_type": "code",
   "execution_count": 39,
   "id": "a2ce9732",
   "metadata": {},
   "outputs": [
    {
     "data": {
      "text/plain": [
       "374"
      ]
     },
     "execution_count": 39,
     "metadata": {},
     "output_type": "execute_result"
    }
   ],
   "source": [
    "np.argmax(infl.hat_matrix_diag) # 374 has the highest leverage (influence)"
   ]
  },
  {
   "cell_type": "markdown",
   "id": "4e7aa0bb",
   "metadata": {},
   "source": [
    " The `np.argmax()`  function identifies the index of the largest element of an array, optionally computed over an axis of the array.\n",
    "In this case, we maximized over the entire array\n",
    "to determine which observation has the largest leverage statistic."
   ]
  },
  {
   "cell_type": "markdown",
   "id": "e98db373",
   "metadata": {},
   "source": [
    "## Multiple Linear Regression\n",
    "In order to fit a multiple linear regression model using least squares, we again use\n",
    "the `ModelSpec()`  transform to construct the required\n",
    "model matrix and response. The arguments\n",
    "to `ModelSpec()` can be quite general, but in this case\n",
    "a list of column names suffice. We consider a fit here with\n",
    "the two variables `lstat` and `age`."
   ]
  },
  {
   "cell_type": "code",
   "execution_count": 40,
   "id": "e479373c",
   "metadata": {
    "execution": {
     "iopub.execute_input": "2025-04-03T19:32:51.094541Z",
     "iopub.status.busy": "2025-04-03T19:32:51.094455Z",
     "iopub.status.idle": "2025-04-03T19:32:51.105229Z",
     "shell.execute_reply": "2025-04-03T19:32:51.104994Z"
    },
    "lines_to_next_cell": 0
   },
   "outputs": [
    {
     "data": {
      "text/html": [
       "<div>\n",
       "<style scoped>\n",
       "    .dataframe tbody tr th:only-of-type {\n",
       "        vertical-align: middle;\n",
       "    }\n",
       "\n",
       "    .dataframe tbody tr th {\n",
       "        vertical-align: top;\n",
       "    }\n",
       "\n",
       "    .dataframe thead th {\n",
       "        text-align: right;\n",
       "    }\n",
       "</style>\n",
       "<table border=\"1\" class=\"dataframe\">\n",
       "  <thead>\n",
       "    <tr style=\"text-align: right;\">\n",
       "      <th></th>\n",
       "      <th>coef</th>\n",
       "      <th>std err</th>\n",
       "      <th>t</th>\n",
       "      <th>P&gt;|t|</th>\n",
       "    </tr>\n",
       "  </thead>\n",
       "  <tbody>\n",
       "    <tr>\n",
       "      <th>intercept</th>\n",
       "      <td>33.2228</td>\n",
       "      <td>0.731</td>\n",
       "      <td>45.458</td>\n",
       "      <td>0.000</td>\n",
       "    </tr>\n",
       "    <tr>\n",
       "      <th>lstat</th>\n",
       "      <td>-1.0321</td>\n",
       "      <td>0.048</td>\n",
       "      <td>-21.416</td>\n",
       "      <td>0.000</td>\n",
       "    </tr>\n",
       "    <tr>\n",
       "      <th>age</th>\n",
       "      <td>0.0345</td>\n",
       "      <td>0.012</td>\n",
       "      <td>2.826</td>\n",
       "      <td>0.005</td>\n",
       "    </tr>\n",
       "  </tbody>\n",
       "</table>\n",
       "</div>"
      ],
      "text/plain": [
       "              coef  std err       t  P>|t|\n",
       "intercept  33.2228    0.731  45.458  0.000\n",
       "lstat      -1.0321    0.048 -21.416  0.000\n",
       "age         0.0345    0.012   2.826  0.005"
      ]
     },
     "execution_count": 40,
     "metadata": {},
     "output_type": "execute_result"
    }
   ],
   "source": [
    "\"\"\"\n",
    "These were the originals with 1 variable only:\n",
    "\n",
    "y = Boston['medv'] \n",
    "model = sm.OLS(y, X) \n",
    "results = model.fit()\n",
    "\n",
    "design = MS(['lstat'])\n",
    "design = design.fit(Boston) # Learn parameters (e.g., scaling, encoding)\n",
    "X = design.transform(Boston) # Apply transformation to data\n",
    "\"\"\"\n",
    "\n",
    "# This one-liner specifies the variables to 'fit' the model to, and applies the transformations all in  one\n",
    "# The resulting X is the 'design' or 'model' matrix. NOTE this is not the regression model itself\n",
    "X = MS(['lstat', 'age']).fit_transform(Boston)\n",
    "\n",
    "# We create a model object from statsmodels ordinary least squares regression\n",
    "model1 = sm.OLS(y, X)\n",
    "\n",
    "# We now 'fit' the model (i.e. calculate the parameters) to the data\n",
    "results1 = model1.fit()\n",
    "\n",
    "summarize(results1)"
   ]
  },
  {
   "cell_type": "markdown",
   "id": "5c79b00d",
   "metadata": {},
   "source": [
    "Notice how we have compacted the first line into a succinct expression describing the construction of `X`.\n",
    "\n",
    "The  `Boston`   data set contains 12 variables, and so it would be cumbersome\n",
    "to have to type all of these in order to perform a regression using all of the predictors.\n",
    "Instead, we can use the following short-hand: `columns.drop()`"
   ]
  },
  {
   "cell_type": "code",
   "execution_count": 41,
   "id": "b903170c",
   "metadata": {
    "execution": {
     "iopub.execute_input": "2025-04-03T19:32:51.106458Z",
     "iopub.status.busy": "2025-04-03T19:32:51.106379Z",
     "iopub.status.idle": "2025-04-03T19:32:51.108676Z",
     "shell.execute_reply": "2025-04-03T19:32:51.108453Z"
    }
   },
   "outputs": [
    {
     "data": {
      "text/plain": [
       "Index(['crim', 'zn', 'indus', 'chas', 'nox', 'rm', 'age', 'dis', 'rad', 'tax',\n",
       "       'ptratio', 'lstat'],\n",
       "      dtype='object')"
      ]
     },
     "execution_count": 41,
     "metadata": {},
     "output_type": "execute_result"
    }
   ],
   "source": [
    "terms = Boston.columns.drop('medv')\n",
    "terms"
   ]
  },
  {
   "cell_type": "markdown",
   "id": "179b7846",
   "metadata": {},
   "source": [
    "We can now fit the model with all the variables in `terms` using\n",
    "the same model matrix builder."
   ]
  },
  {
   "cell_type": "code",
   "execution_count": 42,
   "id": "bbe47670",
   "metadata": {
    "execution": {
     "iopub.execute_input": "2025-04-03T19:32:51.109894Z",
     "iopub.status.busy": "2025-04-03T19:32:51.109814Z",
     "iopub.status.idle": "2025-04-03T19:32:51.124106Z",
     "shell.execute_reply": "2025-04-03T19:32:51.123871Z"
    }
   },
   "outputs": [
    {
     "data": {
      "text/html": [
       "<div>\n",
       "<style scoped>\n",
       "    .dataframe tbody tr th:only-of-type {\n",
       "        vertical-align: middle;\n",
       "    }\n",
       "\n",
       "    .dataframe tbody tr th {\n",
       "        vertical-align: top;\n",
       "    }\n",
       "\n",
       "    .dataframe thead th {\n",
       "        text-align: right;\n",
       "    }\n",
       "</style>\n",
       "<table border=\"1\" class=\"dataframe\">\n",
       "  <thead>\n",
       "    <tr style=\"text-align: right;\">\n",
       "      <th></th>\n",
       "      <th>coef</th>\n",
       "      <th>std err</th>\n",
       "      <th>t</th>\n",
       "      <th>P&gt;|t|</th>\n",
       "    </tr>\n",
       "  </thead>\n",
       "  <tbody>\n",
       "    <tr>\n",
       "      <th>intercept</th>\n",
       "      <td>41.6173</td>\n",
       "      <td>4.936</td>\n",
       "      <td>8.431</td>\n",
       "      <td>0.000</td>\n",
       "    </tr>\n",
       "    <tr>\n",
       "      <th>crim</th>\n",
       "      <td>-0.1214</td>\n",
       "      <td>0.033</td>\n",
       "      <td>-3.678</td>\n",
       "      <td>0.000</td>\n",
       "    </tr>\n",
       "    <tr>\n",
       "      <th>zn</th>\n",
       "      <td>0.0470</td>\n",
       "      <td>0.014</td>\n",
       "      <td>3.384</td>\n",
       "      <td>0.001</td>\n",
       "    </tr>\n",
       "    <tr>\n",
       "      <th>indus</th>\n",
       "      <td>0.0135</td>\n",
       "      <td>0.062</td>\n",
       "      <td>0.217</td>\n",
       "      <td>0.829</td>\n",
       "    </tr>\n",
       "    <tr>\n",
       "      <th>chas</th>\n",
       "      <td>2.8400</td>\n",
       "      <td>0.870</td>\n",
       "      <td>3.264</td>\n",
       "      <td>0.001</td>\n",
       "    </tr>\n",
       "    <tr>\n",
       "      <th>nox</th>\n",
       "      <td>-18.7580</td>\n",
       "      <td>3.851</td>\n",
       "      <td>-4.870</td>\n",
       "      <td>0.000</td>\n",
       "    </tr>\n",
       "    <tr>\n",
       "      <th>rm</th>\n",
       "      <td>3.6581</td>\n",
       "      <td>0.420</td>\n",
       "      <td>8.705</td>\n",
       "      <td>0.000</td>\n",
       "    </tr>\n",
       "    <tr>\n",
       "      <th>age</th>\n",
       "      <td>0.0036</td>\n",
       "      <td>0.013</td>\n",
       "      <td>0.271</td>\n",
       "      <td>0.787</td>\n",
       "    </tr>\n",
       "    <tr>\n",
       "      <th>dis</th>\n",
       "      <td>-1.4908</td>\n",
       "      <td>0.202</td>\n",
       "      <td>-7.394</td>\n",
       "      <td>0.000</td>\n",
       "    </tr>\n",
       "    <tr>\n",
       "      <th>rad</th>\n",
       "      <td>0.2894</td>\n",
       "      <td>0.067</td>\n",
       "      <td>4.325</td>\n",
       "      <td>0.000</td>\n",
       "    </tr>\n",
       "    <tr>\n",
       "      <th>tax</th>\n",
       "      <td>-0.0127</td>\n",
       "      <td>0.004</td>\n",
       "      <td>-3.337</td>\n",
       "      <td>0.001</td>\n",
       "    </tr>\n",
       "    <tr>\n",
       "      <th>ptratio</th>\n",
       "      <td>-0.9375</td>\n",
       "      <td>0.132</td>\n",
       "      <td>-7.091</td>\n",
       "      <td>0.000</td>\n",
       "    </tr>\n",
       "    <tr>\n",
       "      <th>lstat</th>\n",
       "      <td>-0.5520</td>\n",
       "      <td>0.051</td>\n",
       "      <td>-10.897</td>\n",
       "      <td>0.000</td>\n",
       "    </tr>\n",
       "  </tbody>\n",
       "</table>\n",
       "</div>"
      ],
      "text/plain": [
       "              coef  std err       t  P>|t|\n",
       "intercept  41.6173    4.936   8.431  0.000\n",
       "crim       -0.1214    0.033  -3.678  0.000\n",
       "zn          0.0470    0.014   3.384  0.001\n",
       "indus       0.0135    0.062   0.217  0.829\n",
       "chas        2.8400    0.870   3.264  0.001\n",
       "nox       -18.7580    3.851  -4.870  0.000\n",
       "rm          3.6581    0.420   8.705  0.000\n",
       "age         0.0036    0.013   0.271  0.787\n",
       "dis        -1.4908    0.202  -7.394  0.000\n",
       "rad         0.2894    0.067   4.325  0.000\n",
       "tax        -0.0127    0.004  -3.337  0.001\n",
       "ptratio    -0.9375    0.132  -7.091  0.000\n",
       "lstat      -0.5520    0.051 -10.897  0.000"
      ]
     },
     "execution_count": 42,
     "metadata": {},
     "output_type": "execute_result"
    }
   ],
   "source": [
    "X = MS(terms).fit_transform(Boston) # MS(terms) all columns but 'medv'. fit_transform(Boston) model matrix builder\n",
    "model = sm.OLS(y, X)                # ordinary least squares with y ('medv') and X (model matrix)\n",
    "results = model.fit()\n",
    "summarize(results)"
   ]
  },
  {
   "cell_type": "markdown",
   "id": "183c3c40",
   "metadata": {},
   "source": [
    "What if we would like to perform a regression using all of the variables but one?  For\n",
    "example, in the above regression output,   `age`  has a high $p$-value.\n",
    "So we may wish to run a regression excluding this predictor.\n",
    "The following syntax results in a regression using all predictors except  `age`."
   ]
  },
  {
   "cell_type": "code",
   "execution_count": 43,
   "id": "a1484d00",
   "metadata": {
    "execution": {
     "iopub.execute_input": "2025-04-03T19:32:51.125356Z",
     "iopub.status.busy": "2025-04-03T19:32:51.125276Z",
     "iopub.status.idle": "2025-04-03T19:32:51.138960Z",
     "shell.execute_reply": "2025-04-03T19:32:51.138745Z"
    }
   },
   "outputs": [
    {
     "data": {
      "text/html": [
       "<div>\n",
       "<style scoped>\n",
       "    .dataframe tbody tr th:only-of-type {\n",
       "        vertical-align: middle;\n",
       "    }\n",
       "\n",
       "    .dataframe tbody tr th {\n",
       "        vertical-align: top;\n",
       "    }\n",
       "\n",
       "    .dataframe thead th {\n",
       "        text-align: right;\n",
       "    }\n",
       "</style>\n",
       "<table border=\"1\" class=\"dataframe\">\n",
       "  <thead>\n",
       "    <tr style=\"text-align: right;\">\n",
       "      <th></th>\n",
       "      <th>coef</th>\n",
       "      <th>std err</th>\n",
       "      <th>t</th>\n",
       "      <th>P&gt;|t|</th>\n",
       "    </tr>\n",
       "  </thead>\n",
       "  <tbody>\n",
       "    <tr>\n",
       "      <th>intercept</th>\n",
       "      <td>41.5251</td>\n",
       "      <td>4.920</td>\n",
       "      <td>8.441</td>\n",
       "      <td>0.000</td>\n",
       "    </tr>\n",
       "    <tr>\n",
       "      <th>crim</th>\n",
       "      <td>-0.1214</td>\n",
       "      <td>0.033</td>\n",
       "      <td>-3.683</td>\n",
       "      <td>0.000</td>\n",
       "    </tr>\n",
       "    <tr>\n",
       "      <th>zn</th>\n",
       "      <td>0.0465</td>\n",
       "      <td>0.014</td>\n",
       "      <td>3.379</td>\n",
       "      <td>0.001</td>\n",
       "    </tr>\n",
       "    <tr>\n",
       "      <th>indus</th>\n",
       "      <td>0.0135</td>\n",
       "      <td>0.062</td>\n",
       "      <td>0.217</td>\n",
       "      <td>0.829</td>\n",
       "    </tr>\n",
       "    <tr>\n",
       "      <th>chas</th>\n",
       "      <td>2.8528</td>\n",
       "      <td>0.868</td>\n",
       "      <td>3.287</td>\n",
       "      <td>0.001</td>\n",
       "    </tr>\n",
       "    <tr>\n",
       "      <th>nox</th>\n",
       "      <td>-18.4851</td>\n",
       "      <td>3.714</td>\n",
       "      <td>-4.978</td>\n",
       "      <td>0.000</td>\n",
       "    </tr>\n",
       "    <tr>\n",
       "      <th>rm</th>\n",
       "      <td>3.6811</td>\n",
       "      <td>0.411</td>\n",
       "      <td>8.951</td>\n",
       "      <td>0.000</td>\n",
       "    </tr>\n",
       "    <tr>\n",
       "      <th>dis</th>\n",
       "      <td>-1.5068</td>\n",
       "      <td>0.193</td>\n",
       "      <td>-7.825</td>\n",
       "      <td>0.000</td>\n",
       "    </tr>\n",
       "    <tr>\n",
       "      <th>rad</th>\n",
       "      <td>0.2879</td>\n",
       "      <td>0.067</td>\n",
       "      <td>4.322</td>\n",
       "      <td>0.000</td>\n",
       "    </tr>\n",
       "    <tr>\n",
       "      <th>tax</th>\n",
       "      <td>-0.0127</td>\n",
       "      <td>0.004</td>\n",
       "      <td>-3.333</td>\n",
       "      <td>0.001</td>\n",
       "    </tr>\n",
       "    <tr>\n",
       "      <th>ptratio</th>\n",
       "      <td>-0.9346</td>\n",
       "      <td>0.132</td>\n",
       "      <td>-7.099</td>\n",
       "      <td>0.000</td>\n",
       "    </tr>\n",
       "    <tr>\n",
       "      <th>lstat</th>\n",
       "      <td>-0.5474</td>\n",
       "      <td>0.048</td>\n",
       "      <td>-11.483</td>\n",
       "      <td>0.000</td>\n",
       "    </tr>\n",
       "  </tbody>\n",
       "</table>\n",
       "</div>"
      ],
      "text/plain": [
       "              coef  std err       t  P>|t|\n",
       "intercept  41.5251    4.920   8.441  0.000\n",
       "crim       -0.1214    0.033  -3.683  0.000\n",
       "zn          0.0465    0.014   3.379  0.001\n",
       "indus       0.0135    0.062   0.217  0.829\n",
       "chas        2.8528    0.868   3.287  0.001\n",
       "nox       -18.4851    3.714  -4.978  0.000\n",
       "rm          3.6811    0.411   8.951  0.000\n",
       "dis        -1.5068    0.193  -7.825  0.000\n",
       "rad         0.2879    0.067   4.322  0.000\n",
       "tax        -0.0127    0.004  -3.333  0.001\n",
       "ptratio    -0.9346    0.132  -7.099  0.000\n",
       "lstat      -0.5474    0.048 -11.483  0.000"
      ]
     },
     "execution_count": 43,
     "metadata": {},
     "output_type": "execute_result"
    }
   ],
   "source": [
    "minus_age = Boston.columns.drop(['medv', 'age']) # as above but without 'age'\n",
    "Xma = MS(minus_age).fit_transform(Boston)\n",
    "model1 = sm.OLS(y, Xma)\n",
    "summarize(model1.fit()) # another way of display results without creating a 'results' object"
   ]
  },
  {
   "cell_type": "markdown",
   "id": "74ec4654",
   "metadata": {},
   "source": [
    "## Multivariate Goodness of Fit\n",
    "We can access the individual components of `results` by name\n",
    "(`dir(results)` shows us what is available). Hence\n",
    "`results.rsquared` gives us the $R^2$,\n",
    "and\n",
    "`np.sqrt(results.scale)` gives us the RSE.\n",
    "\n",
    "Variance inflation factors (section 3.3.3) are sometimes useful\n",
    "to assess the effect of collinearity in the model matrix of a regression model.\n",
    "We will compute the VIFs in our multiple regression fit, and use the opportunity to introduce the idea of *list comprehension*.\n"
   ]
  },
  {
   "cell_type": "code",
   "execution_count": 44,
   "id": "4a38662d",
   "metadata": {},
   "outputs": [
    {
     "data": {
      "text/plain": [
       "['HC0_se',\n",
       " 'HC1_se',\n",
       " 'HC2_se',\n",
       " 'HC3_se',\n",
       " '_HCCM',\n",
       " '__class__',\n",
       " '__delattr__',\n",
       " '__dict__',\n",
       " '__dir__',\n",
       " '__doc__',\n",
       " '__eq__',\n",
       " '__format__',\n",
       " '__ge__',\n",
       " '__getattribute__',\n",
       " '__getstate__',\n",
       " '__gt__',\n",
       " '__hash__',\n",
       " '__init__',\n",
       " '__init_subclass__',\n",
       " '__le__',\n",
       " '__lt__',\n",
       " '__module__',\n",
       " '__ne__',\n",
       " '__new__',\n",
       " '__reduce__',\n",
       " '__reduce_ex__',\n",
       " '__repr__',\n",
       " '__setattr__',\n",
       " '__sizeof__',\n",
       " '__str__',\n",
       " '__subclasshook__',\n",
       " '__weakref__',\n",
       " '_abat_diagonal',\n",
       " '_cache',\n",
       " '_data_attr',\n",
       " '_data_in_cache',\n",
       " '_get_robustcov_results',\n",
       " '_get_wald_nonlinear',\n",
       " '_is_nested',\n",
       " '_transform_predict_exog',\n",
       " '_use_t',\n",
       " '_wexog_singular_values',\n",
       " 'aic',\n",
       " 'bic',\n",
       " 'bse',\n",
       " 'centered_tss',\n",
       " 'compare_f_test',\n",
       " 'compare_lm_test',\n",
       " 'compare_lr_test',\n",
       " 'condition_number',\n",
       " 'conf_int',\n",
       " 'conf_int_el',\n",
       " 'cov_HC0',\n",
       " 'cov_HC1',\n",
       " 'cov_HC2',\n",
       " 'cov_HC3',\n",
       " 'cov_kwds',\n",
       " 'cov_params',\n",
       " 'cov_type',\n",
       " 'df_model',\n",
       " 'df_resid',\n",
       " 'diagn',\n",
       " 'eigenvals',\n",
       " 'el_test',\n",
       " 'ess',\n",
       " 'f_pvalue',\n",
       " 'f_test',\n",
       " 'fittedvalues',\n",
       " 'fvalue',\n",
       " 'get_influence',\n",
       " 'get_prediction',\n",
       " 'get_robustcov_results',\n",
       " 'info_criteria',\n",
       " 'initialize',\n",
       " 'k_constant',\n",
       " 'llf',\n",
       " 'load',\n",
       " 'model',\n",
       " 'mse_model',\n",
       " 'mse_resid',\n",
       " 'mse_total',\n",
       " 'nobs',\n",
       " 'normalized_cov_params',\n",
       " 'outlier_test',\n",
       " 'params',\n",
       " 'predict',\n",
       " 'pvalues',\n",
       " 'remove_data',\n",
       " 'resid',\n",
       " 'resid_pearson',\n",
       " 'rsquared',\n",
       " 'rsquared_adj',\n",
       " 'save',\n",
       " 'scale',\n",
       " 'ssr',\n",
       " 'summary',\n",
       " 'summary2',\n",
       " 't_test',\n",
       " 't_test_pairwise',\n",
       " 'tvalues',\n",
       " 'uncentered_tss',\n",
       " 'use_t',\n",
       " 'wald_test',\n",
       " 'wald_test_terms',\n",
       " 'wresid']"
      ]
     },
     "execution_count": 44,
     "metadata": {},
     "output_type": "execute_result"
    }
   ],
   "source": [
    "dir(results)"
   ]
  },
  {
   "cell_type": "markdown",
   "id": "1d4efa44",
   "metadata": {},
   "source": [
    "### List Comprehension\n",
    "Often we encounter a sequence of objects which we would like to transform\n",
    "for some other task. Below, we compute the VIF for each\n",
    "feature in our `X` matrix and produce a data frame\n",
    "whose index agrees with the columns of `X`.\n",
    "The notion of list comprehension can often make such\n",
    "a task easier.\n",
    "\n",
    "List comprehensions are simple and powerful ways to form\n",
    "lists of `Python` objects. The language also supports\n",
    "dictionary and *generator* comprehension, though these are\n",
    "beyond our scope here. Let's look at an example. We compute the VIF for each of the variables\n",
    "in the model matrix `X`, using the function `variance_inflation_factor()`."
   ]
  },
  {
   "cell_type": "code",
   "execution_count": 45,
   "id": "734c843c",
   "metadata": {},
   "outputs": [
    {
     "data": {
      "text/plain": [
       "(506, 13)"
      ]
     },
     "execution_count": 45,
     "metadata": {},
     "output_type": "execute_result"
    }
   ],
   "source": [
    "X.shape[0], X.shape[1]"
   ]
  },
  {
   "cell_type": "code",
   "execution_count": 46,
   "id": "46ac946c",
   "metadata": {
    "execution": {
     "iopub.execute_input": "2025-04-03T19:32:51.140138Z",
     "iopub.status.busy": "2025-04-03T19:32:51.140067Z",
     "iopub.status.idle": "2025-04-03T19:32:51.146004Z",
     "shell.execute_reply": "2025-04-03T19:32:51.145771Z"
    },
    "lines_to_next_cell": 0
   },
   "outputs": [
    {
     "data": {
      "text/html": [
       "<div>\n",
       "<style scoped>\n",
       "    .dataframe tbody tr th:only-of-type {\n",
       "        vertical-align: middle;\n",
       "    }\n",
       "\n",
       "    .dataframe tbody tr th {\n",
       "        vertical-align: top;\n",
       "    }\n",
       "\n",
       "    .dataframe thead th {\n",
       "        text-align: right;\n",
       "    }\n",
       "</style>\n",
       "<table border=\"1\" class=\"dataframe\">\n",
       "  <thead>\n",
       "    <tr style=\"text-align: right;\">\n",
       "      <th></th>\n",
       "      <th>vif</th>\n",
       "    </tr>\n",
       "  </thead>\n",
       "  <tbody>\n",
       "    <tr>\n",
       "      <th>crim</th>\n",
       "      <td>1.767486</td>\n",
       "    </tr>\n",
       "    <tr>\n",
       "      <th>zn</th>\n",
       "      <td>2.298459</td>\n",
       "    </tr>\n",
       "    <tr>\n",
       "      <th>indus</th>\n",
       "      <td>3.987181</td>\n",
       "    </tr>\n",
       "    <tr>\n",
       "      <th>chas</th>\n",
       "      <td>1.071168</td>\n",
       "    </tr>\n",
       "    <tr>\n",
       "      <th>nox</th>\n",
       "      <td>4.369093</td>\n",
       "    </tr>\n",
       "    <tr>\n",
       "      <th>rm</th>\n",
       "      <td>1.912532</td>\n",
       "    </tr>\n",
       "    <tr>\n",
       "      <th>age</th>\n",
       "      <td>3.088232</td>\n",
       "    </tr>\n",
       "    <tr>\n",
       "      <th>dis</th>\n",
       "      <td>3.954037</td>\n",
       "    </tr>\n",
       "    <tr>\n",
       "      <th>rad</th>\n",
       "      <td>7.445301</td>\n",
       "    </tr>\n",
       "    <tr>\n",
       "      <th>tax</th>\n",
       "      <td>9.002158</td>\n",
       "    </tr>\n",
       "    <tr>\n",
       "      <th>ptratio</th>\n",
       "      <td>1.797060</td>\n",
       "    </tr>\n",
       "    <tr>\n",
       "      <th>lstat</th>\n",
       "      <td>2.870777</td>\n",
       "    </tr>\n",
       "  </tbody>\n",
       "</table>\n",
       "</div>"
      ],
      "text/plain": [
       "              vif\n",
       "crim     1.767486\n",
       "zn       2.298459\n",
       "indus    3.987181\n",
       "chas     1.071168\n",
       "nox      4.369093\n",
       "rm       1.912532\n",
       "age      3.088232\n",
       "dis      3.954037\n",
       "rad      7.445301\n",
       "tax      9.002158\n",
       "ptratio  1.797060\n",
       "lstat    2.870777"
      ]
     },
     "execution_count": 46,
     "metadata": {},
     "output_type": "execute_result"
    }
   ],
   "source": [
    "vals = [VIF(X, i)\n",
    "        for i in range(1, X.shape[1])]  # <--- 1 here is to exclude the intercept column\n",
    "vif = pd.DataFrame({'vif':vals},\n",
    "                   index=X.columns[1:]) # <--- 1 here is to exclude the intercept column\n",
    "vif"
   ]
  },
  {
   "cell_type": "markdown",
   "id": "45a29903",
   "metadata": {},
   "source": [
    "The function `VIF()` takes two arguments: a dataframe or array,\n",
    "and a variable column index. In the code above we call `VIF()` on the fly for all columns in `X`.  \n",
    "We have excluded column 0 above (the intercept), which is not of interest. In this case the VIFs are not that exciting.\n",
    "\n",
    "The object `vals` above could have been constructed with the following for loop:"
   ]
  },
  {
   "cell_type": "code",
   "execution_count": 47,
   "id": "b626ecb9",
   "metadata": {
    "execution": {
     "iopub.execute_input": "2025-04-03T19:32:51.147247Z",
     "iopub.status.busy": "2025-04-03T19:32:51.147171Z",
     "iopub.status.idle": "2025-04-03T19:32:51.151571Z",
     "shell.execute_reply": "2025-04-03T19:32:51.151341Z"
    },
    "lines_to_next_cell": 0
   },
   "outputs": [],
   "source": [
    "vals = []\n",
    "for i in range(1, X.values.shape[1]):\n",
    "    vals.append(VIF(X.values, i))\n",
    "\n",
    "# as list comprehension above, only less succinct "
   ]
  },
  {
   "cell_type": "markdown",
   "id": "6e504ae2",
   "metadata": {},
   "source": [
    "List comprehension allows us to perform such repetitive operations in a more straightforward way.\n",
    "## Interaction Terms\n",
    "It is easy to include interaction terms in a linear model using `ModelSpec()`.\n",
    "Including a tuple `(\"lstat\",\"age\")` tells the model\n",
    "matrix builder to include an interaction term between\n",
    " `lstat`  and  `age`."
   ]
  },
  {
   "cell_type": "code",
   "execution_count": 48,
   "id": "8bf77477",
   "metadata": {
    "execution": {
     "iopub.execute_input": "2025-04-03T19:32:51.152822Z",
     "iopub.status.busy": "2025-04-03T19:32:51.152716Z",
     "iopub.status.idle": "2025-04-03T19:32:51.163070Z",
     "shell.execute_reply": "2025-04-03T19:32:51.162825Z"
    },
    "lines_to_next_cell": 2
   },
   "outputs": [
    {
     "data": {
      "text/html": [
       "<div>\n",
       "<style scoped>\n",
       "    .dataframe tbody tr th:only-of-type {\n",
       "        vertical-align: middle;\n",
       "    }\n",
       "\n",
       "    .dataframe tbody tr th {\n",
       "        vertical-align: top;\n",
       "    }\n",
       "\n",
       "    .dataframe thead th {\n",
       "        text-align: right;\n",
       "    }\n",
       "</style>\n",
       "<table border=\"1\" class=\"dataframe\">\n",
       "  <thead>\n",
       "    <tr style=\"text-align: right;\">\n",
       "      <th></th>\n",
       "      <th>coef</th>\n",
       "      <th>std err</th>\n",
       "      <th>t</th>\n",
       "      <th>P&gt;|t|</th>\n",
       "    </tr>\n",
       "  </thead>\n",
       "  <tbody>\n",
       "    <tr>\n",
       "      <th>intercept</th>\n",
       "      <td>36.0885</td>\n",
       "      <td>1.470</td>\n",
       "      <td>24.553</td>\n",
       "      <td>0.000</td>\n",
       "    </tr>\n",
       "    <tr>\n",
       "      <th>lstat</th>\n",
       "      <td>-1.3921</td>\n",
       "      <td>0.167</td>\n",
       "      <td>-8.313</td>\n",
       "      <td>0.000</td>\n",
       "    </tr>\n",
       "    <tr>\n",
       "      <th>age</th>\n",
       "      <td>-0.0007</td>\n",
       "      <td>0.020</td>\n",
       "      <td>-0.036</td>\n",
       "      <td>0.971</td>\n",
       "    </tr>\n",
       "    <tr>\n",
       "      <th>lstat:age</th>\n",
       "      <td>0.0042</td>\n",
       "      <td>0.002</td>\n",
       "      <td>2.244</td>\n",
       "      <td>0.025</td>\n",
       "    </tr>\n",
       "  </tbody>\n",
       "</table>\n",
       "</div>"
      ],
      "text/plain": [
       "              coef  std err       t  P>|t|\n",
       "intercept  36.0885    1.470  24.553  0.000\n",
       "lstat      -1.3921    0.167  -8.313  0.000\n",
       "age        -0.0007    0.020  -0.036  0.971\n",
       "lstat:age   0.0042    0.002   2.244  0.025"
      ]
     },
     "execution_count": 48,
     "metadata": {},
     "output_type": "execute_result"
    }
   ],
   "source": [
    "X = MS(['lstat', 'age', ('lstat', 'age')]).fit_transform(Boston)\n",
    "# With the parenthesis we specify to evaluate for interaction between variables  \n",
    "\n",
    "model2 = sm.OLS(y, X)\n",
    "summarize(model2.fit())\n",
    "\n",
    "# Rule of thumb: we evaluate for interactions whenever we \n",
    "# suspect that the effect of one variable depends on another."
   ]
  },
  {
   "cell_type": "markdown",
   "id": "e2323ab9",
   "metadata": {},
   "source": [
    "## Non-linear Transformations of the Predictors\n",
    "The model matrix builder can include terms beyond\n",
    "just column names and interactions. For instance,\n",
    "the `poly()` function supplied in `ISLP` specifies that\n",
    "columns representing polynomial functions\n",
    "of its first argument are added to the model matrix."
   ]
  },
  {
   "cell_type": "markdown",
   "id": "3a414528",
   "metadata": {},
   "source": [
    "*β1*x^2 + β2*x = β2*x + β1*x^2 the order of summation of course makes no difference*\n",
    "\n",
    "*And whether β1*x + β2*x^2 = β2*x + β1*x^2 (swapped weights) is irrelevant too because the β's are the very thing we are calculating*\n",
    "\n",
    "*the model will fit whatever coefficients minimize the error*"
   ]
  },
  {
   "cell_type": "code",
   "execution_count": 49,
   "id": "6289c3cb",
   "metadata": {
    "execution": {
     "iopub.execute_input": "2025-04-03T19:32:51.164397Z",
     "iopub.status.busy": "2025-04-03T19:32:51.164312Z",
     "iopub.status.idle": "2025-04-03T19:32:51.175546Z",
     "shell.execute_reply": "2025-04-03T19:32:51.175305Z"
    },
    "lines_to_next_cell": 0
   },
   "outputs": [
    {
     "data": {
      "text/plain": [
       "\"\\nWhy this works: We're giving the regression line flexibility to curve\\n\\nPolynomials can approximate a wide range of curved relationships:\\n\\n    Degree 1 → straight line\\n    Degree 2 → parabola (U-shaped or ∩-shaped)\\n    Degree 3 → can wiggle once\\n    Degree 4+ → more wiggles (but beware overfitting!)\\n\""
      ]
     },
     "execution_count": 49,
     "metadata": {},
     "output_type": "execute_result"
    }
   ],
   "source": [
    "X = MS([poly('lstat', degree=2), 'age']).fit_transform(Boston)\n",
    "model3 = sm.OLS(y, X)\n",
    "results3 = model3.fit()\n",
    "summarize(results3)\n",
    "\n",
    "\"\"\"\n",
    "Why this works: We're giving the regression line flexibility to curve\n",
    "\n",
    "Polynomials can approximate a wide range of curved relationships:\n",
    "\n",
    "    Degree 1 → straight line\n",
    "    Degree 2 → parabola (U-shaped or ∩-shaped)\n",
    "    Degree 3 → can wiggle once\n",
    "    Degree 4+ → more wiggles (but beware overfitting!)\n",
    "\"\"\""
   ]
  },
  {
   "cell_type": "markdown",
   "id": "2bd67b14",
   "metadata": {},
   "source": [
    "The effectively zero *p*-value associated with the quadratic term (i.e. the third row above) suggests that it leads to an improved model.\n",
    "\n",
    "By default, `poly()` creates a basis matrix for inclusion in the model matrix whose columns are *orthogonal polynomials*, which are designed for stable least squares computations. \n",
    "\n",
    "Actually, `poly()` is a  wrapper for the workhorse and standalone  function `Poly()` that does the  work in building the model matrix.\n",
    "\n",
    "Alternatively, had we included an argument `raw=True` in the above call to `poly()`, the basis matrix would consist simply of `lstat` and `lstat**2`. Since either of these bases represent quadratic polynomials, the fitted values  would not change in this case, just the polynomial coefficients.  Also by default, the columns created by `poly()` do not include an intercept column as that is automatically added by `MS()`.\n",
    "\n",
    "We use the `anova_lm()` function to further quantify the extent to which the quadratic fit is superior to the linear fit."
   ]
  },
  {
   "cell_type": "code",
   "execution_count": 50,
   "id": "b6542ac6",
   "metadata": {
    "execution": {
     "iopub.execute_input": "2025-04-03T19:32:51.176770Z",
     "iopub.status.busy": "2025-04-03T19:32:51.176688Z",
     "iopub.status.idle": "2025-04-03T19:32:51.180893Z",
     "shell.execute_reply": "2025-04-03T19:32:51.180653Z"
    },
    "lines_to_next_cell": 0
   },
   "outputs": [
    {
     "data": {
      "text/html": [
       "<div>\n",
       "<style scoped>\n",
       "    .dataframe tbody tr th:only-of-type {\n",
       "        vertical-align: middle;\n",
       "    }\n",
       "\n",
       "    .dataframe tbody tr th {\n",
       "        vertical-align: top;\n",
       "    }\n",
       "\n",
       "    .dataframe thead th {\n",
       "        text-align: right;\n",
       "    }\n",
       "</style>\n",
       "<table border=\"1\" class=\"dataframe\">\n",
       "  <thead>\n",
       "    <tr style=\"text-align: right;\">\n",
       "      <th></th>\n",
       "      <th>df_resid</th>\n",
       "      <th>ssr</th>\n",
       "      <th>df_diff</th>\n",
       "      <th>ss_diff</th>\n",
       "      <th>F</th>\n",
       "      <th>Pr(&gt;F)</th>\n",
       "    </tr>\n",
       "  </thead>\n",
       "  <tbody>\n",
       "    <tr>\n",
       "      <th>0</th>\n",
       "      <td>503.0</td>\n",
       "      <td>19168.128609</td>\n",
       "      <td>0.0</td>\n",
       "      <td>NaN</td>\n",
       "      <td>NaN</td>\n",
       "      <td>NaN</td>\n",
       "    </tr>\n",
       "    <tr>\n",
       "      <th>1</th>\n",
       "      <td>502.0</td>\n",
       "      <td>14165.613251</td>\n",
       "      <td>1.0</td>\n",
       "      <td>5002.515357</td>\n",
       "      <td>177.278785</td>\n",
       "      <td>7.468491e-35</td>\n",
       "    </tr>\n",
       "  </tbody>\n",
       "</table>\n",
       "</div>"
      ],
      "text/plain": [
       "   df_resid           ssr  df_diff      ss_diff           F        Pr(>F)\n",
       "0     503.0  19168.128609      0.0          NaN         NaN           NaN\n",
       "1     502.0  14165.613251      1.0  5002.515357  177.278785  7.468491e-35"
      ]
     },
     "execution_count": 50,
     "metadata": {},
     "output_type": "execute_result"
    }
   ],
   "source": [
    "anova_lm(results1, results3)"
   ]
  },
  {
   "cell_type": "markdown",
   "id": "3685159a",
   "metadata": {},
   "source": [
    "Here `results1` represents the linear submodel containing\n",
    "predictors `lstat` and `age`,\n",
    "while `results3` corresponds to the larger model above  with a quadratic\n",
    "term in `lstat`.\n",
    "The `anova_lm()` function performs a hypothesis test\n",
    "comparing the two models. The null hypothesis is that the quadratic\n",
    "term in the bigger model is not needed, and the alternative hypothesis is that the\n",
    "bigger model is superior. Here the *F*-statistic is 177.28 and\n",
    "the associated *p*-value is zero.\n",
    "In this case the *F*-statistic is the square of the\n",
    "*t*-statistic for the quadratic term in the linear model summary\n",
    "for `results3` --- a consequence of the fact that these nested\n",
    "models differ by one degree of freedom.\n",
    "This provides very clear evidence that the quadratic polynomial in\n",
    "`lstat` improves the linear model.\n",
    "This is not surprising, since earlier we saw evidence for non-linearity in the relationship between `medv`\n",
    "and  `lstat`.\n",
    "\n",
    "The function `anova_lm()` can take more than two nested models\n",
    "as input, in which case it compares every successive pair of models.\n",
    "That also explains why there are `NaN`s in the first row above, since\n",
    "there is no previous model with which to compare the first.\n"
   ]
  },
  {
   "cell_type": "code",
   "execution_count": 51,
   "id": "8e4c6004",
   "metadata": {
    "execution": {
     "iopub.execute_input": "2025-04-03T19:32:51.182118Z",
     "iopub.status.busy": "2025-04-03T19:32:51.182029Z",
     "iopub.status.idle": "2025-04-03T19:32:51.233426Z",
     "shell.execute_reply": "2025-04-03T19:32:51.233183Z"
    },
    "lines_to_next_cell": 0
   },
   "outputs": [
    {
     "data": {
      "image/png": "[encoded data removed]",
      "text/plain": [
       "<Figure size 800x800 with 1 Axes>"
      ]
     },
     "metadata": {},
     "output_type": "display_data"
    }
   ],
   "source": [
    "ax = subplots(figsize=(8,8))[1]\n",
    "ax.scatter(results3.fittedvalues, results3.resid)\n",
    "ax.set_xlabel('Fitted value')\n",
    "ax.set_ylabel('Residual')\n",
    "ax.axhline(0, c='k', ls='--');"
   ]
  },
  {
   "cell_type": "markdown",
   "id": "3c7e0661",
   "metadata": {},
   "source": [
    "We see that when the quadratic term is included in the model,\n",
    "there is little discernible pattern in the residuals.\n",
    "In order to create a cubic or higher-degree polynomial fit, we can simply change the degree argument\n",
    "to `poly()`.\n"
   ]
  },
  {
   "cell_type": "markdown",
   "id": "46a4967d",
   "metadata": {},
   "source": [
    "## Qualitative Predictors\n",
    "Here we use the  `Carseats`  data, which is included in the\n",
    "`ISLP` package. We will  attempt to predict `Sales`\n",
    "(child car seat sales) in 400 locations based on a number of\n",
    "predictors."
   ]
  },
  {
   "cell_type": "code",
   "execution_count": 93,
   "id": "a83f4bd2",
   "metadata": {
    "execution": {
     "iopub.execute_input": "2025-04-03T19:32:51.234718Z",
     "iopub.status.busy": "2025-04-03T19:32:51.234617Z",
     "iopub.status.idle": "2025-04-03T19:32:51.239575Z",
     "shell.execute_reply": "2025-04-03T19:32:51.239354Z"
    },
    "lines_to_next_cell": 0
   },
   "outputs": [
    {
     "name": "stdout",
     "output_type": "stream",
     "text": [
      "Index(['Sales', 'CompPrice', 'Income', 'Advertising', 'Population', 'Price',\n",
      "       'ShelveLoc', 'Age', 'Education', 'Urban', 'US'],\n",
      "      dtype='object')\n"
     ]
    },
    {
     "data": {
      "text/html": [
       "<div>\n",
       "<style scoped>\n",
       "    .dataframe tbody tr th:only-of-type {\n",
       "        vertical-align: middle;\n",
       "    }\n",
       "\n",
       "    .dataframe tbody tr th {\n",
       "        vertical-align: top;\n",
       "    }\n",
       "\n",
       "    .dataframe thead th {\n",
       "        text-align: right;\n",
       "    }\n",
       "</style>\n",
       "<table border=\"1\" class=\"dataframe\">\n",
       "  <thead>\n",
       "    <tr style=\"text-align: right;\">\n",
       "      <th></th>\n",
       "      <th>Sales</th>\n",
       "      <th>CompPrice</th>\n",
       "      <th>Income</th>\n",
       "      <th>Advertising</th>\n",
       "      <th>Population</th>\n",
       "      <th>Price</th>\n",
       "      <th>ShelveLoc</th>\n",
       "      <th>Age</th>\n",
       "      <th>Education</th>\n",
       "      <th>Urban</th>\n",
       "      <th>US</th>\n",
       "    </tr>\n",
       "  </thead>\n",
       "  <tbody>\n",
       "    <tr>\n",
       "      <th>0</th>\n",
       "      <td>9.50</td>\n",
       "      <td>138</td>\n",
       "      <td>73</td>\n",
       "      <td>11</td>\n",
       "      <td>276</td>\n",
       "      <td>120</td>\n",
       "      <td>Bad</td>\n",
       "      <td>42</td>\n",
       "      <td>17</td>\n",
       "      <td>Yes</td>\n",
       "      <td>Yes</td>\n",
       "    </tr>\n",
       "    <tr>\n",
       "      <th>1</th>\n",
       "      <td>11.22</td>\n",
       "      <td>111</td>\n",
       "      <td>48</td>\n",
       "      <td>16</td>\n",
       "      <td>260</td>\n",
       "      <td>83</td>\n",
       "      <td>Good</td>\n",
       "      <td>65</td>\n",
       "      <td>10</td>\n",
       "      <td>Yes</td>\n",
       "      <td>Yes</td>\n",
       "    </tr>\n",
       "    <tr>\n",
       "      <th>2</th>\n",
       "      <td>10.06</td>\n",
       "      <td>113</td>\n",
       "      <td>35</td>\n",
       "      <td>10</td>\n",
       "      <td>269</td>\n",
       "      <td>80</td>\n",
       "      <td>Medium</td>\n",
       "      <td>59</td>\n",
       "      <td>12</td>\n",
       "      <td>Yes</td>\n",
       "      <td>Yes</td>\n",
       "    </tr>\n",
       "    <tr>\n",
       "      <th>3</th>\n",
       "      <td>7.40</td>\n",
       "      <td>117</td>\n",
       "      <td>100</td>\n",
       "      <td>4</td>\n",
       "      <td>466</td>\n",
       "      <td>97</td>\n",
       "      <td>Medium</td>\n",
       "      <td>55</td>\n",
       "      <td>14</td>\n",
       "      <td>Yes</td>\n",
       "      <td>Yes</td>\n",
       "    </tr>\n",
       "    <tr>\n",
       "      <th>4</th>\n",
       "      <td>4.15</td>\n",
       "      <td>141</td>\n",
       "      <td>64</td>\n",
       "      <td>3</td>\n",
       "      <td>340</td>\n",
       "      <td>128</td>\n",
       "      <td>Bad</td>\n",
       "      <td>38</td>\n",
       "      <td>13</td>\n",
       "      <td>Yes</td>\n",
       "      <td>No</td>\n",
       "    </tr>\n",
       "  </tbody>\n",
       "</table>\n",
       "</div>"
      ],
      "text/plain": [
       "   Sales  CompPrice  Income  Advertising  Population  Price ShelveLoc  Age  \\\n",
       "0   9.50        138      73           11         276    120       Bad   42   \n",
       "1  11.22        111      48           16         260     83      Good   65   \n",
       "2  10.06        113      35           10         269     80    Medium   59   \n",
       "3   7.40        117     100            4         466     97    Medium   55   \n",
       "4   4.15        141      64            3         340    128       Bad   38   \n",
       "\n",
       "   Education Urban   US  \n",
       "0         17   Yes  Yes  \n",
       "1         10   Yes  Yes  \n",
       "2         12   Yes  Yes  \n",
       "3         14   Yes  Yes  \n",
       "4         13   Yes   No  "
      ]
     },
     "execution_count": 93,
     "metadata": {},
     "output_type": "execute_result"
    }
   ],
   "source": [
    "Carseats = load_data('Carseats')\n",
    "print(Carseats.columns)\n",
    "Carseats.head()"
   ]
  },
  {
   "cell_type": "markdown",
   "id": "69025ecd",
   "metadata": {},
   "source": [
    "The **Carseats** data includes qualitative predictors such as **ShelveLoc**, an indicator of the quality of the shelving location --- that is, the  space within a store in which the car seat is displayed. The predictor **ShelveLoc**  takes on three possible values, **Bad**, **Medium**, and **Good**.\n",
    "\n",
    "Given a qualitative variable such as  **ShelveLoc**, `ModelSpec()` generates dummy\n",
    "variables automatically. These variables are often referred to as a **one-hot encoding** of the categorical feature. Their columns sum to one, so to avoid collinearity with an intercept, the first column is dropped. \n",
    "\n",
    "Below we see the column `ShelveLoc[Bad]` has been dropped, since **Bad** is the first level of **ShelveLoc**.\n",
    "\n",
    "Below we fit a multiple regression model that includes some interaction terms."
   ]
  },
  {
   "cell_type": "code",
   "execution_count": 94,
   "id": "24efc6f1",
   "metadata": {
    "execution": {
     "iopub.execute_input": "2025-04-03T19:32:51.240897Z",
     "iopub.status.busy": "2025-04-03T19:32:51.240800Z",
     "iopub.status.idle": "2025-04-03T19:32:51.261250Z",
     "shell.execute_reply": "2025-04-03T19:32:51.261014Z"
    },
    "lines_to_next_cell": 0
   },
   "outputs": [
    {
     "data": {
      "text/html": [
       "<div>\n",
       "<style scoped>\n",
       "    .dataframe tbody tr th:only-of-type {\n",
       "        vertical-align: middle;\n",
       "    }\n",
       "\n",
       "    .dataframe tbody tr th {\n",
       "        vertical-align: top;\n",
       "    }\n",
       "\n",
       "    .dataframe thead th {\n",
       "        text-align: right;\n",
       "    }\n",
       "</style>\n",
       "<table border=\"1\" class=\"dataframe\">\n",
       "  <thead>\n",
       "    <tr style=\"text-align: right;\">\n",
       "      <th></th>\n",
       "      <th>coef</th>\n",
       "      <th>std err</th>\n",
       "      <th>t</th>\n",
       "      <th>P&gt;|t|</th>\n",
       "    </tr>\n",
       "  </thead>\n",
       "  <tbody>\n",
       "    <tr>\n",
       "      <th>intercept</th>\n",
       "      <td>6.5756</td>\n",
       "      <td>1.009</td>\n",
       "      <td>6.519</td>\n",
       "      <td>0.000</td>\n",
       "    </tr>\n",
       "    <tr>\n",
       "      <th>CompPrice</th>\n",
       "      <td>0.0929</td>\n",
       "      <td>0.004</td>\n",
       "      <td>22.567</td>\n",
       "      <td>0.000</td>\n",
       "    </tr>\n",
       "    <tr>\n",
       "      <th>Income</th>\n",
       "      <td>0.0109</td>\n",
       "      <td>0.003</td>\n",
       "      <td>4.183</td>\n",
       "      <td>0.000</td>\n",
       "    </tr>\n",
       "    <tr>\n",
       "      <th>Advertising</th>\n",
       "      <td>0.0702</td>\n",
       "      <td>0.023</td>\n",
       "      <td>3.107</td>\n",
       "      <td>0.002</td>\n",
       "    </tr>\n",
       "    <tr>\n",
       "      <th>Population</th>\n",
       "      <td>0.0002</td>\n",
       "      <td>0.000</td>\n",
       "      <td>0.433</td>\n",
       "      <td>0.665</td>\n",
       "    </tr>\n",
       "    <tr>\n",
       "      <th>Price</th>\n",
       "      <td>-0.1008</td>\n",
       "      <td>0.007</td>\n",
       "      <td>-13.549</td>\n",
       "      <td>0.000</td>\n",
       "    </tr>\n",
       "    <tr>\n",
       "      <th>ShelveLoc[Good]</th>\n",
       "      <td>4.8487</td>\n",
       "      <td>0.153</td>\n",
       "      <td>31.724</td>\n",
       "      <td>0.000</td>\n",
       "    </tr>\n",
       "    <tr>\n",
       "      <th>ShelveLoc[Medium]</th>\n",
       "      <td>1.9533</td>\n",
       "      <td>0.126</td>\n",
       "      <td>15.531</td>\n",
       "      <td>0.000</td>\n",
       "    </tr>\n",
       "    <tr>\n",
       "      <th>Age</th>\n",
       "      <td>-0.0579</td>\n",
       "      <td>0.016</td>\n",
       "      <td>-3.633</td>\n",
       "      <td>0.000</td>\n",
       "    </tr>\n",
       "    <tr>\n",
       "      <th>Education</th>\n",
       "      <td>-0.0209</td>\n",
       "      <td>0.020</td>\n",
       "      <td>-1.063</td>\n",
       "      <td>0.288</td>\n",
       "    </tr>\n",
       "    <tr>\n",
       "      <th>Urban[Yes]</th>\n",
       "      <td>0.1402</td>\n",
       "      <td>0.112</td>\n",
       "      <td>1.247</td>\n",
       "      <td>0.213</td>\n",
       "    </tr>\n",
       "    <tr>\n",
       "      <th>US[Yes]</th>\n",
       "      <td>-0.1576</td>\n",
       "      <td>0.149</td>\n",
       "      <td>-1.058</td>\n",
       "      <td>0.291</td>\n",
       "    </tr>\n",
       "    <tr>\n",
       "      <th>Income:Advertising</th>\n",
       "      <td>0.0008</td>\n",
       "      <td>0.000</td>\n",
       "      <td>2.698</td>\n",
       "      <td>0.007</td>\n",
       "    </tr>\n",
       "    <tr>\n",
       "      <th>Price:Age</th>\n",
       "      <td>0.0001</td>\n",
       "      <td>0.000</td>\n",
       "      <td>0.801</td>\n",
       "      <td>0.424</td>\n",
       "    </tr>\n",
       "  </tbody>\n",
       "</table>\n",
       "</div>"
      ],
      "text/plain": [
       "                      coef  std err       t  P>|t|\n",
       "intercept           6.5756    1.009   6.519  0.000\n",
       "CompPrice           0.0929    0.004  22.567  0.000\n",
       "Income              0.0109    0.003   4.183  0.000\n",
       "Advertising         0.0702    0.023   3.107  0.002\n",
       "Population          0.0002    0.000   0.433  0.665\n",
       "Price              -0.1008    0.007 -13.549  0.000\n",
       "ShelveLoc[Good]     4.8487    0.153  31.724  0.000\n",
       "ShelveLoc[Medium]   1.9533    0.126  15.531  0.000\n",
       "Age                -0.0579    0.016  -3.633  0.000\n",
       "Education          -0.0209    0.020  -1.063  0.288\n",
       "Urban[Yes]          0.1402    0.112   1.247  0.213\n",
       "US[Yes]            -0.1576    0.149  -1.058  0.291\n",
       "Income:Advertising  0.0008    0.000   2.698  0.007\n",
       "Price:Age           0.0001    0.000   0.801  0.424"
      ]
     },
     "execution_count": 94,
     "metadata": {},
     "output_type": "execute_result"
    }
   ],
   "source": [
    "# Keep predictors only in allvars, \n",
    "allvars = list(Carseats.columns.drop('Sales')) \n",
    "# The MS function cannot take a whole column as a parameter \n",
    "# but instead just a tuple with the column names to be evaluated\n",
    "# hence, we use lists with names that will be passed on to MS\n",
    "\n",
    "# Store feature column to be predicted as y\n",
    "y = Carseats['Sales'] \n",
    "\n",
    "# add interaction terms to allvars and save as 'final'\n",
    "final = allvars + [('Income', 'Advertising'),\n",
    "                   ('Price', 'Age')]\n",
    "\n",
    "X = MS(final).fit_transform(Carseats) # create model matrix\n",
    "\n",
    "model = sm.OLS(y, X) # create OLS model object with y and X\n",
    "          \n",
    "summarize(model.fit()) # fit the model and summarize results\n"
   ]
  },
  {
   "cell_type": "code",
   "execution_count": 95,
   "id": "3d4ed255",
   "metadata": {},
   "outputs": [
    {
     "data": {
      "text/plain": [
       "\"\\t                 coef  std_err    t     P>|t|\\nintercept\\t         6.5756\\t1.009\\t  6.519\\t0.000\\nCompPrice          \\t0.0929\\t0.004  22.567\\t0.000\\nIncome\\t            0.0109\\t0.003\\t  4.183\\t0.000\\nAdvertising\\t         0.0702\\t0.023\\t  3.107\\t0.002\\nPopulation\\t         0.0002\\t0.000\\t  0.433\\t0.665\\nPrice\\t              -0.1008\\t0.007 -13.549\\t0.000\\nShelveLoc[Good]\\t   4.8487\\t0.153  31.724\\t0.000\\nShelveLoc[Medium]\\t   1.9533\\t0.126  15.531\\t0.000\\nAge\\t              -0.0579\\t0.016  -3.633\\t0.000\\nEducation\\t        -0.0209\\t0.020  -1.063\\t0.288\\nUrban[Yes]\\t         0.1402\\t0.112\\t  1.247\\t0.213\\nUS[Yes]\\t           -0.1576\\t0.149  -1.058\\t0.291\\nIncome:Advertising\\t0.0008\\t0.000\\t  2.698\\t0.007\\nPrice:Age\\t         0.0001\\t0.000\\t  0.801\\t0.424\\n\\n\\n(coef): β_hat j\\nβ_hat j is the estimated effect of the j-th predictor on the response variable,\\n\\n(std_err): Standard error - se\\nStandard error is how precisely the effect β_hat j can be estimated \\ngiven the noise and data structure. \\nMore noise = bigger SE = harder to trust  β_hat j\\n\\ni.e. How much β_hat j would vary if you repeated the data collection process many times.\\n\\nSIDE NOTE:\\nStandard deviation (stdev): How spread out the data (or residuals) are\\n\\n(t): t-statistic\\n\\nt= β_hat j - 0\\n   SE(β_hat j)  \\n\\nt-statistic = strength of signal\\n\\nThe distance between β_hat j and zero relative to std_err (i.e. the precision of β_hat j)\\nis a measure of net absolute magnitude of std_err that factors out noise, \\ni.e. β_hat j's net effect\\n\\nif t = 1 β_hat j's effect is vague because it might be somewhat influenced by noise (high entropy) \\nif t < 1 it means that β_hat j's effect on the model could likely be due to 'capturing' noise\\nif t > 1 it means that the error is not large enough to affect influenced β_hat j's influence\\n\\nIn a t-test we are evaluating whether H0: βj = 0 (no effect) vs H1: βj ≠ 0 (effect exists)\\n\\ni.e. the higher the t-statistic, the more likely that βj ≠ 0\\n\\nHowever, The t-statistic is a 'hint', \\nbut to fully either reject or validate the null hypothesis \\nwe need to evaluate it in conjunction with it's p-value, \\nbecause the p-value will confirm/reject the possibility \\nof seeing either t=1, t>1, or t<1 by chance\\n\\n\\n(P>|t|): p-value\\n\\nThe p-value is the probability that we would see a signal that strong just by chance, \\nif the true effect were zero. If p-value is small (typically < 0.05) then βj ≠ 0\\n\\n In more formal terms:\\nThe p-value is always the probability of observing your test statistic or something more extreme, assuming the null hypothesis is true.\\n\\nThe test statistic can be:\\n   a t-statistic → when you're comparing means or testing regression coefficients\\n   a z-statistic → when sample size is large or stdev is known\\n   a F-statistic → when testing groups of regression coefficients jointly\\n   a χ²-statistic → for variance or categorical association tests\\n\\nBut the interpretation of the p-value stays the same across all of them.\\n\\n\\n\""
      ]
     },
     "execution_count": 95,
     "metadata": {},
     "output_type": "execute_result"
    }
   ],
   "source": [
    "\"\"\"\t                 coef  std_err    t     P>|t|\n",
    "intercept\t         6.5756\t1.009\t  6.519\t0.000\n",
    "CompPrice          \t0.0929\t0.004  22.567\t0.000\n",
    "Income\t            0.0109\t0.003\t  4.183\t0.000\n",
    "Advertising\t         0.0702\t0.023\t  3.107\t0.002\n",
    "Population\t         0.0002\t0.000\t  0.433\t0.665\n",
    "Price\t              -0.1008\t0.007 -13.549\t0.000\n",
    "ShelveLoc[Good]\t   4.8487\t0.153  31.724\t0.000\n",
    "ShelveLoc[Medium]\t   1.9533\t0.126  15.531\t0.000\n",
    "Age\t              -0.0579\t0.016  -3.633\t0.000\n",
    "Education\t        -0.0209\t0.020  -1.063\t0.288\n",
    "Urban[Yes]\t         0.1402\t0.112\t  1.247\t0.213\n",
    "US[Yes]\t           -0.1576\t0.149  -1.058\t0.291\n",
    "Income:Advertising\t0.0008\t0.000\t  2.698\t0.007\n",
    "Price:Age\t         0.0001\t0.000\t  0.801\t0.424\n",
    "\n",
    "\n",
    "(coef): β_hat j\n",
    "β_hat j is the estimated effect of the j-th predictor on the response variable,\n",
    "\n",
    "(std_err): Standard error - se\n",
    "Standard error is how precisely the effect β_hat j can be estimated \n",
    "given the noise and data structure. \n",
    "More noise = bigger SE = harder to trust  β_hat j\n",
    "\n",
    "i.e. How much β_hat j would vary if you repeated the data collection process many times.\n",
    "\n",
    "SIDE NOTE:\n",
    "Standard deviation (stdev): How spread out the data (or residuals) are\n",
    "\n",
    "(t): t-statistic\n",
    "\n",
    "t= β_hat j - 0\n",
    "   SE(β_hat j)  \n",
    "\n",
    "t-statistic = strength of signal\n",
    "\n",
    "The distance between β_hat j and zero relative to std_err (i.e. the precision of β_hat j)\n",
    "is a measure of net absolute magnitude of std_err that factors out noise, \n",
    "i.e. β_hat j's net effect\n",
    "\n",
    "if t = 1 β_hat j's effect is vague because it might be somewhat influenced by noise (high entropy) \n",
    "if t < 1 it means that β_hat j's effect on the model could likely be due to 'capturing' noise\n",
    "if t > 1 it means that the error is not large enough to affect influenced β_hat j's influence\n",
    "\n",
    "In a t-test we are evaluating whether H0: βj = 0 (no effect) vs H1: βj ≠ 0 (effect exists)\n",
    "\n",
    "i.e. the higher the t-statistic, the more likely that βj ≠ 0\n",
    "\n",
    "However, The t-statistic is a 'hint', \n",
    "but to fully either reject or validate the null hypothesis \n",
    "we need to evaluate it in conjunction with it's p-value, \n",
    "because the p-value will confirm/reject the possibility \n",
    "of seeing either t=1, t>1, or t<1 by chance\n",
    "\n",
    "\n",
    "(P>|t|): p-value\n",
    "\n",
    "The p-value is the probability that we would see a signal that strong just by chance, \n",
    "if the true effect were zero. If p-value is small (typically < 0.05) then βj ≠ 0\n",
    "\n",
    " In more formal terms:\n",
    "The p-value is always the probability of observing your test statistic or something more extreme, assuming the null hypothesis is true.\n",
    "\n",
    "The test statistic can be:\n",
    "   a t-statistic → when you're comparing means or testing regression coefficients\n",
    "   a z-statistic → when sample size is large or stdev is known\n",
    "   a F-statistic → when testing groups of regression coefficients jointly\n",
    "   a χ²-statistic → for variance or categorical association tests\n",
    "\n",
    "But the interpretation of the p-value stays the same across all of them.\n",
    "\n",
    "\n",
    "\"\"\""
   ]
  },
  {
   "cell_type": "markdown",
   "id": "a8a76419",
   "metadata": {},
   "source": [
    "In the first line above, we made **allvars** a list, so that we could add the interaction terms two lines down. \n",
    "\n",
    "Our model-matrix builder has created a `ShelveLoc[Good]` dummy variable that takes on a value of 1 if the shelving location is good, and 0 otherwise. It has also created a `ShelveLoc[Medium]` dummy variable that equals 1 if the shelving location is medium, and 0 otherwise.\n",
    "\n",
    "A bad shelving location corresponds to a zero for each of the two dummy variables.\n",
    "\n",
    "The fact that the coefficient for `ShelveLoc[Good]` in the regression output is positive indicates that a good shelving location is associated with high sales (relative to a bad location).\n",
    "\n",
    "And `ShelveLoc[Medium]` has a smaller positive coefficient, indicating that a medium shelving location leads to higher sales than a bad shelving location, but lower sales than a good shelving location."
   ]
  },
  {
   "cell_type": "markdown",
   "id": "ee77dd7d",
   "metadata": {},
   "source": [
    "$\\hat\\beta$ onus material\n",
    "\n",
    "## **t-statistic**: (Signal receiver)\n",
    "\n",
    "**Analogy: Signal strength over static** i.e. “How far is my estimated effect from zero, relative to how noisy that estimate is?”\n",
    "\n",
    "$$\n",
    "t = \\frac{\\hat{\\beta}}{\\text{SE}(\\hat{\\beta})}\n",
    "$$\n",
    "\n",
    "**Use:** Testing individual means or regression coefficients.\n",
    "\n",
    "\n",
    "---\n",
    "\n",
    "## **z-statistic**: (Mesuring ruler)\n",
    "\n",
    "**Analogy:Standardized ruler** i.e. “How many standard deviations away from the mean is this value, under a normal distribution?”\n",
    "\n",
    "**Connection to t-statistic:**\n",
    "It’s just the large-sample version — a t-statistic **becomes a z-statistic** as sample size increases. > In short: **z = t with training wheels off.**\n",
    "\n",
    "$$\n",
    "z = \\frac{\\bar{x} - \\mu_0}{\\sigma / \\sqrt{n}}\n",
    "$$\n",
    "\n",
    "**Use:** Same as t-test, but when population standard deviation $\\sigma$ is known or $n$ is large.\n",
    "\n",
    "\n",
    "---\n",
    "\n",
    "## **F-statistic**: (Balancing scale)\n",
    "\n",
    "**Analogy: Variance showdown** i.e. “How much more variance is explained by my model with predictors vs. a model with no predictors?”\n",
    "\n",
    "**Metaphor: “Is the model with all the predictors **significantly better** than one with none — or is that extra variance just noise?”\n",
    "\n",
    "**(Formula in regression):**\n",
    "\n",
    "$$\n",
    "F = \\frac{\\text{explained variance per parameter}}{\\text{unexplained variance per residual df}}\n",
    "$$\n",
    "\n",
    "**Use:**\n",
    "\n",
    "* Testing multiple coefficients **together**\n",
    "* ANOVA (comparing variance across multiple groups)\n",
    "\n",
    "\n",
    "---\n",
    "\n",
    "## **χ²-statistic (Chi-squared)**: (Rolling dice)\n",
    "\n",
    "**Analogy: Expected vs observed mismatch** i.e. “How far are the observed frequencies from what we'd expect if there were no relationship?”\n",
    "\n",
    "**Metaphor: “If reality (observed) keeps defying expectation (expected), maybe your assumption of independence is wrong.”\n",
    "\n",
    "**Formula (for goodness of fit):**\n",
    "\n",
    "$$\n",
    "\\chi^2 = \\sum \\frac{(O_i - E_i)^2}{E_i}\n",
    "$$\n",
    "\n",
    "**Use:**\n",
    "\n",
    "* Categorical data: independence tests, goodness-of-fit\n",
    "* Also used in testing model residual variance, and in likelihood-ratio tests\n",
    "\n",
    "---\n",
    "\n",
    "## Summary:\n",
    "**t**: Signal over noise \n",
    "Measures: Distance of estimate from 0 (scaled by uncertainty)\n",
    "Common Use: Coefficients, means\n",
    "\n",
    "**z**: Standardized position \n",
    "Measures: Same as t, but assumes known σ or large n\n",
    "Common Use: Proportions, large-n inference\n",
    "\n",
    "**F**: Variance showdown\n",
    "Measures: Ratio of model variance vs. residual variance\n",
    "Common Use: ANOVA, joint regression tests\n",
    "\n",
    "**χ²**: Surprise from mismatch\n",
    "Measures Squared deviation of observed vs. expected\n",
    "Common Use: Categorical tests, model fit\n",
    "\n",
    "\n",
    "\n"
   ]
  }
 ],
 "metadata": {
  "jupytext": {
   "cell_metadata_filter": "-all",
   "formats": "ipynb,Rmd",
   "main_language": "python"
  },
  "kernelspec": {
   "display_name": "ISLP_venv",
   "language": "python",
   "name": "python3"
  },
  "language_info": {
   "codemirror_mode": {
    "name": "ipython",
    "version": 3
   },
   "file_extension": ".py",
   "mimetype": "text/x-python",
   "name": "python",
   "nbconvert_exporter": "python",
   "pygments_lexer": "ipython3",
   "version": "3.11.11"
  }
 },
 "nbformat": 4,
 "nbformat_minor": 5
}
