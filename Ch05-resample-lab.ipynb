{
 "cells": [
  {
   "cell_type": "markdown",
   "id": "6dde3cef",
   "metadata": {},
   "source": [
    "# Cross-Validation and the Bootstrap\n",
    "\n",
    "<a target=\"_blank\" href=\"https://colab.research.google.com/github/intro-stat-learning/ISLP_labs/blob/v2.2/Ch05-resample-lab.ipynb\">\n",
    "<img src=\"https://colab.research.google.com/assets/colab-badge.svg\" alt=\"Open In Colab\"/>\n",
    "</a>\n",
    "\n",
    "[![Binder](https://mybinder.org/badge_logo.svg)](https://mybinder.org/v2/gh/intro-stat-learning/ISLP_labs/v2.2?labpath=Ch05-resample-lab.ipynb)"
   ]
  },
  {
   "cell_type": "markdown",
   "id": "a9fd4324",
   "metadata": {},
   "source": [
    "In this lab, we explore the resampling techniques covered in this\n",
    "chapter. Some of the commands in this lab may take a while to run on\n",
    "your computer.\n",
    "\n",
    "We again begin by placing most of our imports at this top level."
   ]
  },
  {
   "cell_type": "code",
   "execution_count": 1,
   "id": "f1deb5cc",
   "metadata": {
    "execution": {
     "iopub.execute_input": "2025-04-03T19:33:23.204499Z",
     "iopub.status.busy": "2025-04-03T19:33:23.204390Z",
     "iopub.status.idle": "2025-04-03T19:33:23.819021Z",
     "shell.execute_reply": "2025-04-03T19:33:23.818655Z"
    },
    "lines_to_next_cell": 2
   },
   "outputs": [],
   "source": [
    "import numpy as np\n",
    "import statsmodels.api as sm\n",
    "from ISLP import load_data\n",
    "from ISLP.models import (ModelSpec as MS,\n",
    "                         summarize,\n",
    "                         poly)\n",
    "from sklearn.model_selection import train_test_split\n"
   ]
  },
  {
   "cell_type": "markdown",
   "id": "afa08b62",
   "metadata": {},
   "source": [
    "There are several new imports needed for this lab."
   ]
  },
  {
   "cell_type": "code",
   "execution_count": 2,
   "id": "268c41b3",
   "metadata": {
    "execution": {
     "iopub.execute_input": "2025-04-03T19:33:23.820788Z",
     "iopub.status.busy": "2025-04-03T19:33:23.820641Z",
     "iopub.status.idle": "2025-04-03T19:33:23.822663Z",
     "shell.execute_reply": "2025-04-03T19:33:23.822416Z"
    },
    "lines_to_next_cell": 2
   },
   "outputs": [],
   "source": [
    "from functools import partial\n",
    "from sklearn.model_selection import \\\n",
    "     (cross_validate,\n",
    "      KFold,\n",
    "      ShuffleSplit)\n",
    "from sklearn.base import clone\n",
    "from ISLP.models import sklearn_sm\n"
   ]
  },
  {
   "cell_type": "markdown",
   "id": "1c04f8e4",
   "metadata": {},
   "source": [
    "## The Validation Set Approach\n",
    "We explore the use of the validation set approach in order to estimate\n",
    "the test error rates that result from fitting various linear models on\n",
    "the  `Auto`  data set.\n",
    "\n",
    "We use the function `train_test_split()` to split\n",
    "the data into training and validation sets. As there are 392 observations,\n",
    "we split into two equal sets of size 196 using the\n",
    "argument `test_size=196`. It is generally a good idea to set a random seed\n",
    "when performing operations like this that contain an\n",
    "element of randomness, so that the results obtained can be reproduced\n",
    "precisely at a later time. We set the random seed of the splitter\n",
    "with the argument `random_state=0`. "
   ]
  },
  {
   "cell_type": "code",
   "execution_count": 3,
   "id": "22f44ae0",
   "metadata": {
    "execution": {
     "iopub.execute_input": "2025-04-03T19:33:23.823864Z",
     "iopub.status.busy": "2025-04-03T19:33:23.823764Z",
     "iopub.status.idle": "2025-04-03T19:33:23.829383Z",
     "shell.execute_reply": "2025-04-03T19:33:23.829160Z"
    }
   },
   "outputs": [],
   "source": [
    "Auto = load_data('Auto')\n",
    "Auto_train, Auto_valid = train_test_split(Auto,\n",
    "                                         test_size=196,\n",
    "                                         random_state=0)\n"
   ]
  },
  {
   "cell_type": "markdown",
   "id": "318fe69f",
   "metadata": {},
   "source": [
    "Now we can fit a linear regression using only the observations corresponding to the training set `Auto_train`."
   ]
  },
  {
   "cell_type": "code",
   "execution_count": 4,
   "id": "0c32e917",
   "metadata": {
    "execution": {
     "iopub.execute_input": "2025-04-03T19:33:23.830793Z",
     "iopub.status.busy": "2025-04-03T19:33:23.830713Z",
     "iopub.status.idle": "2025-04-03T19:33:23.834993Z",
     "shell.execute_reply": "2025-04-03T19:33:23.834789Z"
    }
   },
   "outputs": [],
   "source": [
    "hp_mm = MS(['horsepower'])\n",
    "X_train = hp_mm.fit_transform(Auto_train)\n",
    "y_train = Auto_train['mpg']\n",
    "model = sm.OLS(y_train, X_train)\n",
    "results = model.fit()\n"
   ]
  },
  {
   "cell_type": "markdown",
   "id": "7e883b8f",
   "metadata": {},
   "source": [
    "We now use the `predict()` method of `results` evaluated on the model matrix for this model\n",
    "created using the validation data set. We also calculate the validation MSE of our model."
   ]
  },
  {
   "cell_type": "code",
   "execution_count": 5,
   "id": "86ce4f85",
   "metadata": {
    "execution": {
     "iopub.execute_input": "2025-04-03T19:33:23.836150Z",
     "iopub.status.busy": "2025-04-03T19:33:23.836082Z",
     "iopub.status.idle": "2025-04-03T19:33:23.839814Z",
     "shell.execute_reply": "2025-04-03T19:33:23.839608Z"
    }
   },
   "outputs": [
    {
     "data": {
      "text/plain": [
       "23.61661706966988"
      ]
     },
     "execution_count": 5,
     "metadata": {},
     "output_type": "execute_result"
    }
   ],
   "source": [
    "X_valid = hp_mm.transform(Auto_valid)\n",
    "y_valid = Auto_valid['mpg']\n",
    "valid_pred = results.predict(X_valid)\n",
    "np.mean((y_valid - valid_pred)**2)\n"
   ]
  },
  {
   "cell_type": "markdown",
   "id": "f2ecdee6",
   "metadata": {},
   "source": [
    "Hence our estimate for the validation MSE of  the linear regression\n",
    "fit is $23.62$.\n",
    "\n",
    "We can also estimate the validation error for\n",
    "higher-degree polynomial regressions. We first provide a function `evalMSE()` that takes a model string as well\n",
    "as training and test sets and returns the MSE on the test set."
   ]
  },
  {
   "cell_type": "code",
   "execution_count": 6,
   "id": "50a66a97",
   "metadata": {
    "execution": {
     "iopub.execute_input": "2025-04-03T19:33:23.841088Z",
     "iopub.status.busy": "2025-04-03T19:33:23.841015Z",
     "iopub.status.idle": "2025-04-03T19:33:23.843031Z",
     "shell.execute_reply": "2025-04-03T19:33:23.842838Z"
    }
   },
   "outputs": [],
   "source": [
    "def evalMSE(terms,\n",
    "            response,\n",
    "            train,\n",
    "            test):\n",
    "\n",
    "   mm = MS(terms)\n",
    "   X_train = mm.fit_transform(train)\n",
    "   y_train = train[response]\n",
    "\n",
    "   X_test = mm.transform(test)\n",
    "   y_test = test[response]\n",
    "\n",
    "   results = sm.OLS(y_train, X_train).fit()\n",
    "   test_pred = results.predict(X_test)\n",
    "\n",
    "   return np.mean((y_test - test_pred)**2)\n"
   ]
  },
  {
   "cell_type": "markdown",
   "id": "a255779c",
   "metadata": {},
   "source": [
    "Let’s use this function to estimate the validation MSE\n",
    "using linear, quadratic and cubic fits. We use the `enumerate()`  function\n",
    "here, which gives both the values and indices of objects as one iterates\n",
    "over a for loop."
   ]
  },
  {
   "cell_type": "code",
   "execution_count": 7,
   "id": "d49b6999",
   "metadata": {
    "execution": {
     "iopub.execute_input": "2025-04-03T19:33:23.844166Z",
     "iopub.status.busy": "2025-04-03T19:33:23.844091Z",
     "iopub.status.idle": "2025-04-03T19:33:23.855875Z",
     "shell.execute_reply": "2025-04-03T19:33:23.855640Z"
    }
   },
   "outputs": [
    {
     "data": {
      "text/plain": [
       "array([23.61661707, 18.76303135, 18.79694163])"
      ]
     },
     "execution_count": 7,
     "metadata": {},
     "output_type": "execute_result"
    }
   ],
   "source": [
    "MSE = np.zeros(3)\n",
    "for idx, degree in enumerate(range(1, 4)):\n",
    "    MSE[idx] = evalMSE([poly('horsepower', degree)],\n",
    "                       'mpg',\n",
    "                       Auto_train,\n",
    "                       Auto_valid)\n",
    "MSE\n"
   ]
  },
  {
   "cell_type": "markdown",
   "id": "9d7b8fc1",
   "metadata": {},
   "source": [
    "These error rates are $23.62, 18.76$, and $18.80$, respectively. If we\n",
    "choose a different training/validation split instead, then we\n",
    "can expect somewhat different errors on the validation set."
   ]
  },
  {
   "cell_type": "code",
   "execution_count": 8,
   "id": "dac8bd54",
   "metadata": {
    "execution": {
     "iopub.execute_input": "2025-04-03T19:33:23.857092Z",
     "iopub.status.busy": "2025-04-03T19:33:23.857011Z",
     "iopub.status.idle": "2025-04-03T19:33:23.868361Z",
     "shell.execute_reply": "2025-04-03T19:33:23.868136Z"
    }
   },
   "outputs": [
    {
     "data": {
      "text/plain": [
       "array([20.75540796, 16.94510676, 16.97437833])"
      ]
     },
     "execution_count": 8,
     "metadata": {},
     "output_type": "execute_result"
    }
   ],
   "source": [
    "Auto_train, Auto_valid = train_test_split(Auto,\n",
    "                                          test_size=196,\n",
    "                                          random_state=3)\n",
    "MSE = np.zeros(3)\n",
    "for idx, degree in enumerate(range(1, 4)):\n",
    "    MSE[idx] = evalMSE([poly('horsepower', degree)],\n",
    "                       'mpg',\n",
    "                       Auto_train,\n",
    "                       Auto_valid)\n",
    "MSE"
   ]
  },
  {
   "cell_type": "markdown",
   "id": "61f2c12d",
   "metadata": {},
   "source": [
    "Using this split of the observations into a training set and a validation set,\n",
    "we find that the validation set error rates for the models with linear, quadratic, and cubic terms are $20.76$, $16.95$, and $16.97$, respectively.\n",
    "\n",
    "These results are consistent with our previous findings: a model that\n",
    "predicts `mpg` using a quadratic function of `horsepower`\n",
    "performs better than a model that involves only a linear function of\n",
    "`horsepower`, and there is no evidence of an improvement in using a cubic function of `horsepower`."
   ]
  },
  {
   "cell_type": "markdown",
   "id": "f22daa51",
   "metadata": {},
   "source": [
    "## Cross-Validation\n",
    "In theory, the cross-validation estimate can be computed for any generalized linear model. In practice, however, the simplest way to cross-validate in Python is to use `sklearn`, which has a different interface or API than `statsmodels`, the code we have been using to fit GLMs.\n",
    "\n",
    "This is a problem which often confronts data scientists: \n",
    "\n",
    "\"I have a function to do task $A$, and need to feed it into something that performs task $B$, so that I can compute $B(A(D))$, where $D$ is my data.\" When $A$ and $B$ don’t naturally speak to each other, this requires the use of a *wrapper*. In the `ISLP` package,\n",
    "\n",
    "we provide a wrapper, `sklearn_sm()`, that enables us to easily use the cross-validation tools of `sklearn` with models fit by `statsmodels`.\n",
    "The class `sklearn_sm()` has  as its first argument a model from `statsmodels`. It can take two additional optional arguments: \n",
    "\n",
    "- `model_str`: which can be used to specify a formula, and \n",
    "\n",
    "- `model_args` which should be a dictionary of additional arguments used when fitting the model. \n",
    "\n",
    "For example, to fit a logistic regression model we have to specify a `family` argument. This is passed as `model_args={'family':sm.families.Binomial()}`.\n",
    "\n",
    "Here is our wrapper in action:"
   ]
  },
  {
   "cell_type": "code",
   "execution_count": null,
   "id": "601ae443",
   "metadata": {
    "execution": {
     "iopub.execute_input": "2025-04-03T19:33:23.869578Z",
     "iopub.status.busy": "2025-04-03T19:33:23.869501Z",
     "iopub.status.idle": "2025-04-03T19:33:24.584127Z",
     "shell.execute_reply": "2025-04-03T19:33:24.583898Z"
    },
    "lines_to_next_cell": 0
   },
   "outputs": [
    {
     "data": {
      "text/plain": [
       "24.231513517929216"
      ]
     },
     "execution_count": 9,
     "metadata": {},
     "output_type": "execute_result"
    }
   ],
   "source": [
    "\"\"\"\n",
    "common problem:\n",
    "D is the data\n",
    "A is an operation on D \n",
    "B is an operation on A(D)\n",
    "A and B don't naturally speak to each other\n",
    "\n",
    "solution ---> wrapper to do B(A(D))\n",
    "\n",
    "In this case `sklearn_sm()` enables us to:\n",
    " 1 fit models by `statsmodels` the way w've been dpoing so far - A(D)\n",
    " 2 cross-validate using `sklearn` - B(A(D)) \n",
    " \n",
    "sklearn_sm()\n",
    " \n",
    "\"\"\"\n",
    "hp_model = sklearn_sm(sm.OLS,            # <---- 1st argument model from statsmodels\n",
    "                      MS(['horsepower']) # <---- 2nd argument ModelSpec\n",
    "                    )\n",
    "\n",
    "X, Y = Auto.drop(columns=['mpg']), Auto['mpg'] # <---- Assigning inputs/oututs to X and Y\n",
    "\"\"\" \n",
    "X = Auto.drop(columns=['mpg'])\n",
    "Y = Auto['mpg']\n",
    "\"\"\"\n",
    "\n",
    "cv_results = cross_validate(hp_model,        # <---- estimator object as defined above\n",
    "                            X,\n",
    "                            Y,\n",
    "                            cv=Auto.shape[0] # <---- k = [0], as in 'k-folds'              \n",
    "                            )                # int, cross-validation generator or an iterable,     \n",
    "                                             # Determines the cross-validation splitting strategy\n",
    "\n",
    "cv_err = np.mean(cv_results['test_score'])\n",
    "cv_err # 24.231513517929216"
   ]
  },
  {
   "cell_type": "markdown",
   "id": "ebadc35f",
   "metadata": {},
   "source": [
    "The arguments to `cross_validate()` are as follows: an\n",
    "object with the appropriate `fit()`, `predict()`,\n",
    "and `score()` methods,  an\n",
    "array of features `X` and a response `Y`. \n",
    "We also included an additional argument `cv` to `cross_validate()`; specifying an integer\n",
    "$k$ results in $k$-fold cross-validation. We have provided a value \n",
    "corresponding to the total number of observations, which results in\n",
    "leave-one-out cross-validation (LOOCV). The `cross_validate()`  function produces a dictionary with several components;\n",
    "we simply want the cross-validated test score here (MSE), which is estimated to be 24.23."
   ]
  },
  {
   "cell_type": "markdown",
   "id": "25f47b99",
   "metadata": {},
   "source": [
    "We can repeat this procedure for increasingly complex polynomial fits.\n",
    "To automate the process, we again\n",
    "use a for loop which iteratively fits polynomial\n",
    "regressions of degree 1 to 5, computes the\n",
    "associated cross-validation error, and stores it in the $i$th element\n",
    "of the vector `cv_error`. The variable `d` in the for loop\n",
    "corresponds to the degree of the polynomial. We begin by initializing the\n",
    "vector. This command may take a couple of seconds to run."
   ]
  },
  {
   "cell_type": "code",
   "execution_count": null,
   "id": "11226c85",
   "metadata": {
    "execution": {
     "iopub.execute_input": "2025-04-03T19:33:24.585528Z",
     "iopub.status.busy": "2025-04-03T19:33:24.585450Z",
     "iopub.status.idle": "2025-04-03T19:33:25.124201Z",
     "shell.execute_reply": "2025-04-03T19:33:25.123913Z"
    },
    "lines_to_next_cell": 0
   },
   "outputs": [
    {
     "data": {
      "text/plain": [
       "array([24.23151352, 19.24821312, 19.33498406, 19.42443031, 19.03320903])"
      ]
     },
     "execution_count": 19,
     "metadata": {},
     "output_type": "execute_result"
    }
   ],
   "source": [
    "# Same as earlier but now we try fitting polynomial models of different degrees\n",
    "\n",
    "cv_error = np.zeros(5) # initialize array where resulting errors will be stored\n",
    "\n",
    "H = np.array(Auto['horsepower']) # pandas.core.series.Series ---> np.array\n",
    "\n",
    "M = sklearn_sm(sm.OLS) # <---- 1st statsmodels OLS, omitting optional arguments\n",
    "\n",
    "for i, d in enumerate(range(1,6)): # polynomial degree [(0, 1), (1, 2), (2, 3), (3, 4), (4, 5)]\n",
    "    \n",
    "    X = np.power.outer(H, np.arange(d+1)) # <---- np.outer explained below\n",
    "    \n",
    "    M_CV = cross_validate(M,\n",
    "                          X,\n",
    "                          Y,\n",
    "                          cv=Auto.shape[0]) # again the same number of folds\n",
    "    \n",
    "    cv_error[i] = np.mean(M_CV['test_score'])\n",
    "\n",
    "cv_error\n"
   ]
  },
  {
   "cell_type": "code",
   "execution_count": 20,
   "id": "6f9c8696",
   "metadata": {},
   "outputs": [
    {
     "data": {
      "text/plain": [
       "[(0, 1), (1, 2), (2, 3), (3, 4), (4, 5)]"
      ]
     },
     "execution_count": 20,
     "metadata": {},
     "output_type": "execute_result"
    }
   ],
   "source": [
    "list(enumerate(range(1,6)))"
   ]
  },
  {
   "cell_type": "code",
   "execution_count": 22,
   "id": "963b634f",
   "metadata": {},
   "outputs": [
    {
     "name": "stdout",
     "output_type": "stream",
     "text": [
      "[130 165 150 150 140 198 220 215 225 190 170 160 150 225  95  95  97  85\n",
      "  88  46  87  90  95 113  90 215 200 210 193  88  90  95 100 105 100  88\n",
      " 100 165 175 153 150 180 170 175 110  72 100  88  86  90  70  76  65  69\n",
      "  60  70  95  80  54  90  86 165 175 150 153 150 208 155 160 190  97 150\n",
      " 130 140 150 112  76  87  69  86  92  97  80  88 175 150 145 137 150 198\n",
      " 150 158 150 215 225 175 105 100 100  88  95  46 150 167 170 180 100  88\n",
      "  72  94  90  85 107  90 145 230  49  75  91 112 150 110 122 180  95 100\n",
      " 100  67  80  65  75 100 110 105 140 150 150 140 150  83  67  78  52  61\n",
      "  75  75  75  97  93  67  95 105  72  72 170 145 150 148 110 105 110  95\n",
      " 110 110 129  75  83 100  78  96  71  97  97  70  90  95  88  98 115  53\n",
      "  86  81  92  79  83 140 150 120 152 100 105  81  90  52  60  70  53 100\n",
      "  78 110  95  71  70  75  72 102 150  88 108 120 180 145 130 150  68  80\n",
      "  58  96  70 145 110 145 130 110 105 100  98 180 170 190 149  78  88  75\n",
      "  89  63  83  67  78  97 110 110  48  66  52  70  60 110 140 139 105  95\n",
      "  85  88 100  90 105  85 110 120 145 165 139 140  68  95  97  75  95 105\n",
      "  85  97 103 125 115 133  71  68 115  85  88  90 110 130 129 138 135 155\n",
      " 142 125 150  71  65  80  80  77 125  71  90  70  70  65  69  90 115 115\n",
      "  90  76  60  70  65  90  88  90  90  78  90  75  92  75  65 105  65  48\n",
      "  48  67  67  67  67  62 132 100  88  72  84  84  92 110  84  58  64  60\n",
      "  67  65  62  68  63  65  65  74  75  75 100  74  80  76 116 120 110 105\n",
      "  88  85  88  88  88  85  84  90  92  74  68  68  63  70  88  75  70  67\n",
      "  67  67 110  85  92 112  96  84  90  86  52  84  79  82]\n"
     ]
    },
    {
     "data": {
      "text/plain": [
       "array([[[           1,          130],\n",
       "        [         130,        16900],\n",
       "        [       16900,      2197000],\n",
       "        [     2197000,    285610000],\n",
       "        [   285610000,  37129300000]],\n",
       "\n",
       "       [[           1,          165],\n",
       "        [         165,        27225],\n",
       "        [       27225,      4492125],\n",
       "        [     4492125,    741200625],\n",
       "        [   741200625, 122298103125]],\n",
       "\n",
       "       [[           1,          150],\n",
       "        [         150,        22500],\n",
       "        [       22500,      3375000],\n",
       "        [     3375000,    506250000],\n",
       "        [   506250000,  75937500000]],\n",
       "\n",
       "       ...,\n",
       "\n",
       "       [[           1,           84],\n",
       "        [          84,         7056],\n",
       "        [        7056,       592704],\n",
       "        [      592704,     49787136],\n",
       "        [    49787136,   4182119424]],\n",
       "\n",
       "       [[           1,           79],\n",
       "        [          79,         6241],\n",
       "        [        6241,       493039],\n",
       "        [      493039,     38950081],\n",
       "        [    38950081,   3077056399]],\n",
       "\n",
       "       [[           1,           82],\n",
       "        [          82,         6724],\n",
       "        [        6724,       551368],\n",
       "        [      551368,     45212176],\n",
       "        [    45212176,   3707398432]]], dtype=int64)"
      ]
     },
     "execution_count": 22,
     "metadata": {},
     "output_type": "execute_result"
    }
   ],
   "source": [
    "print(H)\n",
    "B = np.array([(0, 1), (1, 2), (2, 3), (3, 4), (4, 5)])\n",
    "np.power.outer(H, B)"
   ]
  },
  {
   "cell_type": "markdown",
   "id": "a3a920ae",
   "metadata": {},
   "source": [
    "As in Figure 5.4, we see a sharp drop in the estimated test MSE between the linear and\n",
    "quadratic fits, but then no clear improvement from using higher-degree polynomials.\n",
    "\n",
    "Above we introduced the `outer()`  method of the `np.power()`\n",
    "function.  The `outer()` method is applied to an operation\n",
    "that has two arguments, such as `add()`, `min()`, or\n",
    "`power()`.\n",
    "It has two arrays as\n",
    "arguments, and then forms a larger\n",
    "array where the operation is applied to each pair of elements of the\n",
    "two arrays. "
   ]
  },
  {
   "cell_type": "code",
   "execution_count": 21,
   "id": "64b64d97",
   "metadata": {
    "execution": {
     "iopub.execute_input": "2025-04-03T19:33:25.125598Z",
     "iopub.status.busy": "2025-04-03T19:33:25.125513Z",
     "iopub.status.idle": "2025-04-03T19:33:25.127886Z",
     "shell.execute_reply": "2025-04-03T19:33:25.127667Z"
    }
   },
   "outputs": [
    {
     "data": {
      "text/plain": [
       "array([[ 5,  7],\n",
       "       [ 7,  9],\n",
       "       [11, 13]])"
      ]
     },
     "execution_count": 21,
     "metadata": {},
     "output_type": "execute_result"
    }
   ],
   "source": [
    "A = np.array([3, 5, 9])\n",
    "B = np.array([2, 4])\n",
    "np.add.outer(A, B)"
   ]
  },
  {
   "cell_type": "markdown",
   "id": "71385c1b",
   "metadata": {},
   "source": [
    "In the CV example above, we used $k=n$, but of course we can also use $k<n$. The code is very similar\n",
    "to the above (and is significantly faster). Here we use `KFold()` to partition the data into $k=10$ random groups. We use `random_state` to set a random seed and initialize a vector `cv_error` in which we will store the CV errors corresponding to the\n",
    "polynomial fits of degrees one to five."
   ]
  },
  {
   "cell_type": "code",
   "execution_count": 24,
   "id": "ca0f972f",
   "metadata": {
    "execution": {
     "iopub.execute_input": "2025-04-03T19:33:25.129127Z",
     "iopub.status.busy": "2025-04-03T19:33:25.129050Z",
     "iopub.status.idle": "2025-04-03T19:33:25.149889Z",
     "shell.execute_reply": "2025-04-03T19:33:25.149644Z"
    },
    "lines_to_next_cell": 0
   },
   "outputs": [
    {
     "data": {
      "text/plain": [
       "array([24.20766449, 19.18533142, 19.27626666, 19.47848402, 19.13722633])"
      ]
     },
     "execution_count": 24,
     "metadata": {},
     "output_type": "execute_result"
    }
   ],
   "source": [
    "cv_error = np.zeros(5)\n",
    "\n",
    "cv = KFold(n_splits=10,\n",
    "           shuffle=True,\n",
    "           random_state=0) # use same splits for each degree\n",
    "\n",
    "for i, d in enumerate(range(1,6)):\n",
    "\n",
    "    X = np.power.outer(H, np.arange(d+1))\n",
    "\n",
    "    M_CV = cross_validate(M,\n",
    "                          X,\n",
    "                          Y,\n",
    "                          cv=cv)\n",
    "    \n",
    "    cv_error[i] = np.mean(M_CV['test_score'])\n",
    "\n",
    "cv_error\n"
   ]
  },
  {
   "cell_type": "markdown",
   "id": "8b234093",
   "metadata": {},
   "source": [
    "Notice that the computation time is much shorter than that of LOOCV.\n",
    "(In principle, the computation time for LOOCV for a least squares\n",
    "linear model should be faster than for $k$-fold CV, due to the\n",
    "availability of the formula~(5.2)  for LOOCV;\n",
    "however, the generic `cross_validate()`  function does not make\n",
    "use of this formula.)  We still see little evidence that using cubic\n",
    "or higher-degree polynomial terms leads to a lower test error than simply\n",
    "using a quadratic fit."
   ]
  },
  {
   "cell_type": "markdown",
   "id": "fb4487a4",
   "metadata": {},
   "source": [
    "The `cross_validate()` function is flexible and can take\n",
    "different splitting mechanisms as an argument. For instance, one can use the `ShuffleSplit()`\n",
    "function to implement\n",
    "the validation set approach just as easily as $k$-fold cross-validation."
   ]
  },
  {
   "cell_type": "code",
   "execution_count": null,
   "id": "080cdb29",
   "metadata": {
    "execution": {
     "iopub.execute_input": "2025-04-03T19:33:25.151147Z",
     "iopub.status.busy": "2025-04-03T19:33:25.151072Z",
     "iopub.status.idle": "2025-04-03T19:33:25.156751Z",
     "shell.execute_reply": "2025-04-03T19:33:25.156501Z"
    },
    "lines_to_next_cell": 2
   },
   "outputs": [
    {
     "name": "stdout",
     "output_type": "stream",
     "text": [
      "[23.61661707]\n",
      "23.61661706966988\n",
      "0.0\n"
     ]
    }
   ],
   "source": [
    "# We can use different splitting methods: 'k-fold', 'ShuffleSplit', etc\n",
    "\n",
    "validation = ShuffleSplit(n_splits=1,\n",
    "                          test_size=196,\n",
    "                          random_state=0)\n",
    "\n",
    "results = cross_validate(hp_model,\n",
    "                         Auto.drop(['mpg'], axis=1),\n",
    "                         Auto['mpg'],\n",
    "                         cv=validation)\n",
    "\n",
    "print(results['test_score'])\n",
    "print(results['test_score'].mean()) # this equals the above because n_splits = 1\n",
    "print(results['test_score'].std()) # this returns 0.0 because n_splits = 1"
   ]
  },
  {
   "cell_type": "markdown",
   "id": "b2f4b4cf",
   "metadata": {},
   "source": [
    "One can estimate the variability in the test error by running the following:"
   ]
  },
  {
   "cell_type": "code",
   "execution_count": null,
   "id": "7c46de2b",
   "metadata": {
    "execution": {
     "iopub.execute_input": "2025-04-03T19:33:25.158025Z",
     "iopub.status.busy": "2025-04-03T19:33:25.157939Z",
     "iopub.status.idle": "2025-04-03T19:33:25.182100Z",
     "shell.execute_reply": "2025-04-03T19:33:25.181888Z"
    }
   },
   "outputs": [
    {
     "name": "stdout",
     "output_type": "stream",
     "text": [
      "23.802232661034164 1.4218450941091847\n"
     ]
    },
    {
     "data": {
      "text/plain": [
       "array([23.61661707, 22.96552529, 23.43853845, 21.72781699, 22.79416823,\n",
       "       23.09191932, 23.69196999, 23.90184611, 26.53545818, 26.258467  ])"
      ]
     },
     "execution_count": 33,
     "metadata": {},
     "output_type": "execute_result"
    }
   ],
   "source": [
    "validation = ShuffleSplit(n_splits=10, # <--- 10 splits this time\n",
    "                          test_size=196,\n",
    "                          random_state=0)\n",
    "\n",
    "results = cross_validate(hp_model,\n",
    "                         Auto.drop(['mpg'], axis=1),\n",
    "                         Auto['mpg'],\n",
    "                         cv=validation)\n",
    "\n",
    "print(results['test_score'].mean(), results['test_score'].std())\n",
    "results['test_score']"
   ]
  },
  {
   "cell_type": "markdown",
   "id": "07165f0e",
   "metadata": {},
   "source": [
    "Note that this standard deviation is not a valid estimate of the\n",
    "sampling variability of the mean test score or the individual scores, since the randomly-selected training\n",
    "samples overlap and hence introduce correlations. But it does give an\n",
    "idea of the Monte Carlo variation\n",
    "incurred by picking different random folds.\n",
    "\n",
    "## The Bootstrap\n",
    "We illustrate the use of the bootstrap in the simple example\n",
    " {of Section 5.2,}  as well as on an example involving\n",
    "estimating the accuracy of the linear regression model on the  `Auto`\n",
    "data set.\n",
    "### Estimating the Accuracy of a Statistic of Interest\n",
    "One of the great advantages of the bootstrap approach is that it can\n",
    "be applied in almost all situations. No complicated mathematical\n",
    "calculations are required. While there are several implementations\n",
    "of the bootstrap in Python, its use for estimating\n",
    "standard error is simple enough that we write our own function\n",
    "below for the case when our data is stored\n",
    "in a dataframe.\n",
    "\n",
    "To illustrate the bootstrap, we start with a simple example. The  `Portfolio`  data set in the `ISLP` package is described in Section 5.2. The goal is to estimate the sampling variance of the parameter $\\alpha$ given in formula~(5.7).  \n",
    "\n",
    "\n",
    "$$\n",
    "    \\hat α = \\frac{\\hat σ^2_Y − \\hat σ_{XY}}{\\hat σ^2_X + \\hat σ^2_Y − 2\\hat σ_{XY}}\n",
    "$$\n",
    "\n",
    "\n",
    "\n",
    "We will\n",
    "create a function\n",
    "`alpha_func()`, which takes as input a dataframe `D` assumed\n",
    "to have columns `X` and `Y`, as well as a\n",
    "vector `idx` indicating which observations should be used to\n",
    "estimate \n",
    "$\\alpha$. The function then outputs the estimate for $\\alpha$ based on\n",
    "the selected observations."
   ]
  },
  {
   "cell_type": "code",
   "execution_count": 15,
   "id": "a4b6d9b3",
   "metadata": {
    "execution": {
     "iopub.execute_input": "2025-04-03T19:33:25.183403Z",
     "iopub.status.busy": "2025-04-03T19:33:25.183320Z",
     "iopub.status.idle": "2025-04-03T19:33:25.186088Z",
     "shell.execute_reply": "2025-04-03T19:33:25.185890Z"
    },
    "lines_to_next_cell": 0
   },
   "outputs": [],
   "source": [
    "Portfolio = load_data('Portfolio')\n",
    "def alpha_func(D, idx):\n",
    "   cov_ = np.cov(D[['X','Y']].loc[idx], rowvar=False)\n",
    "   return ((cov_[1,1] - cov_[0,1]) /\n",
    "           (cov_[0,0]+cov_[1,1]-2*cov_[0,1]))\n"
   ]
  },
  {
   "cell_type": "markdown",
   "id": "9d50058e",
   "metadata": {},
   "source": [
    "This function returns an estimate for $\\alpha$\n",
    "based on applying the minimum\n",
    "    variance formula (5.7) to the observations indexed by\n",
    "the argument `idx`.  For instance, the following command\n",
    "estimates $\\alpha$ using all 100 observations."
   ]
  },
  {
   "cell_type": "code",
   "execution_count": 16,
   "id": "81498a11",
   "metadata": {
    "execution": {
     "iopub.execute_input": "2025-04-03T19:33:25.187384Z",
     "iopub.status.busy": "2025-04-03T19:33:25.187299Z",
     "iopub.status.idle": "2025-04-03T19:33:25.189610Z",
     "shell.execute_reply": "2025-04-03T19:33:25.189413Z"
    }
   },
   "outputs": [
    {
     "data": {
      "text/plain": [
       "0.57583207459283"
      ]
     },
     "execution_count": 16,
     "metadata": {},
     "output_type": "execute_result"
    }
   ],
   "source": [
    "alpha_func(Portfolio, range(100))"
   ]
  },
  {
   "cell_type": "markdown",
   "id": "4f5d0aab",
   "metadata": {},
   "source": [
    "Next we randomly select\n",
    "100 observations from `range(100)`, with replacement. This is equivalent\n",
    "to constructing a new bootstrap data set and recomputing $\\hat{\\alpha}$\n",
    "based on the new data set."
   ]
  },
  {
   "cell_type": "code",
   "execution_count": 17,
   "id": "64fe1cb6",
   "metadata": {
    "execution": {
     "iopub.execute_input": "2025-04-03T19:33:25.190738Z",
     "iopub.status.busy": "2025-04-03T19:33:25.190670Z",
     "iopub.status.idle": "2025-04-03T19:33:25.193250Z",
     "shell.execute_reply": "2025-04-03T19:33:25.193037Z"
    },
    "lines_to_next_cell": 2
   },
   "outputs": [
    {
     "data": {
      "text/plain": [
       "0.6074452469619004"
      ]
     },
     "execution_count": 17,
     "metadata": {},
     "output_type": "execute_result"
    }
   ],
   "source": [
    "rng = np.random.default_rng(0)\n",
    "alpha_func(Portfolio,\n",
    "           rng.choice(100,\n",
    "                      100,\n",
    "                      replace=True))"
   ]
  },
  {
   "cell_type": "markdown",
   "id": "91a635fe",
   "metadata": {},
   "source": [
    "This process can be generalized to create a simple function `boot_SE()` for\n",
    "computing the bootstrap standard error for arbitrary\n",
    "functions that take only a data frame as an argument."
   ]
  },
  {
   "cell_type": "code",
   "execution_count": 18,
   "id": "dd16bbae",
   "metadata": {
    "execution": {
     "iopub.execute_input": "2025-04-03T19:33:25.194520Z",
     "iopub.status.busy": "2025-04-03T19:33:25.194445Z",
     "iopub.status.idle": "2025-04-03T19:33:25.196804Z",
     "shell.execute_reply": "2025-04-03T19:33:25.196574Z"
    },
    "lines_to_next_cell": 0
   },
   "outputs": [],
   "source": [
    "def boot_SE(func,\n",
    "            D,\n",
    "            n=None,\n",
    "            B=1000,\n",
    "            seed=0):\n",
    "    rng = np.random.default_rng(seed)\n",
    "    first_, second_ = 0, 0\n",
    "    n = n or D.shape[0]\n",
    "    for _ in range(B):\n",
    "        idx = rng.choice(D.index,\n",
    "                         n,\n",
    "                         replace=True)\n",
    "        value = func(D, idx)\n",
    "        first_ += value\n",
    "        second_ += value**2\n",
    "    return np.sqrt(second_ / B - (first_ / B)**2)"
   ]
  },
  {
   "cell_type": "markdown",
   "id": "ac4e17ed",
   "metadata": {},
   "source": [
    "Notice the use of `_` as a loop variable in `for _ in range(B)`. This is often used if the value of the counter is\n",
    "unimportant and simply makes sure  the loop is executed `B` times.\n",
    "\n",
    "Let’s use our function to evaluate the accuracy of our\n",
    "estimate of $\\alpha$ using $B=1{,}000$ bootstrap replications. "
   ]
  },
  {
   "cell_type": "code",
   "execution_count": 19,
   "id": "b42b4585",
   "metadata": {
    "execution": {
     "iopub.execute_input": "2025-04-03T19:33:25.198086Z",
     "iopub.status.busy": "2025-04-03T19:33:25.198011Z",
     "iopub.status.idle": "2025-04-03T19:33:25.394494Z",
     "shell.execute_reply": "2025-04-03T19:33:25.394181Z"
    }
   },
   "outputs": [
    {
     "data": {
      "text/plain": [
       "0.09118176521277699"
      ]
     },
     "execution_count": 19,
     "metadata": {},
     "output_type": "execute_result"
    }
   ],
   "source": [
    "alpha_SE = boot_SE(alpha_func,\n",
    "                   Portfolio,\n",
    "                   B=1000,\n",
    "                   seed=0)\n",
    "alpha_SE\n"
   ]
  },
  {
   "cell_type": "markdown",
   "id": "6c5464d7",
   "metadata": {},
   "source": [
    "The final output shows that the bootstrap estimate for ${\\rm SE}(\\hat{\\alpha})$ is $0.0912$.\n",
    "\n",
    "### Estimating the Accuracy of a Linear Regression Model\n",
    "The bootstrap approach can be used to assess the variability of the\n",
    "coefficient estimates and predictions from a statistical learning\n",
    "method. Here we use the bootstrap approach in order to assess the\n",
    "variability of the estimates for $\\beta_0$ and $\\beta_1$, the\n",
    "intercept and slope terms for the linear regression model that uses\n",
    "`horsepower` to predict `mpg` in the  `Auto`  data set. We\n",
    "will compare the estimates obtained using the bootstrap to those\n",
    "obtained using the formulas for ${\\rm SE}(\\hat{\\beta}_0)$ and\n",
    "${\\rm SE}(\\hat{\\beta}_1)$ described in Section 3.1.2.\n",
    "\n",
    "To use our `boot_SE()` function, we must write a function (its\n",
    "first argument)\n",
    "that takes a data frame `D` and indices `idx`\n",
    "as its only arguments. But here we want to bootstrap a specific\n",
    "regression model, specified by a model formula and data. We show how\n",
    "to do this in a few simple steps.\n",
    "\n",
    "We start by writing a generic\n",
    "function `boot_OLS()` for bootstrapping a regression model that takes a formula to\n",
    "define the corresponding regression. We use the `clone()` function to\n",
    "make a copy of the formula that can be refit to the new dataframe. This means\n",
    "that any derived features such as those defined by `poly()`\n",
    "(which we will see shortly),\n",
    "will be re-fit on the resampled data frame."
   ]
  },
  {
   "cell_type": "code",
   "execution_count": 20,
   "id": "6bc11784",
   "metadata": {
    "execution": {
     "iopub.execute_input": "2025-04-03T19:33:25.396011Z",
     "iopub.status.busy": "2025-04-03T19:33:25.395917Z",
     "iopub.status.idle": "2025-04-03T19:33:25.397893Z",
     "shell.execute_reply": "2025-04-03T19:33:25.397676Z"
    },
    "lines_to_next_cell": 0
   },
   "outputs": [],
   "source": [
    "def boot_OLS(model_matrix, response, D, idx):\n",
    "    D_ = D.loc[idx]\n",
    "    Y_ = D_[response]\n",
    "    X_ = clone(model_matrix).fit_transform(D_)\n",
    "    return sm.OLS(Y_, X_).fit().params"
   ]
  },
  {
   "cell_type": "markdown",
   "id": "2a6ea3ce",
   "metadata": {},
   "source": [
    "This is not quite what is needed as the first argument to\n",
    "`boot_SE()`. The first two arguments which specify the model will not change in the\n",
    "bootstrap process, and we would like to *freeze* them.   The\n",
    "function `partial()` from the `functools` module  does precisely this: it takes a function\n",
    "as an argument, and freezes some of its arguments, starting from the\n",
    "left. We use it to freeze the first two model-formula arguments of `boot_OLS()`."
   ]
  },
  {
   "cell_type": "code",
   "execution_count": 21,
   "id": "740cd50c",
   "metadata": {
    "execution": {
     "iopub.execute_input": "2025-04-03T19:33:25.399076Z",
     "iopub.status.busy": "2025-04-03T19:33:25.398999Z",
     "iopub.status.idle": "2025-04-03T19:33:25.400599Z",
     "shell.execute_reply": "2025-04-03T19:33:25.400346Z"
    },
    "lines_to_next_cell": 0
   },
   "outputs": [],
   "source": [
    "hp_func = partial(boot_OLS, MS(['horsepower']), 'mpg')\n"
   ]
  },
  {
   "cell_type": "markdown",
   "id": "ed6d19e2",
   "metadata": {},
   "source": [
    "Typing `hp_func?` will show that it has two arguments `D`\n",
    "and `idx` --- it is a version of `boot_OLS()` with the first\n",
    "two arguments frozen --- and hence is ideal as the first argument for `boot_SE()`.\n",
    "\n",
    "The `hp_func()` function can now be used in order to create\n",
    "bootstrap estimates for the intercept and slope terms by randomly\n",
    "sampling from among the observations with replacement. We first\n",
    "demonstrate its utility on 10 bootstrap samples."
   ]
  },
  {
   "cell_type": "code",
   "execution_count": 22,
   "id": "ffb3ec50",
   "metadata": {
    "execution": {
     "iopub.execute_input": "2025-04-03T19:33:25.401753Z",
     "iopub.status.busy": "2025-04-03T19:33:25.401682Z",
     "iopub.status.idle": "2025-04-03T19:33:25.422622Z",
     "shell.execute_reply": "2025-04-03T19:33:25.422385Z"
    },
    "lines_to_next_cell": 0
   },
   "outputs": [
    {
     "data": {
      "text/plain": [
       "array([[39.12226577, -0.1555926 ],\n",
       "       [37.18648613, -0.13915813],\n",
       "       [37.46989244, -0.14112749],\n",
       "       [38.56723252, -0.14830116],\n",
       "       [38.95495707, -0.15315141],\n",
       "       [39.12563927, -0.15261044],\n",
       "       [38.45763251, -0.14767251],\n",
       "       [38.43372587, -0.15019447],\n",
       "       [37.87581142, -0.1409544 ],\n",
       "       [37.95949036, -0.1451333 ]])"
      ]
     },
     "execution_count": 22,
     "metadata": {},
     "output_type": "execute_result"
    }
   ],
   "source": [
    "rng = np.random.default_rng(0)\n",
    "np.array([hp_func(Auto,\n",
    "          rng.choice(Auto.index,\n",
    "                     392,\n",
    "                     replace=True)) for _ in range(10)])\n"
   ]
  },
  {
   "cell_type": "markdown",
   "id": "c6d09d96",
   "metadata": {},
   "source": [
    "Next, we use the `boot_SE()` {}  function to compute the standard\n",
    "errors of 1,000 bootstrap estimates for the intercept and slope terms."
   ]
  },
  {
   "cell_type": "code",
   "execution_count": 23,
   "id": "7d561f70",
   "metadata": {
    "execution": {
     "iopub.execute_input": "2025-04-03T19:33:25.423860Z",
     "iopub.status.busy": "2025-04-03T19:33:25.423786Z",
     "iopub.status.idle": "2025-04-03T19:33:27.089093Z",
     "shell.execute_reply": "2025-04-03T19:33:27.088869Z"
    },
    "lines_to_next_cell": 2
   },
   "outputs": [
    {
     "data": {
      "text/plain": [
       "intercept     0.731176\n",
       "horsepower    0.006092\n",
       "dtype: float64"
      ]
     },
     "execution_count": 23,
     "metadata": {},
     "output_type": "execute_result"
    }
   ],
   "source": [
    "hp_se = boot_SE(hp_func,\n",
    "                Auto,\n",
    "                B=1000,\n",
    "                seed=10)\n",
    "hp_se\n"
   ]
  },
  {
   "cell_type": "markdown",
   "id": "a834f240",
   "metadata": {},
   "source": [
    "This indicates that the bootstrap estimate for ${\\rm SE}(\\hat{\\beta}_0)$ is\n",
    "0.85, and that the bootstrap\n",
    "estimate for ${\\rm SE}(\\hat{\\beta}_1)$ is\n",
    "0.0074.  As discussed in\n",
    "Section 3.1.2, standard formulas can be used to compute\n",
    "the standard errors for the regression coefficients in a linear\n",
    "model. These can be obtained using the `summarize()`  function\n",
    "from `ISLP.sm`."
   ]
  },
  {
   "cell_type": "code",
   "execution_count": 24,
   "id": "3888aa0a",
   "metadata": {
    "execution": {
     "iopub.execute_input": "2025-04-03T19:33:27.090386Z",
     "iopub.status.busy": "2025-04-03T19:33:27.090313Z",
     "iopub.status.idle": "2025-04-03T19:33:27.106785Z",
     "shell.execute_reply": "2025-04-03T19:33:27.106554Z"
    },
    "lines_to_next_cell": 2
   },
   "outputs": [
    {
     "data": {
      "text/plain": [
       "intercept     0.717\n",
       "horsepower    0.006\n",
       "Name: std err, dtype: float64"
      ]
     },
     "execution_count": 24,
     "metadata": {},
     "output_type": "execute_result"
    }
   ],
   "source": [
    "hp_model.fit(Auto, Auto['mpg'])\n",
    "model_se = summarize(hp_model.results_)['std err']\n",
    "model_se\n"
   ]
  },
  {
   "cell_type": "markdown",
   "id": "aefc0575",
   "metadata": {},
   "source": [
    "The standard error estimates for $\\hat{\\beta}_0$ and $\\hat{\\beta}_1$\n",
    "obtained using the formulas  from Section 3.1.2  are\n",
    "0.717 for the\n",
    "intercept and\n",
    "0.006 for the\n",
    "slope. Interestingly, these are somewhat different from the estimates\n",
    "obtained using the bootstrap.  Does this indicate a problem with the\n",
    "bootstrap? In fact, it suggests the opposite.  Recall that the\n",
    "standard formulas given in\n",
    " {Equation 3.8 on page 75}\n",
    "rely on certain assumptions. For example,\n",
    "they depend on the unknown parameter $\\sigma^2$, the noise\n",
    "variance. We then estimate $\\sigma^2$ using the RSS. Now although the\n",
    "formulas for the standard errors do not rely on the linear model being\n",
    "correct, the estimate for $\\sigma^2$ does.  We see\n",
    " {in Figure 3.8 on page 99}  that there is\n",
    "a non-linear relationship in the data, and so the residuals from a\n",
    "linear fit will be inflated, and so will $\\hat{\\sigma}^2$.  Secondly,\n",
    "the standard formulas assume (somewhat unrealistically) that the $x_i$\n",
    "are fixed, and all the variability comes from the variation in the\n",
    "errors $\\epsilon_i$.  The bootstrap approach does not rely on any of\n",
    "these assumptions, and so it is likely giving a more accurate estimate\n",
    "of the standard errors of $\\hat{\\beta}_0$ and $\\hat{\\beta}_1$ than\n",
    "the results from `sm.OLS`.\n",
    "\n",
    "Below we compute the bootstrap standard error estimates and the\n",
    "standard linear regression estimates that result from fitting the\n",
    "quadratic model to the data. Since this model provides a good fit to\n",
    "the data (Figure 3.8), there is now a better\n",
    "correspondence between the bootstrap estimates and the standard\n",
    "estimates of ${\\rm SE}(\\hat{\\beta}_0)$, ${\\rm SE}(\\hat{\\beta}_1)$ and\n",
    "${\\rm SE}(\\hat{\\beta}_2)$."
   ]
  },
  {
   "cell_type": "code",
   "execution_count": 25,
   "id": "acc3e32c",
   "metadata": {
    "execution": {
     "iopub.execute_input": "2025-04-03T19:33:27.108124Z",
     "iopub.status.busy": "2025-04-03T19:33:27.108030Z",
     "iopub.status.idle": "2025-04-03T19:33:29.434320Z",
     "shell.execute_reply": "2025-04-03T19:33:29.434045Z"
    }
   },
   "outputs": [
    {
     "data": {
      "text/plain": [
       "intercept                                  1.538641\n",
       "poly(horsepower, degree=2, raw=True)[0]    0.024696\n",
       "poly(horsepower, degree=2, raw=True)[1]    0.000090\n",
       "dtype: float64"
      ]
     },
     "execution_count": 25,
     "metadata": {},
     "output_type": "execute_result"
    }
   ],
   "source": [
    "quad_model = MS([poly('horsepower', 2, raw=True)])\n",
    "quad_func = partial(boot_OLS,\n",
    "                    quad_model,\n",
    "                    'mpg')\n",
    "boot_SE(quad_func, Auto, B=1000)\n"
   ]
  },
  {
   "cell_type": "markdown",
   "id": "e8a2fd2b",
   "metadata": {},
   "source": [
    "We  compare the results to the standard errors computed using `sm.OLS()`."
   ]
  },
  {
   "cell_type": "code",
   "execution_count": 26,
   "id": "dca5340c",
   "metadata": {
    "execution": {
     "iopub.execute_input": "2025-04-03T19:33:29.435689Z",
     "iopub.status.busy": "2025-04-03T19:33:29.435602Z",
     "iopub.status.idle": "2025-04-03T19:33:29.444726Z",
     "shell.execute_reply": "2025-04-03T19:33:29.444464Z"
    },
    "lines_to_next_cell": 0
   },
   "outputs": [
    {
     "data": {
      "text/plain": [
       "intercept                                  1.800\n",
       "poly(horsepower, degree=2, raw=True)[0]    0.031\n",
       "poly(horsepower, degree=2, raw=True)[1]    0.000\n",
       "Name: std err, dtype: float64"
      ]
     },
     "execution_count": 26,
     "metadata": {},
     "output_type": "execute_result"
    }
   ],
   "source": [
    "M = sm.OLS(Auto['mpg'],\n",
    "           quad_model.fit_transform(Auto))\n",
    "summarize(M.fit())['std err']\n"
   ]
  },
  {
   "cell_type": "markdown",
   "id": "e98297be",
   "metadata": {},
   "source": [
    "\n",
    "\n"
   ]
  }
 ],
 "metadata": {
  "jupytext": {
   "cell_metadata_filter": "-all",
   "formats": "ipynb,Rmd",
   "main_language": "python"
  },
  "kernelspec": {
   "display_name": "ISLP_venv",
   "language": "python",
   "name": "python3"
  },
  "language_info": {
   "codemirror_mode": {
    "name": "ipython",
    "version": 3
   },
   "file_extension": ".py",
   "mimetype": "text/x-python",
   "name": "python",
   "nbconvert_exporter": "python",
   "pygments_lexer": "ipython3",
   "version": "3.11.11"
  }
 },
 "nbformat": 4,
 "nbformat_minor": 5
}
