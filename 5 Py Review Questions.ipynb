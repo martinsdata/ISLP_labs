{
 "cells": [
  {
   "cell_type": "code",
   "execution_count": 2,
   "id": "293f15c3",
   "metadata": {},
   "outputs": [],
   "source": [
    "import numpy as np\n",
    "import pandas as pd\n",
    "import statsmodels.api as sm\n",
    "from ISLP import load_data\n",
    "\n",
    "import scipy"
   ]
  },
  {
   "cell_type": "code",
   "execution_count": 36,
   "id": "4d2254da",
   "metadata": {},
   "outputs": [
    {
     "data": {
      "text/html": [
       "<div>\n",
       "<style scoped>\n",
       "    .dataframe tbody tr th:only-of-type {\n",
       "        vertical-align: middle;\n",
       "    }\n",
       "\n",
       "    .dataframe tbody tr th {\n",
       "        vertical-align: top;\n",
       "    }\n",
       "\n",
       "    .dataframe thead th {\n",
       "        text-align: right;\n",
       "    }\n",
       "</style>\n",
       "<table border=\"1\" class=\"dataframe\">\n",
       "  <thead>\n",
       "    <tr style=\"text-align: right;\">\n",
       "      <th></th>\n",
       "      <th>X1</th>\n",
       "      <th>X2</th>\n",
       "      <th>y</th>\n",
       "    </tr>\n",
       "  </thead>\n",
       "  <tbody>\n",
       "    <tr>\n",
       "      <th>0</th>\n",
       "      <td>1.297720</td>\n",
       "      <td>0.805921</td>\n",
       "      <td>0.298968</td>\n",
       "    </tr>\n",
       "    <tr>\n",
       "      <th>1</th>\n",
       "      <td>1.267323</td>\n",
       "      <td>0.799034</td>\n",
       "      <td>0.318134</td>\n",
       "    </tr>\n",
       "    <tr>\n",
       "      <th>2</th>\n",
       "      <td>1.236882</td>\n",
       "      <td>0.792169</td>\n",
       "      <td>0.337201</td>\n",
       "    </tr>\n",
       "    <tr>\n",
       "      <th>3</th>\n",
       "      <td>1.206317</td>\n",
       "      <td>0.785296</td>\n",
       "      <td>0.356121</td>\n",
       "    </tr>\n",
       "    <tr>\n",
       "      <th>4</th>\n",
       "      <td>1.175553</td>\n",
       "      <td>0.778385</td>\n",
       "      <td>0.374842</td>\n",
       "    </tr>\n",
       "    <tr>\n",
       "      <th>...</th>\n",
       "      <td>...</td>\n",
       "      <td>...</td>\n",
       "      <td>...</td>\n",
       "    </tr>\n",
       "    <tr>\n",
       "      <th>995</th>\n",
       "      <td>-0.771835</td>\n",
       "      <td>0.809153</td>\n",
       "      <td>0.202607</td>\n",
       "    </tr>\n",
       "    <tr>\n",
       "      <th>996</th>\n",
       "      <td>-0.770044</td>\n",
       "      <td>0.888314</td>\n",
       "      <td>0.212606</td>\n",
       "    </tr>\n",
       "    <tr>\n",
       "      <th>997</th>\n",
       "      <td>-0.768427</td>\n",
       "      <td>0.967673</td>\n",
       "      <td>0.222502</td>\n",
       "    </tr>\n",
       "    <tr>\n",
       "      <th>998</th>\n",
       "      <td>-0.766932</td>\n",
       "      <td>1.047105</td>\n",
       "      <td>0.232284</td>\n",
       "    </tr>\n",
       "    <tr>\n",
       "      <th>999</th>\n",
       "      <td>-0.765507</td>\n",
       "      <td>1.126486</td>\n",
       "      <td>0.241943</td>\n",
       "    </tr>\n",
       "  </tbody>\n",
       "</table>\n",
       "<p>1000 rows × 3 columns</p>\n",
       "</div>"
      ],
      "text/plain": [
       "           X1        X2         y\n",
       "0    1.297720  0.805921  0.298968\n",
       "1    1.267323  0.799034  0.318134\n",
       "2    1.236882  0.792169  0.337201\n",
       "3    1.206317  0.785296  0.356121\n",
       "4    1.175553  0.778385  0.374842\n",
       "..        ...       ...       ...\n",
       "995 -0.771835  0.809153  0.202607\n",
       "996 -0.770044  0.888314  0.212606\n",
       "997 -0.768427  0.967673  0.222502\n",
       "998 -0.766932  1.047105  0.232284\n",
       "999 -0.765507  1.126486  0.241943\n",
       "\n",
       "[1000 rows x 3 columns]"
      ]
     },
     "execution_count": 36,
     "metadata": {},
     "output_type": "execute_result"
    }
   ],
   "source": [
    "df = pd.read_csv(\"C:/Users/danie/Projects/ISLP_labs/5.Py.1.csv\")\n",
    "df"
   ]
  },
  {
   "cell_type": "code",
   "execution_count": 37,
   "id": "d3eb7d13",
   "metadata": {},
   "outputs": [
    {
     "data": {
      "text/html": [
       "<table class=\"simpletable\">\n",
       "<caption>OLS Regression Results</caption>\n",
       "<tr>\n",
       "  <th>Dep. Variable:</th>            <td>y</td>        <th>  R-squared:         </th> <td>   0.117</td>\n",
       "</tr>\n",
       "<tr>\n",
       "  <th>Model:</th>                   <td>OLS</td>       <th>  Adj. R-squared:    </th> <td>   0.115</td>\n",
       "</tr>\n",
       "<tr>\n",
       "  <th>Method:</th>             <td>Least Squares</td>  <th>  F-statistic:       </th> <td>   66.14</td>\n",
       "</tr>\n",
       "<tr>\n",
       "  <th>Date:</th>             <td>Wed, 28 May 2025</td> <th>  Prob (F-statistic):</th> <td>1.06e-27</td>\n",
       "</tr>\n",
       "<tr>\n",
       "  <th>Time:</th>                 <td>06:26:00</td>     <th>  Log-Likelihood:    </th> <td> -810.66</td>\n",
       "</tr>\n",
       "<tr>\n",
       "  <th>No. Observations:</th>      <td>  1000</td>      <th>  AIC:               </th> <td>   1627.</td>\n",
       "</tr>\n",
       "<tr>\n",
       "  <th>Df Residuals:</th>          <td>   997</td>      <th>  BIC:               </th> <td>   1642.</td>\n",
       "</tr>\n",
       "<tr>\n",
       "  <th>Df Model:</th>              <td>     2</td>      <th>                     </th>     <td> </td>   \n",
       "</tr>\n",
       "<tr>\n",
       "  <th>Covariance Type:</th>      <td>nonrobust</td>    <th>                     </th>     <td> </td>   \n",
       "</tr>\n",
       "</table>\n",
       "<table class=\"simpletable\">\n",
       "<tr>\n",
       "    <td></td>       <th>coef</th>     <th>std err</th>      <th>t</th>      <th>P>|t|</th>  <th>[0.025</th>    <th>0.975]</th>  \n",
       "</tr>\n",
       "<tr>\n",
       "  <th>const</th> <td>    0.2658</td> <td>    0.020</td> <td>   13.372</td> <td> 0.000</td> <td>    0.227</td> <td>    0.305</td>\n",
       "</tr>\n",
       "<tr>\n",
       "  <th>X1</th>    <td>    0.1453</td> <td>    0.026</td> <td>    5.604</td> <td> 0.000</td> <td>    0.094</td> <td>    0.196</td>\n",
       "</tr>\n",
       "<tr>\n",
       "  <th>X2</th>    <td>    0.3134</td> <td>    0.029</td> <td>   10.722</td> <td> 0.000</td> <td>    0.256</td> <td>    0.371</td>\n",
       "</tr>\n",
       "</table>\n",
       "<table class=\"simpletable\">\n",
       "<tr>\n",
       "  <th>Omnibus:</th>       <td> 9.703</td> <th>  Durbin-Watson:     </th> <td>   0.002</td>\n",
       "</tr>\n",
       "<tr>\n",
       "  <th>Prob(Omnibus):</th> <td> 0.008</td> <th>  Jarque-Bera (JB):  </th> <td>  13.694</td>\n",
       "</tr>\n",
       "<tr>\n",
       "  <th>Skew:</th>          <td>-0.065</td> <th>  Prob(JB):          </th> <td> 0.00106</td>\n",
       "</tr>\n",
       "<tr>\n",
       "  <th>Kurtosis:</th>      <td> 3.558</td> <th>  Cond. No.          </th> <td>    2.01</td>\n",
       "</tr>\n",
       "</table><br/><br/>Notes:<br/>[1] Standard Errors assume that the covariance matrix of the errors is correctly specified."
      ],
      "text/latex": [
       "\\begin{center}\n",
       "\\begin{tabular}{lclc}\n",
       "\\toprule\n",
       "\\textbf{Dep. Variable:}    &        y         & \\textbf{  R-squared:         } &     0.117   \\\\\n",
       "\\textbf{Model:}            &       OLS        & \\textbf{  Adj. R-squared:    } &     0.115   \\\\\n",
       "\\textbf{Method:}           &  Least Squares   & \\textbf{  F-statistic:       } &     66.14   \\\\\n",
       "\\textbf{Date:}             & Wed, 28 May 2025 & \\textbf{  Prob (F-statistic):} &  1.06e-27   \\\\\n",
       "\\textbf{Time:}             &     06:26:00     & \\textbf{  Log-Likelihood:    } &   -810.66   \\\\\n",
       "\\textbf{No. Observations:} &        1000      & \\textbf{  AIC:               } &     1627.   \\\\\n",
       "\\textbf{Df Residuals:}     &         997      & \\textbf{  BIC:               } &     1642.   \\\\\n",
       "\\textbf{Df Model:}         &           2      & \\textbf{                     } &             \\\\\n",
       "\\textbf{Covariance Type:}  &    nonrobust     & \\textbf{                     } &             \\\\\n",
       "\\bottomrule\n",
       "\\end{tabular}\n",
       "\\begin{tabular}{lcccccc}\n",
       "               & \\textbf{coef} & \\textbf{std err} & \\textbf{t} & \\textbf{P$> |$t$|$} & \\textbf{[0.025} & \\textbf{0.975]}  \\\\\n",
       "\\midrule\n",
       "\\textbf{const} &       0.2658  &        0.020     &    13.372  &         0.000        &        0.227    &        0.305     \\\\\n",
       "\\textbf{X1}    &       0.1453  &        0.026     &     5.604  &         0.000        &        0.094    &        0.196     \\\\\n",
       "\\textbf{X2}    &       0.3134  &        0.029     &    10.722  &         0.000        &        0.256    &        0.371     \\\\\n",
       "\\bottomrule\n",
       "\\end{tabular}\n",
       "\\begin{tabular}{lclc}\n",
       "\\textbf{Omnibus:}       &  9.703 & \\textbf{  Durbin-Watson:     } &    0.002  \\\\\n",
       "\\textbf{Prob(Omnibus):} &  0.008 & \\textbf{  Jarque-Bera (JB):  } &   13.694  \\\\\n",
       "\\textbf{Skew:}          & -0.065 & \\textbf{  Prob(JB):          } &  0.00106  \\\\\n",
       "\\textbf{Kurtosis:}      &  3.558 & \\textbf{  Cond. No.          } &     2.01  \\\\\n",
       "\\bottomrule\n",
       "\\end{tabular}\n",
       "%\\caption{OLS Regression Results}\n",
       "\\end{center}\n",
       "\n",
       "Notes: \\newline\n",
       " [1] Standard Errors assume that the covariance matrix of the errors is correctly specified."
      ],
      "text/plain": [
       "<class 'statsmodels.iolib.summary.Summary'>\n",
       "\"\"\"\n",
       "                            OLS Regression Results                            \n",
       "==============================================================================\n",
       "Dep. Variable:                      y   R-squared:                       0.117\n",
       "Model:                            OLS   Adj. R-squared:                  0.115\n",
       "Method:                 Least Squares   F-statistic:                     66.14\n",
       "Date:                Wed, 28 May 2025   Prob (F-statistic):           1.06e-27\n",
       "Time:                        06:26:00   Log-Likelihood:                -810.66\n",
       "No. Observations:                1000   AIC:                             1627.\n",
       "Df Residuals:                     997   BIC:                             1642.\n",
       "Df Model:                           2                                         \n",
       "Covariance Type:            nonrobust                                         \n",
       "==============================================================================\n",
       "                 coef    std err          t      P>|t|      [0.025      0.975]\n",
       "------------------------------------------------------------------------------\n",
       "const          0.2658      0.020     13.372      0.000       0.227       0.305\n",
       "X1             0.1453      0.026      5.604      0.000       0.094       0.196\n",
       "X2             0.3134      0.029     10.722      0.000       0.256       0.371\n",
       "==============================================================================\n",
       "Omnibus:                        9.703   Durbin-Watson:                   0.002\n",
       "Prob(Omnibus):                  0.008   Jarque-Bera (JB):               13.694\n",
       "Skew:                          -0.065   Prob(JB):                      0.00106\n",
       "Kurtosis:                       3.558   Cond. No.                         2.01\n",
       "==============================================================================\n",
       "\n",
       "Notes:\n",
       "[1] Standard Errors assume that the covariance matrix of the errors is correctly specified.\n",
       "\"\"\""
      ]
     },
     "execution_count": 37,
     "metadata": {},
     "output_type": "execute_result"
    }
   ],
   "source": [
    "y = df['y']    # output variable, the median value of owner-occupied homes in $1000s\n",
    "X = df[['X1', 'X2']]  # input variables\n",
    "X = sm.add_constant(X)  # add intercept term\n",
    "regressor_OLS = sm.OLS(y, X)  # We create a model object from statsmodels ordinary least squares regression\n",
    "fitted = regressor_OLS.fit() # We fit the model to the data\n",
    "fitted.summary()"
   ]
  },
  {
   "cell_type": "code",
   "execution_count": 38,
   "id": "ae260f32",
   "metadata": {},
   "outputs": [
    {
     "data": {
      "text/plain": [
       "<Axes: >"
      ]
     },
     "execution_count": 38,
     "metadata": {},
     "output_type": "execute_result"
    },
    {
     "data": {
      "image/png": "[encoded data removed]",
      "text/plain": [
       "<Figure size 640x480 with 1 Axes>"
      ]
     },
     "metadata": {},
     "output_type": "display_data"
    }
   ],
   "source": [
    "df.plot()"
   ]
  },
  {
   "cell_type": "code",
   "execution_count": 39,
   "id": "d805d334",
   "metadata": {},
   "outputs": [
    {
     "data": {
      "text/plain": [
       "Index(['X1', 'X2', 'y'], dtype='object')"
      ]
     },
     "execution_count": 39,
     "metadata": {},
     "output_type": "execute_result"
    }
   ],
   "source": [
    "df.columns"
   ]
  },
  {
   "cell_type": "markdown",
   "id": "3d9602a0",
   "metadata": {},
   "source": [
    "$$\n",
    "    \\hat α = \\frac{\\hat σ^2_Y − \\hat σ_{XY}}{\\hat σ^2_X + \\hat σ^2_Y − 2\\hat σ_{XY}}\n",
    "$$\n"
   ]
  },
  {
   "cell_type": "code",
   "execution_count": 40,
   "id": "870ab08a",
   "metadata": {},
   "outputs": [],
   "source": [
    "def beta1_func(df, idx):\n",
    "    X = df.loc[idx, ['X1', 'X2']]\n",
    "    y = df.loc[idx, 'y']\n",
    "    X = sm.add_constant(X)\n",
    "    model = sm.OLS(y, X).fit()\n",
    "    return model.params['X1']"
   ]
  },
  {
   "cell_type": "code",
   "execution_count": 41,
   "id": "272b26b0",
   "metadata": {},
   "outputs": [
    {
     "data": {
      "text/plain": [
       "(1000, 3)"
      ]
     },
     "execution_count": 41,
     "metadata": {},
     "output_type": "execute_result"
    }
   ],
   "source": [
    "df.shape"
   ]
  },
  {
   "cell_type": "code",
   "execution_count": 42,
   "id": "51eb8cde",
   "metadata": {},
   "outputs": [],
   "source": [
    "def boot_SE(func,\n",
    "            df,\n",
    "            n=None,\n",
    "            B=1000,\n",
    "            seed=0):\n",
    "    \n",
    "    rng = np.random.default_rng(seed)\n",
    "    \n",
    "    first_, second_ = 0, 0\n",
    "    \n",
    "    n = n or df.shape[0]\n",
    "    \n",
    "    for _ in range(B):\n",
    "        i = rng.choice(df.index,\n",
    "                         n,\n",
    "                         replace=True)\n",
    "        value = func(df, i)\n",
    "        first_ += value\n",
    "        second_ += value**2\n",
    "    \n",
    "    return np.sqrt(second_ / B - (first_ / B)**2)"
   ]
  },
  {
   "cell_type": "code",
   "execution_count": 43,
   "id": "3247cc7b",
   "metadata": {},
   "outputs": [
    {
     "data": {
      "text/plain": [
       "0.02812391371830118"
      ]
     },
     "execution_count": 43,
     "metadata": {},
     "output_type": "execute_result"
    }
   ],
   "source": [
    "boot_SE(beta1_func, df)"
   ]
  },
  {
   "cell_type": "code",
   "execution_count": 44,
   "id": "7befab3a",
   "metadata": {},
   "outputs": [],
   "source": [
    "new_rows = np.r_[\n",
    "    slice(0,100),\n",
    "    slice(100,200),\n",
    "    slice(200,300), \n",
    "    slice(300,400), \n",
    "    slice(400,500),\n",
    "    slice(500,600), \n",
    "    slice(600,700), \n",
    "    slice(700,800),\n",
    "    slice(800,900), \n",
    "    slice(900,1000),\n",
    "]\n",
    "\n",
    "new_df = df.iloc[new_rows]\n"
   ]
  },
  {
   "cell_type": "code",
   "execution_count": 45,
   "id": "14081d10",
   "metadata": {},
   "outputs": [],
   "source": [
    "def boot_SE_block(func,\n",
    "                   df,\n",
    "                   block_size,\n",
    "                   n_blocks=None,\n",
    "                   B=1000,\n",
    "                   seed=0):\n",
    "\n",
    "    rng = np.random.default_rng(seed)\n",
    "\n",
    "    n_total_rows = df.shape[0]\n",
    "\n",
    "    num_available_blocks = n_total_rows // block_size\n",
    "\n",
    "    if n_blocks is None:\n",
    "        n_blocks = num_available_blocks\n",
    "    elif n_blocks > num_available_blocks:\n",
    "        raise ValueError(f\"n_blocks ({n_blocks}) cannot be greater than the number of available blocks ({num_available_blocks}).\")\n",
    "\n",
    "    first_, second_ = 0, 0\n",
    "\n",
    "    for _ in range(B):\n",
    "        # Randomly choose n_blocks with replacement\n",
    "        sampled_block_indices = rng.choice(np.arange(num_available_blocks), size=n_blocks, replace=True)\n",
    "\n",
    "        # Get the row indices corresponding to the sampled blocks\n",
    "        indices = []\n",
    "        for block_index in sampled_block_indices:\n",
    "            start_index = block_index * block_size\n",
    "            end_index = min((block_index + 1) * block_size, n_total_rows) # Handle the last block\n",
    "            indices.extend(range(start_index, end_index))\n",
    "\n",
    "        # Ensure we sample exactly n_blocks * block_size (or less for the last block) rows\n",
    "        sampled_df = df.iloc[indices]\n",
    "\n",
    "        # Apply the function to the resampled data\n",
    "        value = func(sampled_df, sampled_df.index) # Pass the index of the resampled df\n",
    "        first_ += value\n",
    "        second_ += value**2\n",
    "\n",
    "    return np.sqrt(second_ / B - (first_ / B)**2)"
   ]
  },
  {
   "cell_type": "code",
   "execution_count": 46,
   "id": "8e97411a",
   "metadata": {},
   "outputs": [
    {
     "name": "stdout",
     "output_type": "stream",
     "text": [
      "Standard Error (Block Bootstrap, block size=100, n_blocks=10): 0.2430\n",
      "Standard Error (Original Bootstrap): 0.0281\n"
     ]
    }
   ],
   "source": [
    "# Example Usage with your DataFrame (assuming df is already defined)\n",
    "np.random.seed(0)\n",
    "\n",
    "\"\"\"\n",
    "df = pd.DataFrame({'y': np.random.rand(1000),\n",
    "                   'X1': np.random.rand(1000),\n",
    "                   'X2': np.random.rand(1000)})\n",
    "\"\"\"\n",
    "\n",
    "block_size = 100\n",
    "n_blocks_to_resample = 10\n",
    "\n",
    "# Calculate the standard error using block bootstrapping\n",
    "se_block = boot_SE_block(beta1_func, \n",
    "                         new_df, \n",
    "                         block_size, \n",
    "                         n_blocks=n_blocks_to_resample, \n",
    "                         B=1000, \n",
    "                         seed=0\n",
    "                        )\n",
    "\n",
    "print(f\"Standard Error (Block Bootstrap, block size={block_size}, n_blocks={n_blocks_to_resample}): {se_block:.4f}\")\n",
    "\n",
    "# Calculate the standard error using the original bootstrap for comparison\n",
    "se_original = boot_SE(beta1_func, df, B=1000, seed=0)\n",
    "print(f\"Standard Error (Original Bootstrap): {se_original:.4f}\")"
   ]
  }
 ],
 "metadata": {
  "kernelspec": {
   "display_name": "ISLP_venv",
   "language": "python",
   "name": "python3"
  },
  "language_info": {
   "codemirror_mode": {
    "name": "ipython",
    "version": 3
   },
   "file_extension": ".py",
   "mimetype": "text/x-python",
   "name": "python",
   "nbconvert_exporter": "python",
   "pygments_lexer": "ipython3",
   "version": "3.11.11"
  }
 },
 "nbformat": 4,
 "nbformat_minor": 5
}
